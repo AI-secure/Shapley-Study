{
 "cells": [
  {
   "cell_type": "markdown",
   "metadata": {},
   "source": [
    "# Noisy Label Detection"
   ]
  },
  {
   "cell_type": "code",
   "execution_count": 1,
   "metadata": {},
   "outputs": [
    {
     "name": "stderr",
     "output_type": "stream",
     "text": [
      "/home/zidaneandmessi/.local/lib/python3.6/site-packages/tensorflow/python/framework/dtypes.py:516: FutureWarning: Passing (type, 1) or '1type' as a synonym of type is deprecated; in a future version of numpy, it will be understood as (type, (1,)) / '(1,)type'.\n",
      "  _np_qint8 = np.dtype([(\"qint8\", np.int8, 1)])\n",
      "/home/zidaneandmessi/.local/lib/python3.6/site-packages/tensorflow/python/framework/dtypes.py:517: FutureWarning: Passing (type, 1) or '1type' as a synonym of type is deprecated; in a future version of numpy, it will be understood as (type, (1,)) / '(1,)type'.\n",
      "  _np_quint8 = np.dtype([(\"quint8\", np.uint8, 1)])\n",
      "/home/zidaneandmessi/.local/lib/python3.6/site-packages/tensorflow/python/framework/dtypes.py:518: FutureWarning: Passing (type, 1) or '1type' as a synonym of type is deprecated; in a future version of numpy, it will be understood as (type, (1,)) / '(1,)type'.\n",
      "  _np_qint16 = np.dtype([(\"qint16\", np.int16, 1)])\n",
      "/home/zidaneandmessi/.local/lib/python3.6/site-packages/tensorflow/python/framework/dtypes.py:519: FutureWarning: Passing (type, 1) or '1type' as a synonym of type is deprecated; in a future version of numpy, it will be understood as (type, (1,)) / '(1,)type'.\n",
      "  _np_quint16 = np.dtype([(\"quint16\", np.uint16, 1)])\n",
      "/home/zidaneandmessi/.local/lib/python3.6/site-packages/tensorflow/python/framework/dtypes.py:520: FutureWarning: Passing (type, 1) or '1type' as a synonym of type is deprecated; in a future version of numpy, it will be understood as (type, (1,)) / '(1,)type'.\n",
      "  _np_qint32 = np.dtype([(\"qint32\", np.int32, 1)])\n",
      "/home/zidaneandmessi/.local/lib/python3.6/site-packages/tensorflow/python/framework/dtypes.py:525: FutureWarning: Passing (type, 1) or '1type' as a synonym of type is deprecated; in a future version of numpy, it will be understood as (type, (1,)) / '(1,)type'.\n",
      "  np_resource = np.dtype([(\"resource\", np.ubyte, 1)])\n",
      "/home/zidaneandmessi/.local/lib/python3.6/site-packages/tensorboard/compat/tensorflow_stub/dtypes.py:541: FutureWarning: Passing (type, 1) or '1type' as a synonym of type is deprecated; in a future version of numpy, it will be understood as (type, (1,)) / '(1,)type'.\n",
      "  _np_qint8 = np.dtype([(\"qint8\", np.int8, 1)])\n",
      "/home/zidaneandmessi/.local/lib/python3.6/site-packages/tensorboard/compat/tensorflow_stub/dtypes.py:542: FutureWarning: Passing (type, 1) or '1type' as a synonym of type is deprecated; in a future version of numpy, it will be understood as (type, (1,)) / '(1,)type'.\n",
      "  _np_quint8 = np.dtype([(\"quint8\", np.uint8, 1)])\n",
      "/home/zidaneandmessi/.local/lib/python3.6/site-packages/tensorboard/compat/tensorflow_stub/dtypes.py:543: FutureWarning: Passing (type, 1) or '1type' as a synonym of type is deprecated; in a future version of numpy, it will be understood as (type, (1,)) / '(1,)type'.\n",
      "  _np_qint16 = np.dtype([(\"qint16\", np.int16, 1)])\n",
      "/home/zidaneandmessi/.local/lib/python3.6/site-packages/tensorboard/compat/tensorflow_stub/dtypes.py:544: FutureWarning: Passing (type, 1) or '1type' as a synonym of type is deprecated; in a future version of numpy, it will be understood as (type, (1,)) / '(1,)type'.\n",
      "  _np_quint16 = np.dtype([(\"quint16\", np.uint16, 1)])\n",
      "/home/zidaneandmessi/.local/lib/python3.6/site-packages/tensorboard/compat/tensorflow_stub/dtypes.py:545: FutureWarning: Passing (type, 1) or '1type' as a synonym of type is deprecated; in a future version of numpy, it will be understood as (type, (1,)) / '(1,)type'.\n",
      "  _np_qint32 = np.dtype([(\"qint32\", np.int32, 1)])\n",
      "/home/zidaneandmessi/.local/lib/python3.6/site-packages/tensorboard/compat/tensorflow_stub/dtypes.py:550: FutureWarning: Passing (type, 1) or '1type' as a synonym of type is deprecated; in a future version of numpy, it will be understood as (type, (1,)) / '(1,)type'.\n",
      "  np_resource = np.dtype([(\"resource\", np.ubyte, 1)])\n",
      "In /home/zidaneandmessi/.local/lib/python3.6/site-packages/matplotlib/mpl-data/stylelib/_classic_test.mplstyle: \n",
      "The text.latex.preview rcparam was deprecated in Matplotlib 3.3 and will be removed two minor releases later.\n",
      "In /home/zidaneandmessi/.local/lib/python3.6/site-packages/matplotlib/mpl-data/stylelib/_classic_test.mplstyle: \n",
      "The mathtext.fallback_to_cm rcparam was deprecated in Matplotlib 3.3 and will be removed two minor releases later.\n",
      "In /home/zidaneandmessi/.local/lib/python3.6/site-packages/matplotlib/mpl-data/stylelib/_classic_test.mplstyle: Support for setting the 'mathtext.fallback_to_cm' rcParam is deprecated since 3.3 and will be removed two minor releases later; use 'mathtext.fallback : 'cm' instead.\n",
      "In /home/zidaneandmessi/.local/lib/python3.6/site-packages/matplotlib/mpl-data/stylelib/_classic_test.mplstyle: \n",
      "The validate_bool_maybe_none function was deprecated in Matplotlib 3.3 and will be removed two minor releases later.\n",
      "In /home/zidaneandmessi/.local/lib/python3.6/site-packages/matplotlib/mpl-data/stylelib/_classic_test.mplstyle: \n",
      "The savefig.jpeg_quality rcparam was deprecated in Matplotlib 3.3 and will be removed two minor releases later.\n",
      "In /home/zidaneandmessi/.local/lib/python3.6/site-packages/matplotlib/mpl-data/stylelib/_classic_test.mplstyle: \n",
      "The keymap.all_axes rcparam was deprecated in Matplotlib 3.3 and will be removed two minor releases later.\n",
      "In /home/zidaneandmessi/.local/lib/python3.6/site-packages/matplotlib/mpl-data/stylelib/_classic_test.mplstyle: \n",
      "The animation.avconv_path rcparam was deprecated in Matplotlib 3.3 and will be removed two minor releases later.\n",
      "In /home/zidaneandmessi/.local/lib/python3.6/site-packages/matplotlib/mpl-data/stylelib/_classic_test.mplstyle: \n",
      "The animation.avconv_args rcparam was deprecated in Matplotlib 3.3 and will be removed two minor releases later.\n"
     ]
    }
   ],
   "source": [
    "#!/usr/bin/python\n",
    "from __future__ import absolute_import\n",
    "\n",
    "import numpy as np\n",
    "from tensorflow import keras\n",
    "import pickle\n",
    "import argparse\n",
    "import copy\n",
    "import random\n",
    "\n",
    "from shapley.apps import Label, Poisoning\n",
    "from shapley.loader import FashionMnist, MNIST\n",
    "from shapley.measures import KNN_Shapley, KNN_LOO, G_Shapley, LOO, TMC_Shapley\n",
    "from shapley.utils.plotter import LabelPlotter, PoisoningPlotter\n",
    "\n",
    "%matplotlib inline"
   ]
  },
  {
   "cell_type": "markdown",
   "metadata": {},
   "source": [
    "##### data loading"
   ]
  },
  {
   "cell_type": "code",
   "execution_count": 2,
   "metadata": {},
   "outputs": [],
   "source": [
    "num = 1000\n",
    "#loader = MNIST(num_train=num, one_hot=False, shuffle=True, by_label=True)\n",
    "loader = FashionMnist(num_train=num)\n",
    "X_data, y_data, X_test_data, y_test_data = loader.prepare_data()"
   ]
  },
  {
   "cell_type": "markdown",
   "metadata": {},
   "source": [
    "###### measure"
   ]
  },
  {
   "cell_type": "code",
   "execution_count": 3,
   "metadata": {},
   "outputs": [],
   "source": [
    "measure_KNN = KNN_Shapley(K=5)\n",
    "measure_KNNLOO = KNN_LOO(K=5)\n",
    "# measure = G_Shapley()\n",
    "# measure = TMC_Shapley()\n",
    "# measure = LOO()"
   ]
  },
  {
   "cell_type": "markdown",
   "metadata": {},
   "source": [
    "##### application"
   ]
  },
  {
   "cell_type": "code",
   "execution_count": 4,
   "metadata": {},
   "outputs": [],
   "source": [
    "app = Label(X_data, y_data, X_test_data, y_test_data, model_family='NN')"
   ]
  },
  {
   "cell_type": "markdown",
   "metadata": {},
   "source": [
    "##### run"
   ]
  },
  {
   "cell_type": "code",
   "execution_count": 5,
   "metadata": {
    "scrolled": false
   },
   "outputs": [
    {
     "name": "stdout",
     "output_type": "stream",
     "text": [
      "done!\n",
      "result shown below:\n",
      "[ 2.85625283e-03 -2.85218968e-03  1.39548673e-03  2.66676983e-04\n",
      " -1.28743504e-03  5.76739354e-04 -2.05308622e-03  4.13303724e-04\n",
      "  5.31940735e-04  1.16821559e-03  3.81854478e-04 -1.82827430e-04\n",
      "  8.16496141e-04  1.45429306e-03  2.03047688e-04 -6.65779315e-04\n",
      "  7.37733418e-04  3.29546540e-04  8.87218993e-04  1.74426617e-03\n",
      "  1.71671680e-03 -1.59368968e-03 -7.43146386e-05  5.41803425e-04\n",
      "  3.22182693e-04  1.31621324e-03  6.72747681e-04  1.91181835e-03\n",
      "  1.41941236e-03 -2.31525186e-04  3.73800101e-04  1.67961336e-04\n",
      " -8.40005507e-04  1.44887604e-03 -2.98921277e-04  6.88700642e-04\n",
      "  1.61582553e-03 -4.76152963e-03  3.77494314e-04  1.57183793e-03\n",
      "  3.61760481e-04  1.62325840e-03  1.13816405e-03  2.20472361e-03\n",
      " -7.26519294e-04  3.45798177e-04  1.01852159e-03  1.66160216e-03\n",
      " -6.99899566e-04 -4.69222595e-04 -1.94668122e-03  4.98011145e-04\n",
      "  3.80786287e-04  6.22160686e-04  1.77746715e-03  3.93685526e-04\n",
      "  1.77096725e-03  3.02759490e-04  1.72323462e-03  5.56030412e-04\n",
      "  1.36253017e-03  1.12791304e-03  1.06662644e-03  1.75255170e-04\n",
      " -5.04080048e-04 -7.39221431e-04  4.88119708e-04  2.40359889e-04\n",
      "  2.89573464e-04  7.22582428e-06  1.49806896e-03  1.84561207e-03\n",
      "  2.44584880e-04  1.49057052e-03  1.37542089e-03  2.48064930e-03\n",
      "  1.90688967e-03  4.97306146e-04  4.10201727e-04  1.95076059e-03\n",
      "  4.70393366e-04  1.15301039e-03  1.58216404e-04 -1.22693293e-03\n",
      "  2.14636784e-03  2.15930897e-03  4.73893982e-04  2.80031209e-04\n",
      "  1.71040358e-03  2.28106537e-04  1.78009989e-03  1.65825268e-03\n",
      "  1.05011363e-03  9.28599126e-04  4.95928055e-04  5.76557619e-04\n",
      " -1.93184954e-03 -1.53380947e-03 -4.53350110e-03 -3.73002264e-04\n",
      "  1.26002702e-03  1.31111078e-03  4.24006116e-04  1.20861108e-03\n",
      "  4.14828052e-04  1.19626583e-03 -2.74363142e-03  1.14639434e-03\n",
      "  2.12260825e-04  3.78132691e-04 -2.55887175e-04  2.19965456e-03\n",
      "  1.53893882e-03 -1.34781223e-03  1.02675290e-04  1.69996567e-03\n",
      "  9.41541771e-04  3.67404035e-04  1.33529577e-03  4.70561732e-04\n",
      "  4.51191808e-04 -7.49626419e-04  1.47811562e-03 -2.69462246e-03\n",
      " -1.90887981e-03 -1.32077166e-04 -4.14207422e-05  2.99972898e-04\n",
      "  5.35073204e-04  1.29531420e-04  1.30060854e-03  2.00235519e-03\n",
      " -1.66599600e-03  1.37061229e-03  3.48947031e-04  1.26623436e-03\n",
      "  1.85331750e-03  1.17745176e-03 -5.83383946e-04  2.21397728e-03\n",
      "  9.36907612e-04  1.30540235e-03  3.22533665e-04  1.68402543e-03\n",
      "  7.29504447e-04 -1.10131479e-03  4.47872748e-05  6.49348485e-04\n",
      " -2.42363602e-03  3.90923655e-04  1.11417378e-03  4.11841364e-04\n",
      "  1.03524065e-03  1.12391612e-03  9.58426038e-04  3.95188462e-04\n",
      "  3.69466132e-04  2.18048924e-03  1.49175100e-03  1.70354604e-03\n",
      "  1.40316368e-03  5.21255615e-04  1.90061455e-04  1.46889909e-03\n",
      "  1.52143336e-03  5.93917470e-04  5.38692388e-04 -2.96554101e-04\n",
      "  7.51602514e-04  2.58666462e-04  1.51903013e-03  1.51776092e-03\n",
      "  2.94218096e-04  1.12714945e-03  4.65495666e-04  8.80382080e-04\n",
      "  1.69170183e-03  1.94681144e-03  5.97333671e-04  1.44056148e-03\n",
      "  2.01083263e-03  1.52372279e-03  1.75727580e-03  6.63553149e-04\n",
      "  1.00606812e-03  3.96518492e-04  1.98696753e-05  1.14525153e-03\n",
      "  2.63243807e-04  1.61230733e-03  1.91789918e-03  1.56000291e-03\n",
      "  1.07244716e-03  1.53656838e-03  1.92166432e-03 -2.77110833e-03\n",
      " -1.84600519e-03  2.52156853e-03  6.28705244e-04  2.07713068e-03\n",
      " -5.16364120e-04  6.51288190e-04 -3.16095694e-04 -9.36658523e-04\n",
      "  2.71004758e-04  5.73179705e-04  1.24902444e-03 -9.87727624e-04\n",
      " -7.25523668e-05  5.53845741e-04  7.68878175e-04 -2.41392561e-03\n",
      "  2.48367379e-03 -3.42427390e-03  1.21087749e-03  2.16034619e-03\n",
      "  1.72588681e-03  8.81618739e-04  1.13509227e-03  4.13658664e-04\n",
      "  1.44973347e-03  4.21813949e-04  5.28824700e-04  5.17837787e-04\n",
      "  2.70111684e-04 -1.20385194e-03  1.37921961e-03  3.37210777e-04\n",
      "  1.45150805e-03  2.36824191e-04  2.62268556e-04  1.52831590e-03\n",
      "  3.62476368e-03 -3.72491497e-03  7.88742116e-04  1.21347972e-03\n",
      "  2.13744626e-03  6.66961213e-04  6.12709295e-04  5.73784409e-04\n",
      "  3.53244175e-04  1.91287249e-03  3.09792941e-03 -2.52340767e-03\n",
      "  4.35770264e-04  1.19351611e-03 -2.00825891e-03  3.50785311e-04\n",
      "  5.97151694e-04  1.75754820e-03  1.36658317e-03  7.12590388e-04\n",
      "  1.91544015e-04  1.82222691e-03  1.37465655e-03  2.16795995e-03\n",
      "  1.48148472e-03  1.97791247e-03  2.10539516e-03  1.27385695e-03\n",
      "  1.46308981e-03 -3.68147530e-04  1.57966570e-03  1.01583291e-03\n",
      "  9.15595040e-04  4.36970352e-04  3.37417595e-04  1.28346280e-03\n",
      "  4.02226653e-04 -4.46147718e-04  1.18481812e-03  1.59569643e-03\n",
      " -2.41402437e-04  1.61591969e-03  5.20112093e-04  2.65546471e-04\n",
      "  9.49287632e-04  1.57340464e-03  2.10083646e-03 -2.36179320e-04\n",
      " -1.02432888e-04  4.08903516e-04  1.08147376e-03  2.60617149e-04\n",
      "  3.36640073e-04  2.50317897e-03  1.70060252e-03  1.47059805e-03\n",
      "  1.12454428e-03  6.41241564e-04  4.90150668e-04  7.36976831e-05\n",
      "  1.56696250e-03 -4.42842791e-03  1.64726874e-03  4.34706690e-04\n",
      "  2.88253278e-04  4.72998474e-04  2.10302298e-03  6.60290625e-04\n",
      " -2.77041957e-04  4.10584894e-04  1.52829026e-03  2.71708114e-04\n",
      "  2.01091088e-03  2.05083349e-04  1.65233380e-03  1.42757629e-03\n",
      "  8.23253704e-04 -2.67320127e-04 -1.84544405e-03  4.64366924e-04\n",
      "  1.30953839e-03  2.24095045e-04 -4.54152660e-04  9.79122789e-04\n",
      " -8.46811810e-05  4.67061965e-04 -6.80896756e-04  3.72922838e-04\n",
      "  1.72980550e-04  1.50797354e-03 -2.11284813e-04  1.50632189e-03\n",
      "  1.17639012e-03  1.77557683e-03  1.12332536e-03 -1.10124700e-03\n",
      "  1.41028665e-03 -1.73148109e-04  1.68054528e-03 -4.28179024e-04\n",
      " -2.28205721e-03  4.25710094e-04  4.89226712e-04  1.69860796e-03\n",
      " -3.69506298e-03  4.26458249e-05  1.14469995e-03  2.21038898e-03\n",
      "  1.67986677e-03  1.71831013e-03  1.35135299e-03  8.33651592e-04\n",
      "  2.87573635e-04  5.36266728e-04  4.24242705e-04 -1.07407021e-03\n",
      "  7.79591812e-06  9.16883692e-04  6.33932926e-04  4.29372049e-04\n",
      "  1.37108061e-03  2.06929591e-03  3.28506049e-04 -3.29224447e-03\n",
      "  3.49251123e-04  1.83980423e-03  1.98141561e-04  1.58194686e-03\n",
      "  1.10202571e-03  5.31807760e-04  1.20030971e-03  4.52372719e-04\n",
      "  5.06481085e-04  1.87998280e-04  1.49724384e-03  3.72285788e-04\n",
      "  1.60426625e-03  3.56194824e-04  2.16302162e-03 -1.64145057e-04\n",
      "  2.07102475e-04  3.96742355e-04  6.60296412e-04  6.74286006e-04\n",
      " -8.22549498e-04  1.95385617e-04  3.81602684e-04  1.14946897e-03\n",
      "  4.10520777e-04 -9.91600693e-04  1.74939468e-03  1.87728739e-03\n",
      " -8.15186664e-04  1.28376356e-03  1.94832993e-03  3.50442942e-04\n",
      "  8.42746484e-04  2.88714849e-04  2.42678219e-03  5.07616221e-04\n",
      "  2.82105023e-04  2.27561222e-03  1.33766002e-03  1.39254030e-03\n",
      " -2.81121980e-04  9.65902460e-04  7.56332679e-04  5.00722204e-04\n",
      "  1.50593632e-03  7.02928118e-04  1.08864246e-03  4.62428108e-04\n",
      " -6.34779903e-04 -1.76809215e-03  1.79345987e-03 -5.40035776e-06\n",
      "  1.87554292e-03  1.06435588e-03  4.69452237e-04  2.15386981e-03\n",
      "  6.70211678e-04  8.31961634e-04  1.37254606e-03  6.87699587e-05\n",
      "  5.59607656e-04  2.64043370e-03  5.40432558e-04  1.00722751e-03\n",
      "  5.30988956e-04  7.04118041e-05  1.32700710e-03  5.87879606e-04\n",
      "  6.48514160e-04  4.40563793e-04  1.06474932e-03  4.57833107e-04\n",
      "  1.70702584e-03  4.39501556e-04  1.68561035e-03  5.69586182e-04\n",
      "  1.34002702e-03  6.70711026e-04  1.56414093e-03  4.86507594e-04\n",
      "  1.29200076e-03  4.74866361e-04  1.78698662e-03  3.03168864e-04\n",
      "  6.40323088e-04  4.30843526e-04  1.10641519e-03  1.46445001e-03\n",
      "  1.57305824e-03  9.79347286e-04  1.03833673e-03  3.00231749e-04\n",
      "  5.02009335e-04  6.72574282e-04  3.66556213e-04  1.40381401e-03\n",
      "  3.31453703e-04  1.55514263e-03 -4.71440722e-04  1.43372244e-03\n",
      " -5.28453961e-04 -4.61039995e-04 -1.26707856e-04  1.43456456e-03\n",
      "  1.69319669e-03  1.63473352e-03  4.29623163e-04  5.56740120e-04\n",
      "  1.22693494e-03  1.72135226e-03  5.32143152e-04  1.57610057e-03\n",
      "  1.99706990e-03  4.52783018e-04  4.49183806e-04  3.91709679e-04\n",
      "  1.38102136e-03  3.65674370e-05  1.92641057e-03  7.65876290e-04\n",
      "  1.50112167e-04  3.10609484e-04  4.85512579e-04  6.14229097e-04\n",
      "  2.48504930e-03  2.63486273e-03  3.73763615e-04  8.68521024e-04\n",
      "  1.17319103e-03  1.67683063e-03  1.61309004e-03  1.52096378e-03\n",
      "  1.34388640e-03  5.09270177e-04  1.40259717e-03  1.49255571e-03\n",
      "  6.37227429e-04  1.60720282e-03  5.16922082e-04  2.73043952e-03\n",
      "  1.85494891e-03  4.75572826e-04  4.46748323e-04  4.35564351e-04\n",
      "  2.91121680e-04  2.38982010e-04  8.28169696e-04  2.33438195e-03\n",
      "  1.42776301e-03  1.66089597e-03  1.44211784e-03  1.72675088e-03\n",
      "  1.89701162e-04  2.02017571e-03  1.24813300e-03  1.48155922e-03\n",
      "  1.50889227e-03  1.31538592e-03  1.05639292e-03  1.61466327e-03\n",
      "  1.69505457e-03  2.72158079e-04  1.39335442e-03  3.90442055e-04\n",
      "  3.54881651e-04  3.66902421e-04  5.94016549e-04  6.04158353e-04\n",
      " -3.74859897e-04  9.62081545e-04  2.62567477e-04  6.11224627e-04\n",
      "  9.33214760e-04  2.03408945e-03  1.09372844e-03  5.56962529e-04\n",
      "  2.28104733e-04  1.38864612e-03  1.43595887e-03  1.20454048e-03\n",
      "  1.67906443e-03  8.83420887e-04  6.76505964e-04  1.22032587e-03\n",
      "  6.88272230e-04  5.57863009e-04  2.40474225e-03 -1.59653559e-03\n",
      " -9.64737062e-04  1.20282069e-03 -1.58721592e-03 -1.93262012e-03\n",
      "  1.03446047e-03  7.68921504e-04  1.34052284e-03  2.13589280e-03\n",
      "  1.48230552e-03  5.82259996e-04  6.27027499e-04  1.70776672e-03\n",
      "  2.31909056e-03  2.97335047e-03  1.20414266e-03  2.14782818e-03\n",
      "  2.33365285e-04  2.03315688e-03  1.66079119e-03  1.43296741e-03\n",
      "  1.48472338e-03 -8.22295803e-04  1.26835581e-03 -3.02638449e-04\n",
      "  7.50205724e-04  3.25692785e-03  3.87139383e-04  3.24314578e-04\n",
      "  5.07339789e-04  3.08170740e-04 -3.67004471e-04  6.72782785e-04\n",
      "  1.49086430e-03 -3.01194276e-04  4.54799043e-04  3.53710349e-03\n",
      "  2.17969127e-03  9.76766909e-04  3.80980308e-04  6.99039343e-04\n",
      " -3.42383225e-03 -4.93577941e-04  3.92015351e-04 -1.62651699e-03\n",
      "  1.47941759e-03  1.42795444e-03  3.57115730e-04  5.41444194e-04\n",
      "  5.89434916e-04  1.04362086e-04  1.59773491e-04  1.37108738e-03\n",
      "  1.93097999e-03  5.09863276e-03  9.84434938e-04  4.48645907e-04\n",
      "  2.20937624e-04  1.27231005e-03  3.48085207e-04  4.52002550e-04\n",
      "  7.06485589e-05  5.80457358e-04 -1.17431233e-04  1.21128287e-03\n",
      "  1.91500416e-03  1.19420716e-03  1.29892862e-03 -2.28833655e-03\n",
      "  1.03567259e-03  5.15885868e-04  1.91098557e-03 -3.73810398e-04\n",
      "  3.50431672e-04  9.20361290e-04  1.50073681e-03  1.29807689e-03\n",
      " -3.41345031e-05  7.51728705e-04  1.74338003e-03  3.50663049e-04\n",
      "  2.96350022e-03  2.24572167e-03  1.41672130e-03  1.81474779e-03\n",
      "  9.71721033e-04  1.45524944e-03  2.12052528e-03  1.30704604e-03\n",
      "  1.14970684e-03  2.63159518e-04  1.06581757e-03  1.20369044e-03\n",
      " -2.23411293e-03  6.41913708e-04  1.31959982e-03  1.24785257e-03\n",
      "  5.02175149e-04  1.42818123e-03  1.08886244e-03 -1.23678477e-03\n",
      "  5.98516683e-04  1.86786743e-03  9.99391244e-04  4.02090430e-04\n",
      "  4.54183461e-04  1.18993028e-03  2.46583508e-03  6.10755023e-04\n",
      "  6.22639868e-04  1.32289271e-03  1.80128940e-03  1.01933358e-03\n",
      "  4.31934046e-04  4.63141777e-04  1.51692894e-03  2.26284990e-03\n",
      "  1.57151552e-03  1.79025553e-03  1.72066322e-03  3.10937236e-04\n",
      "  1.35306915e-04 -1.58950469e-03  1.44209889e-03  1.12224103e-03\n",
      " -4.47770656e-04  7.90472899e-04  2.97468519e-04  6.21142910e-04\n",
      "  1.31285636e-03  1.29239649e-03  8.90199765e-04  1.88718097e-05\n",
      " -9.73926568e-04 -8.15927577e-04  3.46124969e-03  2.94539366e-03\n",
      "  5.11822551e-04  4.81905186e-04  2.19895036e-03  3.13527525e-04\n",
      "  4.48338637e-04  5.17596929e-04  1.43774605e-03 -2.09603240e-03\n",
      "  1.75989403e-03  1.85857104e-03  1.14926656e-03  1.54187379e-03\n",
      "  9.33739152e-04  3.89589745e-04  2.39267306e-03  1.36199881e-03\n",
      " -1.85737420e-03  1.13670852e-03  1.11466339e-03  1.64932719e-03\n",
      "  1.21556963e-03 -3.21543371e-03  1.53237315e-03  1.64988227e-03\n",
      "  1.60883587e-03  1.32875107e-03  8.76837888e-05  8.51270804e-04\n",
      " -3.14766131e-04  1.24064592e-03  1.60196721e-03  1.50114599e-03\n",
      "  4.18330533e-04  1.72909859e-03  1.29590132e-04  1.22196312e-03\n",
      " -3.66793703e-05  1.76696902e-03  2.66648654e-04  7.84978319e-04\n",
      "  8.95352706e-04  7.94475401e-04 -1.84972106e-03  3.37052910e-04\n",
      "  1.09146704e-03  1.20907075e-03  1.86081568e-03  4.34271512e-04\n",
      "  6.38085937e-04  5.15363285e-04  4.33133640e-04  1.89321209e-03\n",
      "  1.22306709e-03 -2.67339501e-04  1.29792607e-03  4.06499283e-04\n",
      "  2.08685341e-03  1.53011740e-04  1.09706754e-03  3.64621495e-04\n",
      " -1.73926823e-04  7.54989162e-04  1.58505900e-03  2.28363544e-03\n",
      "  3.98533045e-04  2.37315503e-04  5.10472206e-04  1.50982367e-03\n",
      "  3.71646147e-04  1.54427773e-04  1.09096007e-03  1.20496255e-03\n",
      "  1.18266506e-03  1.41188389e-03  4.19734175e-04  1.80021406e-03\n",
      "  6.75296803e-05  1.15345843e-03 -1.76777450e-03  2.05804005e-03\n",
      "  3.47533872e-04 -4.80703328e-05  1.62569139e-03  2.08800082e-03\n",
      " -1.47555841e-03  7.62643381e-04  7.09520613e-04  1.85064494e-03\n",
      "  2.39860608e-03 -1.23553340e-04 -1.32253763e-03  1.50495066e-03\n",
      "  1.25006349e-03  7.80220729e-04  7.27249251e-04  1.74535940e-03\n",
      "  2.25180367e-04  1.90557389e-03 -7.18342652e-04  9.53574625e-04\n",
      "  2.19755362e-03  9.80232555e-06  7.53588740e-04 -6.58716573e-04\n",
      "  1.39801150e-04 -2.14627471e-04  1.06703803e-03  1.70913641e-03\n",
      "  1.16688138e-03  9.79751124e-04  4.27125206e-04 -5.88688329e-04\n",
      "  1.73818036e-04 -3.52840690e-04 -3.68926131e-03  1.80216818e-04\n",
      "  4.57850060e-04  1.73243994e-03  2.18357645e-03  3.52908524e-04\n",
      "  5.00462453e-04  1.77672356e-03  1.33203082e-03  1.38471013e-03\n",
      " -9.35234519e-04  3.82777956e-04  2.28990325e-03  6.97765922e-04\n",
      "  6.33006163e-04  2.13102732e-04  1.16864731e-03  1.37674919e-03\n",
      "  1.58164580e-03  1.55531351e-03  3.08954725e-03  7.80769377e-05\n",
      " -1.81237625e-03  1.35265615e-03  3.69329015e-04  1.39857592e-03\n",
      "  4.72913374e-04  1.00418369e-03  1.76868492e-03  2.76620436e-03\n",
      "  2.46366692e-03 -4.53966473e-04  1.44741566e-03  4.09472081e-04\n",
      "  2.99212136e-03 -5.68412981e-05  1.01821427e-03  2.08557843e-03\n",
      "  1.44105524e-03  2.27712758e-03  3.39377874e-04  9.23116437e-04\n",
      " -1.91783250e-04  2.22470659e-03  1.31198628e-05  1.29805316e-03\n",
      "  3.31151277e-03  3.28065937e-04  4.03786828e-04  1.87170983e-03\n",
      "  1.19696132e-03 -7.01827427e-04  4.32505710e-04 -1.39119040e-04\n",
      " -1.61246935e-03  4.36262956e-04  1.44232308e-03 -6.28740435e-05\n",
      "  8.83087245e-04  1.02825071e-03  1.28980481e-03  3.26273332e-04\n",
      "  1.71192286e-03  2.28508164e-03 -2.19682190e-03  2.10062336e-03\n",
      "  1.18790117e-03  3.54494313e-04  1.22420062e-03  6.80269886e-04\n",
      "  3.23415366e-04 -1.57991551e-03 -4.00760100e-04  3.64962068e-04\n",
      "  2.25867751e-03  5.42013951e-04  1.04036952e-03  7.16429159e-04\n",
      " -6.73708454e-04  3.79486647e-04  2.66972854e-04 -4.28545287e-03\n",
      " -1.76423513e-04  5.04546688e-04  1.52368804e-03  6.22917132e-04\n",
      "  2.45308396e-03  3.28020755e-04 -1.32613619e-04 -1.82920967e-03\n",
      "  2.03251169e-03  1.46233242e-03  5.22661654e-04  1.02745480e-04\n",
      "  1.41115501e-03  1.51866005e-03  1.82046255e-03  1.58540078e-03\n",
      "  4.05883183e-04  6.55303475e-04  1.84616369e-03  2.55877232e-03\n",
      "  1.43609464e-03  1.08639227e-03  6.93428369e-05 -5.50141539e-03\n",
      "  4.34945771e-04  7.92267065e-04  2.52226029e-03  1.79296330e-03\n",
      " -1.57972382e-04  1.86187644e-03  6.51743319e-04  7.76849541e-04\n",
      "  1.88067461e-03  4.14484271e-04  2.64627125e-04  4.11561032e-04\n",
      "  4.65193321e-04  2.23286890e-03  1.70926341e-04  2.32790008e-03\n",
      "  6.60087892e-04  2.22621270e-03 -4.37327103e-04  1.66549917e-03\n",
      "  3.70421305e-03  4.87390178e-04  2.16380407e-03  2.14671899e-03\n",
      " -5.94347199e-03  1.77027031e-03 -1.51467018e-04  1.91700301e-03\n",
      " -1.51291492e-03  1.13194364e-03  1.46250146e-03  5.08569819e-04\n",
      "  1.83072868e-03 -2.43945348e-04  4.89633485e-04  1.53193604e-03\n",
      "  9.88986020e-04  2.15644936e-03  1.53110592e-03  2.66435181e-03\n",
      "  1.97591709e-03  3.04090316e-04  1.24807468e-03  1.68544847e-03\n",
      "  1.78966487e-03 -7.97498000e-04  1.83647267e-03  1.64345513e-03\n",
      "  9.72690684e-04  2.43710544e-04  6.66385170e-04  1.59963635e-03\n",
      "  2.25702407e-03  5.31324289e-04 -1.12730511e-03  1.96877227e-03\n",
      " -1.30850600e-04 -3.92754587e-03  6.87484748e-04  2.14622178e-03\n",
      "  2.11939786e-03 -2.06477861e-04  5.03358374e-04  1.29547813e-03\n",
      "  1.49370363e-03  3.58849110e-04  3.66566038e-04  6.42068548e-04\n",
      "  3.54841198e-04 -9.33098191e-05  3.87135063e-04  4.44143018e-04\n",
      "  1.91954934e-03  2.90017029e-04  5.73416568e-04 -6.23367213e-04\n",
      "  1.18917005e-03  2.89621551e-04  1.20199865e-05  1.39662708e-03\n",
      " -3.38476286e-04  6.20742498e-04  8.60802543e-04  1.43481178e-03\n",
      "  1.63820577e-03  9.69695960e-04  1.01453094e-03  4.66145308e-04\n",
      "  6.10477235e-04  1.58335690e-03  3.91151887e-04  2.06429887e-03\n",
      "  2.62347220e-03  2.01014584e-03  1.54647391e-03  1.90994332e-03\n",
      "  3.79074175e-04  3.64682385e-04 -4.92600230e-04 -1.43670615e-03]\n"
     ]
    },
    {
     "name": "stdout",
     "output_type": "stream",
     "text": [
      "done!\n",
      "result shown below:\n",
      "[ 0.  0.  0.  0.  0.  0.  0.  0.  0.  0.  0.  0.  0.  0.  0.  0.  0.  0.\n",
      "  0.  0.  0.  0.  0.  0.  0.  0.  0.  0.  0.  0.  0.  0.  0.  0.  0.  0.\n",
      "  0.  0.  0.  0.  0.  0.  0.  0.  0.  0.  0.  0.  0.  0.  0.  0.  0.  0.\n",
      "  0.  0.  0.  0.  0.  0.  0.  0.  0.  0.  0.  0.  0.  0.  0.  0.  0.  0.\n",
      "  0.  0.  0.  0.  0.  0.  0.  0.  0.  0.  0.  0.  0.  0.  0.  0.  0.  0.\n",
      "  0.  0.  0.  0.  0.  0.  0.  0.  0.  0.  0.  0.  0.  0.  0.  0.  0.  0.\n",
      "  0.  0.  0.  0.  0.  0.  0.  0.  0.  0.  0.  0.  0.  0.  0.  0.  0.  0.\n",
      "  0.  0.  0.  0.  0.  0.  0.  0.  0.  0.  0.  0.  0.  0.  0.  0.  0.  0.\n",
      "  0.  0.  0.  0.  0.  0.  0.  0.  0.  0.  0.  0.  0.  0.  0.  0.  0.  0.\n",
      "  0.  0.  0.  0.  0.  0.  0.  0.  0.  0.  0.  0.  0.  0.  0.  0.  0.  0.\n",
      "  0.  0.  0.  0.  0.  0.  0.  0.  0.  0.  0.  0.  0.  0.  0.  0.  0.  0.\n",
      "  0.  0.  0.  0.  0.  0.  0.  0.  0.  0.  0.  0.  0.  0.  0.  0.  0.  0.\n",
      "  0.  0.  0.  0.  0.  0.  0.  0.  0.  0.  0.  0.  0.  0.  0.  0.  0.  0.\n",
      "  0.  0.  0.  0.  0.  0.  0.  0.  0.  0.  0.  0.  0.  0.  0.  0.  0.  0.\n",
      "  0.  0.  0.  0.  0.  0.  0.  0.  0.  0.  0.  0.  0.  0.  0.  0.  0.  0.\n",
      "  0.  0.  0.  0.  0.  0.  0.  0.  0.  0.  0.  0.  0.  0.  0.  0.  0.  0.\n",
      "  0.  0.  0.  0.  0.  0.  0.  0.  0.  0.  0.  0.  0.  0.  0.  0.  0.  0.\n",
      "  0.  0.  0.  0.  0.  0.  0.  0.  0.  0.  0.  0.  0.  0.  0.  0.  0.  0.\n",
      "  0.  0.  0.  0.  0.  0.  0.  0.  0.  0.  0.  0.  0.  0.  0.  0.  0.  0.\n",
      "  0.  0.  0.  0.  0.  0.  0.  0.  0.  0.  0.  0.  0.  0.  0.  0.  0.  0.\n",
      "  0.  0.  0.  0.  0.  0.  0.  0.  0.  0.  0.  0.  0.  0.  0.  0.  0.  0.\n",
      "  0.  0.  0.  0.  0.  0.  0.  0.  0.  0.  0.  0.  0.  0.  0.  0.  0.  0.\n",
      "  0.  0.  0.  0.  0.  0.  0.  0.  0.  0.  0.  0.  0.  0.  0.  0.  0.  0.\n",
      "  0.  0.  0.  0.  0.  0.  0.  0.  0.  0.  0.  0.  0.  0.  0.  0.  0.  0.\n",
      "  0.  0.  0.  0.  0.  0.  0.  0.  0.  0.  0.  0.  0.  0.  0.  0.  0.  0.\n",
      "  0.  0.  0.  0.  0.  0.  0.  0.  0.  0.  0.  0.  0.  0.  0.  0.  0.  0.\n",
      "  0.  0.  0.  0.  0.  0.  0.  0.  0.  0.  0.  0.  0.  0.  0.  0.  0.  0.\n",
      "  0.  0.  0.  0.  0.  0.  0.  0.  0.  0.  0.  0.  0.  0.  0.  0.  0.  0.\n",
      "  0.  0.  0.  0.  0.  0.  0.  0.  0.  0.  0.  0.  0.  0.  0.  0.  0.  0.\n",
      "  0.  0.  0.  0.  0.  0.  0.  0.  0.  0.  0.  0.  0.  0.  0.  0.  0.  0.\n",
      "  0.  0.  0.  0.  0.  0.  0.  0.  0.  0.  0.  0.  0.  0.  0.  0.  0.  0.\n",
      "  0.  0.  0.  0.  0.  0.  0.  0.  0.  0.  0.  0.  0.  0.  0.  0.  0.  0.\n",
      "  0.  0.  0.  0.  0.  0.  0.  0.  0.  0.  0.  0.  0.  0.  0.  0.  0.  0.\n",
      "  0.  0.  0.  0.  0.  0.  0.  0.  0.  0.  0.  0.  0.  0.  0.  0.  0.  0.\n",
      "  0.  0.  0.  0.  0.  0.  0.  0.  0.  0.  0.  0.  0.  0.  0.  0.  0.  0.\n",
      "  0.  0.  0.  0.  0.  0.  0.  0.  0.  0.  0.  0.  0.  0.  0.  0.  0.  0.\n",
      "  0.  0.  0.  0.  0.  0.  0.  0.  0.  0.  0.  0.  0.  0.  0.  0.  0.  0.\n",
      "  0.  0.  0.  0.  0.  0.  0.  0.  0.  0.  0.  0.  0.  0.  0.  0.  0.  0.\n",
      "  0.  0.  0.  0.  0.  0.  0.  0.  0.  0.  0.  0.  0.  0.  0.  0.  0.  0.\n",
      "  0.  0.  0.  0.  0.  0.  0.  0.  0.  0.  0.  0.  0.  0.  0.  0.  0.  0.\n",
      "  0.  0.  0.  0.  0.  0.  0.  0.  0.  0.  0.  0.  0.  0.  0.  0.  0.  0.\n",
      "  0.  0.  0.  0.  0.  0.  0.  0.  0.  0.  0.  0.  0.  0.  0.  0.  0.  0.\n",
      "  0.  0.  0.  0.  0.  0.  0.  0.  0.  0.  0.  0.  0.  0.  0.  0.  0.  0.\n",
      "  0.  0.  0.  0.  0.  0.  0.  0.  0.  0.  0.  0.  0.  0.  0.  0.  0.  0.\n",
      "  0.  0.  0.  0.  0.  0.  0.  0.  0.  0.  0.  0.  0.  0.  0.  0.  0.  0.\n",
      "  0.  0.  0.  0.  0.  0.  0.  0.  0.  0.  0.  0.  0.  0.  0.  0.  0.  0.\n",
      "  0.  0.  0.  0.  0.  0.  0.  0.  0.  0.  0.  0.  0.  0.  0.  0.  0.  0.\n",
      "  0.  0.  0.  0.  0.  0.  0.  0.  0.  0.  0.  0.  0.  0.  0.  0.  0.  0.\n",
      "  0.  0.  0.  0.  0.  0.  0.  0.  0.  0.  0.  0.  0.  0.  0.  0.  0.  0.\n",
      "  0.  0.  0.  0.  0.  0.  0.  0.  0.  0.  0.  0.  0.  0.  0.  0.  0.  0.\n",
      "  0.  0.  0.  0.  0.  0.  0.  0.  0.  0.  0.  0.  0.  0.  0.  0.  0.  0.\n",
      "  0.  0.  0.  0.  0.  0.  0.  0.  0.  0.  0.  0.  0.  0.  0.  0.  0.  0.\n",
      "  0.  0.  0.  0.  0.  0.  0.  0.  0.  0.  0.  0.  0.  0.  0.  0.  0.  0.\n",
      "  0.  0.  0.  0.  0.  0.  0.  0.  0.  0.  0.  0.  0.  0.  0.  0.  0.  0.\n",
      "  0.  0.  0.  0.  0.  0.  0.  0.  0.  0.  0.  0.  0.  0.  0.  0.  0.  0.\n",
      "  0.  0.  0.  0.  0.  0.  0.  0.  0. -2.]\n"
     ]
    }
   ],
   "source": [
    "res_knn = app.run(measure_KNN)\n",
    "res_knnloo = app.run(measure_KNNLOO)"
   ]
  },
  {
   "cell_type": "markdown",
   "metadata": {},
   "source": [
    "##### visualize"
   ]
  },
  {
   "cell_type": "code",
   "execution_count": null,
   "metadata": {},
   "outputs": [],
   "source": [
    "LabelPlotter(app, ('KNN-Shapley',res_knn), ('KNN-LOO',res_knnloo)).plot()"
   ]
  },
  {
   "cell_type": "markdown",
   "metadata": {},
   "source": [
    "# Pattern-based Watermark Removal"
   ]
  },
  {
   "cell_type": "markdown",
   "metadata": {},
   "source": [
    "##### data loading"
   ]
  },
  {
   "cell_type": "code",
   "execution_count": null,
   "metadata": {},
   "outputs": [],
   "source": [
    "num = 1000\n",
    "loader = FashionMnist(num_train=num)\n",
    "X_data, y_data, X_test_data, y_test_data = loader.prepare_data()"
   ]
  },
  {
   "cell_type": "markdown",
   "metadata": {},
   "source": [
    "###### measure"
   ]
  },
  {
   "cell_type": "code",
   "execution_count": null,
   "metadata": {},
   "outputs": [],
   "source": [
    "measure_KNN = KNN_Shapley(K=5)\n",
    "measure_KNNLOO = KNN_LOO(K=5)"
   ]
  },
  {
   "cell_type": "markdown",
   "metadata": {},
   "source": [
    "##### application"
   ]
  },
  {
   "cell_type": "code",
   "execution_count": null,
   "metadata": {},
   "outputs": [],
   "source": [
    "app = Poisoning(X_data, y_data, X_test_data, y_test_data, model_family='logistic')"
   ]
  },
  {
   "cell_type": "markdown",
   "metadata": {},
   "source": [
    "##### run"
   ]
  },
  {
   "cell_type": "code",
   "execution_count": null,
   "metadata": {},
   "outputs": [],
   "source": [
    "res_knn = app.run(measure_KNN)\n",
    "res_knnloo = app.run(measure_KNNLOO)"
   ]
  },
  {
   "cell_type": "markdown",
   "metadata": {},
   "source": [
    "##### visualize"
   ]
  },
  {
   "cell_type": "code",
   "execution_count": null,
   "metadata": {},
   "outputs": [],
   "source": [
    "PoisoningPlotter(app, ('KNN-Shapley',res_knn), ('KNN-LOO',res_knnloo)).plot()"
   ]
  },
  {
   "cell_type": "markdown",
   "metadata": {},
   "source": [
    "# Instance-based Watermark Removal"
   ]
  },
  {
   "cell_type": "markdown",
   "metadata": {},
   "source": [
    "##### data loading"
   ]
  },
  {
   "cell_type": "code",
   "execution_count": null,
   "metadata": {},
   "outputs": [],
   "source": [
    "# load MNIST"
   ]
  },
  {
   "cell_type": "markdown",
   "metadata": {},
   "source": [
    "###### measure"
   ]
  },
  {
   "cell_type": "code",
   "execution_count": null,
   "metadata": {},
   "outputs": [],
   "source": [
    "measure = KNN_Shapley(K=5)"
   ]
  },
  {
   "cell_type": "markdown",
   "metadata": {},
   "source": [
    "##### application"
   ]
  },
  {
   "cell_type": "code",
   "execution_count": null,
   "metadata": {},
   "outputs": [],
   "source": [
    "app = # instance-based watermark removal"
   ]
  },
  {
   "cell_type": "markdown",
   "metadata": {},
   "source": [
    "##### run"
   ]
  },
  {
   "cell_type": "code",
   "execution_count": null,
   "metadata": {},
   "outputs": [],
   "source": [
    "# run"
   ]
  },
  {
   "cell_type": "markdown",
   "metadata": {},
   "source": [
    "##### visualize"
   ]
  },
  {
   "cell_type": "code",
   "execution_count": null,
   "metadata": {},
   "outputs": [],
   "source": [
    "# TO BE COMPLETED"
   ]
  },
  {
   "cell_type": "markdown",
   "metadata": {},
   "source": [
    "# Data Summarization"
   ]
  },
  {
   "cell_type": "markdown",
   "metadata": {},
   "source": [
    "##### data loading"
   ]
  },
  {
   "cell_type": "code",
   "execution_count": null,
   "metadata": {},
   "outputs": [],
   "source": [
    "# load UCI Adult dataset"
   ]
  },
  {
   "cell_type": "markdown",
   "metadata": {},
   "source": [
    "###### measure"
   ]
  },
  {
   "cell_type": "code",
   "execution_count": null,
   "metadata": {},
   "outputs": [],
   "source": [
    "measure = KNN_Shapley(K=5)"
   ]
  },
  {
   "cell_type": "markdown",
   "metadata": {},
   "source": [
    "##### application"
   ]
  },
  {
   "cell_type": "code",
   "execution_count": null,
   "metadata": {},
   "outputs": [],
   "source": [
    "app = # data summarization"
   ]
  },
  {
   "cell_type": "markdown",
   "metadata": {},
   "source": [
    "##### run"
   ]
  },
  {
   "cell_type": "code",
   "execution_count": null,
   "metadata": {},
   "outputs": [],
   "source": [
    "# run"
   ]
  },
  {
   "cell_type": "markdown",
   "metadata": {},
   "source": [
    "##### visualize"
   ]
  },
  {
   "cell_type": "code",
   "execution_count": null,
   "metadata": {},
   "outputs": [],
   "source": [
    "# TO BE COMPLETED"
   ]
  },
  {
   "cell_type": "markdown",
   "metadata": {},
   "source": [
    "# Data Acquisition"
   ]
  },
  {
   "cell_type": "markdown",
   "metadata": {},
   "source": [
    "##### data loading"
   ]
  },
  {
   "cell_type": "code",
   "execution_count": null,
   "metadata": {},
   "outputs": [],
   "source": [
    "# load MNIST"
   ]
  },
  {
   "cell_type": "markdown",
   "metadata": {},
   "source": [
    "###### measure"
   ]
  },
  {
   "cell_type": "code",
   "execution_count": null,
   "metadata": {},
   "outputs": [],
   "source": [
    "measure = KNN_Shapley(K=5)"
   ]
  },
  {
   "cell_type": "markdown",
   "metadata": {},
   "source": [
    "##### application"
   ]
  },
  {
   "cell_type": "code",
   "execution_count": null,
   "metadata": {},
   "outputs": [],
   "source": [
    "app = # data acquisition"
   ]
  },
  {
   "cell_type": "markdown",
   "metadata": {},
   "source": [
    "##### run"
   ]
  },
  {
   "cell_type": "code",
   "execution_count": null,
   "metadata": {},
   "outputs": [],
   "source": [
    "# run"
   ]
  },
  {
   "cell_type": "markdown",
   "metadata": {},
   "source": [
    "##### visualize"
   ]
  },
  {
   "cell_type": "code",
   "execution_count": null,
   "metadata": {},
   "outputs": [],
   "source": [
    "# TO BE COMPLETED"
   ]
  },
  {
   "cell_type": "markdown",
   "metadata": {},
   "source": [
    "# Domain Adapatation"
   ]
  },
  {
   "cell_type": "markdown",
   "metadata": {},
   "source": [
    "##### data loading"
   ]
  },
  {
   "cell_type": "code",
   "execution_count": null,
   "metadata": {},
   "outputs": [],
   "source": [
    "# load two datasets"
   ]
  },
  {
   "cell_type": "markdown",
   "metadata": {},
   "source": [
    "###### measure"
   ]
  },
  {
   "cell_type": "code",
   "execution_count": null,
   "metadata": {},
   "outputs": [],
   "source": [
    "measure = KNN_Shapley(K=5)"
   ]
  },
  {
   "cell_type": "markdown",
   "metadata": {},
   "source": [
    "##### application"
   ]
  },
  {
   "cell_type": "code",
   "execution_count": null,
   "metadata": {},
   "outputs": [],
   "source": [
    "app = # domain adaptation"
   ]
  },
  {
   "cell_type": "markdown",
   "metadata": {},
   "source": [
    "##### run"
   ]
  },
  {
   "cell_type": "code",
   "execution_count": null,
   "metadata": {},
   "outputs": [],
   "source": [
    "# run"
   ]
  },
  {
   "cell_type": "markdown",
   "metadata": {},
   "source": [
    "##### visualize"
   ]
  },
  {
   "cell_type": "code",
   "execution_count": null,
   "metadata": {},
   "outputs": [],
   "source": [
    "# TO BE COMPLETED"
   ]
  }
 ],
 "metadata": {
  "kernelspec": {
   "display_name": "Python 3",
   "language": "python",
   "name": "python3"
  },
  "language_info": {
   "codemirror_mode": {
    "name": "ipython",
    "version": 3
   },
   "file_extension": ".py",
   "mimetype": "text/x-python",
   "name": "python",
   "nbconvert_exporter": "python",
   "pygments_lexer": "ipython3",
   "version": "3.6.8"
  }
 },
 "nbformat": 4,
 "nbformat_minor": 2
}
