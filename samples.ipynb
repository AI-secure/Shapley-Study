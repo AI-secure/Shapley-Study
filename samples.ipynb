{
 "cells": [
  {
   "cell_type": "code",
   "execution_count": 1,
   "metadata": {
    "scrolled": true
   },
   "outputs": [
    {
     "name": "stderr",
     "output_type": "stream",
     "text": [
      "/home/kahlua/.pyenv/versions/3.6.5/lib/python3.6/site-packages/sklearn/ensemble/weight_boosting.py:29: DeprecationWarning: numpy.core.umath_tests is an internal NumPy module and should not be imported. It will be removed in a future NumPy release.\n",
      "  from numpy.core.umath_tests import inner1d\n"
     ]
    }
   ],
   "source": [
    "#!/usr/bin/python\n",
    "from __future__ import absolute_import\n",
    "\n",
    "import numpy as np\n",
    "from tensorflow import keras\n",
    "import pickle\n",
    "import argparse\n",
    "import copy\n",
    "import random\n",
    "import time\n",
    "import torch\n",
    "\n",
    "from shapley.apps import Label, Poisoning\n",
    "from shapley.loader import FashionMnist, MNIST\n",
    "from shapley.measures import KNN_Shapley, KNN_LOO, G_Shapley, LOO, TMC_Shapley\n",
    "from shapley.utils.plotter import LabelPlotter, PoisoningPlotter\n",
    "\n",
    "%matplotlib inline"
   ]
  },
  {
   "cell_type": "markdown",
   "metadata": {},
   "source": [
    "# standalone experiments"
   ]
  },
  {
   "cell_type": "markdown",
   "metadata": {},
   "source": [
    "A simple test for the two APIs\n",
    "``KNN_Shapley._get_shapley_value_torch(self, X_train, y_train, X_test, y_test)`` (torch implementation)\n",
    "and\n",
    "``KNN_Shapley._get_shapley_value_np(self, X_train, y_train, X_test, y_test)`` (numpy implementation).\n",
    "\n",
    "The torch implementation runs faster than the numpy version since the operations are paralleled. If running on cuda, the torch version will be even faster."
   ]
  },
  {
   "cell_type": "code",
   "execution_count": 2,
   "metadata": {},
   "outputs": [],
   "source": [
    "measure = KNN_Shapley(K=5)"
   ]
  },
  {
   "cell_type": "code",
   "execution_count": 3,
   "metadata": {},
   "outputs": [],
   "source": [
    "X_train = torch.randn(1000, 28, 28)\n",
    "X_test = torch.randn(100, 28, 28)\n",
    "\n",
    "y_train = torch.LongTensor(1000).random_(0,10)\n",
    "y_test = torch.LongTensor(100).random_(0,10)"
   ]
  },
  {
   "cell_type": "code",
   "execution_count": 4,
   "metadata": {
    "scrolled": true
   },
   "outputs": [
    {
     "name": "stdout",
     "output_type": "stream",
     "text": [
      "0.8419463634490967\n"
     ]
    }
   ],
   "source": [
    "start = time.time()\n",
    "res1 = measure._get_shapley_value_torch(X_train, y_train, X_test, y_test).numpy()\n",
    "print(time.time() - start)"
   ]
  },
  {
   "cell_type": "code",
   "execution_count": 19,
   "metadata": {},
   "outputs": [
    {
     "name": "stdout",
     "output_type": "stream",
     "text": [
      "0.360736608505249\n"
     ]
    }
   ],
   "source": [
    "X_train_cuda = X_train.cuda()\n",
    "y_train_cuda = y_train.cuda()\n",
    "X_test_cuda = X_test.cuda()\n",
    "y_test_cuda = y_test.cuda()\n",
    "\n",
    "start = time.time()\n",
    "res3 = measure._get_shapley_value_torch(X_train_cuda, y_train_cuda, X_test_cuda, y_test_cuda)\n",
    "print(time.time() - start)"
   ]
  },
  {
   "cell_type": "code",
   "execution_count": 5,
   "metadata": {},
   "outputs": [
    {
     "name": "stdout",
     "output_type": "stream",
     "text": [
      "6.611276865005493\n"
     ]
    }
   ],
   "source": [
    "start = time.time()\n",
    "res2 = measure._get_shapley_value_np(X_train, y_train, X_test, y_test)\n",
    "print(time.time() - start)"
   ]
  },
  {
   "cell_type": "code",
   "execution_count": 6,
   "metadata": {},
   "outputs": [
    {
     "data": {
      "text/plain": [
       "array([ 8.5921492e-06, -3.9918883e-05,  5.1855863e-05,  5.1301635e-05,\n",
       "        1.8364172e-04,  1.3043480e-05,  1.1695117e-05,  9.8459830e-05,\n",
       "        4.6483437e-05,  6.9547335e-05, -1.2801529e-04,  4.5360634e-05,\n",
       "        8.7266171e-06,  8.2714035e-04, -9.8430598e-04,  2.5648344e-04,\n",
       "        8.5209533e-05,  7.1359164e-04, -2.2910869e-04, -2.2110355e-04],\n",
       "      dtype=float32)"
      ]
     },
     "execution_count": 6,
     "metadata": {},
     "output_type": "execute_result"
    }
   ],
   "source": [
    "res1[:20]"
   ]
  },
  {
   "cell_type": "code",
   "execution_count": 7,
   "metadata": {},
   "outputs": [
    {
     "data": {
      "text/plain": [
       "array([ 8.59191453e-06, -3.99186798e-05,  5.18568110e-05,  5.13025680e-05,\n",
       "        1.83642666e-04,  1.30434169e-05,  1.16958026e-05,  9.84597379e-05,\n",
       "        4.64833938e-05,  6.95469458e-05, -1.28014938e-04,  4.54018518e-05,\n",
       "        8.72677943e-06,  8.27141210e-04, -9.84305976e-04,  2.56483530e-04,\n",
       "        8.52095189e-05,  7.13591569e-04, -2.29109180e-04, -2.21102736e-04])"
      ]
     },
     "execution_count": 7,
     "metadata": {},
     "output_type": "execute_result"
    }
   ],
   "source": [
    "res2[:20]"
   ]
  },
  {
   "cell_type": "markdown",
   "metadata": {},
   "source": [
    "# Noisy Label Detection"
   ]
  },
  {
   "cell_type": "markdown",
   "metadata": {},
   "source": [
    "##### data loading"
   ]
  },
  {
   "cell_type": "code",
   "execution_count": 8,
   "metadata": {},
   "outputs": [],
   "source": [
    "num = 1000\n",
    "#loader = MNIST(num_train=num, one_hot=False, shuffle=True, by_label=True)\n",
    "loader = FashionMnist(num_train=num)\n",
    "X_data, y_data, X_test_data, y_test_data = loader.prepare_data()"
   ]
  },
  {
   "cell_type": "markdown",
   "metadata": {},
   "source": [
    "###### measure"
   ]
  },
  {
   "cell_type": "code",
   "execution_count": 9,
   "metadata": {},
   "outputs": [],
   "source": [
    "measure_KNN = KNN_Shapley(K=5)\n",
    "measure_KNNLOO = KNN_LOO(K=5)\n",
    "# measure = G_Shapley()\n",
    "# measure = TMC_Shapley()\n",
    "# measure = LOO()"
   ]
  },
  {
   "cell_type": "markdown",
   "metadata": {},
   "source": [
    "##### application"
   ]
  },
  {
   "cell_type": "code",
   "execution_count": 10,
   "metadata": {},
   "outputs": [],
   "source": [
    "app = Label(X_data, y_data, X_test_data, y_test_data, model_family='NN')"
   ]
  },
  {
   "cell_type": "markdown",
   "metadata": {},
   "source": [
    "##### run"
   ]
  },
  {
   "cell_type": "code",
   "execution_count": 11,
   "metadata": {
    "scrolled": true
   },
   "outputs": [
    {
     "name": "stdout",
     "output_type": "stream",
     "text": [
      "done!\n",
      "result shown below:\n",
      "[ 1.47088272e-03  1.85998039e-03  2.82120199e-04  2.11732010e-03\n",
      "  1.11684946e-03  1.19685357e-03  1.01171702e-03  1.07641815e-03\n",
      "  3.37684189e-04  2.31083415e-03 -6.60825993e-04  9.98359683e-04\n",
      "  5.13839593e-04  3.03610759e-03  7.53471875e-05  2.29314547e-03\n",
      "  2.62229510e-03  1.55250006e-03  1.24900285e-03  1.94725527e-03\n",
      "  1.37508655e-03  1.11935459e-03  1.22909831e-03  9.22130296e-04\n",
      "  1.59981058e-03  1.36609823e-03  4.64774135e-04 -3.49651990e-03\n",
      "  9.21566361e-04  1.25358320e-03  1.20680261e-03  9.08980616e-04\n",
      "  1.28641113e-03  1.20130404e-03  1.00483719e-03  1.54003689e-03\n",
      "  7.65366255e-04  1.07511549e-03  2.00532665e-03 -7.23948122e-04\n",
      "  1.35134408e-03  4.72063149e-04  2.36853303e-03  1.10146250e-03\n",
      "  1.31362806e-03  2.35503878e-03  2.14349070e-03  1.75727447e-03\n",
      "  1.10504534e-03  8.60134550e-04  8.24159858e-04  9.89686182e-04\n",
      " -6.74467957e-04 -3.61540121e-03  1.42845548e-03  1.00883014e-03\n",
      "  9.35231885e-04  1.35500992e-03 -2.12711390e-03  1.32252902e-03\n",
      "  1.00304537e-03  9.92501382e-04  1.50467975e-03  2.09698710e-03\n",
      "  1.18899220e-03  6.68925341e-04  1.26298947e-03  4.62001029e-04\n",
      "  1.07682222e-03 -1.80427556e-03  2.27071197e-03 -7.15318587e-04\n",
      "  1.34614203e-03  1.94834033e-03  1.13565576e-03  6.88930462e-05\n",
      "  3.26081691e-06 -4.66162126e-03  1.33906909e-03  1.16796829e-03\n",
      "  1.95292789e-03  1.70284675e-03  1.04578141e-03 -1.04527354e-03\n",
      " -1.84552069e-03  1.08519956e-03  1.05024317e-03  1.36084916e-03\n",
      "  1.10013754e-03  9.71490538e-04  2.96606196e-03  4.36698496e-04\n",
      "  1.66144756e-03  1.38102563e-03  1.09554283e-03  2.74561683e-04\n",
      "  1.18627412e-03  2.02628608e-03  1.13306401e-03  1.18131945e-03\n",
      "  1.48782884e-03  1.43793518e-03  1.26348129e-03  3.54082480e-04\n",
      "  1.78304157e-03  1.84997990e-03  1.50118562e-03  1.04049884e-03\n",
      " -9.51722115e-05  1.08722022e-03  2.02429641e-03  2.38669367e-03\n",
      "  1.21563702e-03  1.39826068e-03 -3.04636231e-03 -2.81553018e-03\n",
      "  2.24808354e-03 -7.78567769e-06  9.17484772e-04  1.36024498e-03\n",
      "  8.45006088e-04  1.84342607e-04  1.16674760e-03  1.23647987e-03\n",
      " -5.02498935e-03  9.77500567e-04  1.85786452e-03  1.04786084e-03\n",
      "  1.41225969e-03 -1.71530431e-03  1.89925122e-03  9.72738319e-04\n",
      "  1.09193655e-03  1.90409802e-03 -3.37286398e-04  1.09607964e-03\n",
      "  1.09461566e-03 -2.39827499e-03  1.32302905e-03  1.39709154e-03\n",
      " -4.84217254e-03  1.58637276e-03  1.93640840e-03  1.28545099e-03\n",
      "  1.58290132e-03  1.33448575e-03 -1.95132812e-03  1.69562609e-03\n",
      "  5.61172747e-04  7.24732489e-04  1.38291394e-03  1.56772522e-05\n",
      " -1.91372898e-03  1.27417193e-03  1.79257656e-03  1.44486208e-03\n",
      "  1.33230493e-03  9.50136950e-04  1.13204613e-03  1.03028350e-03\n",
      " -8.57121149e-04  9.46342429e-04  1.49236512e-03  9.86829309e-04\n",
      "  1.82060555e-04  1.01932162e-03  4.53486054e-04  1.83237916e-03\n",
      "  3.80964720e-04  1.15864048e-03  1.15946132e-03  5.89595213e-04\n",
      "  1.19458962e-03  6.04439428e-04 -2.98002180e-03  1.22161397e-03\n",
      " -8.82591703e-04 -9.26832927e-04  1.42932080e-03  1.28263681e-03\n",
      "  1.80988765e-03 -1.71966584e-04 -9.69905753e-04 -6.47912906e-04\n",
      " -1.11980981e-03  1.06150749e-03  9.60393500e-04  3.07064032e-03\n",
      "  1.84400757e-03  1.23061601e-03  1.01167614e-03  1.04464337e-03\n",
      "  1.04091204e-03  2.27699269e-03  1.25921575e-03 -6.14070194e-03\n",
      "  2.02302921e-03  9.47742789e-04 -2.40235014e-03  2.19434902e-03\n",
      "  1.00465101e-03  3.25046668e-04 -1.09711636e-03  9.55861677e-04\n",
      "  1.93860850e-03  9.37947143e-04  1.09861762e-03  1.05365244e-03\n",
      "  1.29793002e-03  1.23267043e-03  4.07759628e-04  8.71862832e-04\n",
      "  9.09083023e-04  1.90961650e-03 -2.07397564e-03  1.10597655e-03\n",
      "  2.07032466e-03 -2.43656860e-03 -2.67280924e-03  7.42297988e-04\n",
      "  1.46753864e-03  1.85876147e-03  2.24636162e-03  9.09406512e-04\n",
      "  2.15874185e-03  1.95238542e-03  8.71381398e-04 -5.48378539e-04\n",
      " -1.62723403e-04  2.38617178e-03  7.19145868e-04  3.26014658e-03\n",
      " -4.21986762e-03  3.59193382e-04 -7.14665861e-04  1.33160530e-03\n",
      "  6.90493264e-04 -3.52845169e-03 -2.86616664e-03  1.48269493e-03\n",
      "  3.45728216e-03 -2.17362391e-03  1.51502632e-03  1.34498342e-03\n",
      "  1.76012414e-03  1.87199509e-03  1.87478931e-03 -1.59544369e-03\n",
      "  6.21480900e-04  1.59885173e-03 -3.09452667e-04 -1.65297133e-03\n",
      "  1.60283551e-03  2.44892803e-03  7.75497066e-04  1.33401507e-03\n",
      "  1.99703221e-03 -2.58662581e-03  1.57937120e-03  1.77697663e-03\n",
      "  2.16816446e-03  9.87424399e-04  1.12607592e-03 -5.15137345e-05\n",
      "  1.11689362e-03 -2.98293034e-03 -1.02180083e-04  1.68476274e-03\n",
      "  9.97423086e-04  2.20557275e-03 -4.93757822e-03  1.21330054e-03\n",
      "  1.35202961e-03  1.68250958e-03  1.32463213e-03 -3.03358108e-05\n",
      "  1.30349383e-03  8.62362850e-04  2.69839454e-03 -4.97934039e-03\n",
      " -5.65078153e-03  1.18637722e-03  1.21765808e-03  6.26435739e-04\n",
      "  4.80883998e-04  1.92459812e-03  1.55542256e-03  1.14281783e-03\n",
      "  1.13949392e-03  3.35904311e-04  1.28809972e-03 -2.45935952e-04\n",
      "  2.21771134e-03  1.21609456e-04  1.81530951e-03  1.57811896e-03\n",
      "  1.03048076e-03  2.53826107e-03  2.21156079e-03 -6.32448421e-04\n",
      "  8.49306128e-04  1.07227573e-03 -1.84420248e-04  1.22532012e-03\n",
      "  2.52502558e-03  2.09500877e-03  1.11140652e-03  1.07862280e-03\n",
      "  4.80757643e-04  1.55350102e-03  1.18115667e-03  1.42925702e-03\n",
      "  1.00078817e-03  1.55825982e-03  1.13802019e-03 -8.49300824e-04\n",
      "  1.05698370e-03  6.10402595e-05 -1.17330226e-03  8.18749952e-04\n",
      "  1.46966252e-03 -2.45201939e-03  1.70830704e-03  9.34364613e-04\n",
      "  1.04775190e-03  1.24854304e-03  2.06446381e-03  2.47909612e-03\n",
      "  1.34209479e-03  8.89722776e-04  1.20022154e-03  2.98009643e-03\n",
      "  1.42887858e-03 -4.32101213e-03  1.67852279e-03  1.40185766e-03\n",
      " -3.78974152e-04  1.07528004e-03  1.30791829e-03  1.59662597e-03\n",
      "  2.19630495e-03  2.15770684e-03  9.07269363e-04  1.44264523e-03\n",
      "  1.52140063e-03  1.53385373e-03  1.15780886e-03  1.06415735e-03\n",
      "  1.27720955e-03 -2.24399013e-03  9.59044676e-04  9.82863357e-04\n",
      "  9.82427788e-04  8.60703474e-05  1.65290325e-03  1.30337809e-03\n",
      "  1.36579319e-03  8.66660842e-04 -2.57473304e-04  1.44095896e-03\n",
      "  1.76933354e-03  1.48575917e-03  1.34505425e-03  6.35132431e-04\n",
      "  2.72084921e-03  1.24424654e-03  1.28460290e-03 -4.22790400e-04\n",
      "  1.46631971e-03 -1.77941033e-03  6.30465482e-04  1.30545162e-03\n",
      "  2.01878228e-03 -2.84895470e-03  9.51307712e-04 -4.18830599e-04\n",
      "  1.50961026e-03 -2.02613483e-04  3.47226245e-03 -4.94486434e-04\n",
      "  8.85153092e-04  3.05557279e-04  1.32075431e-03  4.24183886e-03\n",
      "  8.80667468e-04  1.11588221e-03 -2.19845840e-04  1.22633864e-03\n",
      "  5.37644785e-04  7.47139954e-04  1.14864753e-03  1.73268556e-03\n",
      "  3.27570273e-04  8.68858850e-04 -4.27966823e-04  2.05524123e-03\n",
      "  1.10524029e-03  2.08748886e-03 -6.09905732e-05 -1.06045347e-03\n",
      " -2.21774404e-03  1.15793558e-03  9.71661815e-05  2.15314569e-03\n",
      "  1.36556434e-03 -1.54284734e-03  6.03704757e-04  1.42013097e-03\n",
      "  2.01863701e-03  8.88994541e-04  3.30223961e-04  3.47465228e-03\n",
      "  1.87652160e-03  1.21182035e-03 -1.15638771e-05 -8.26085973e-04\n",
      "  1.48392033e-03  1.00859733e-03  1.91331614e-03  1.22071945e-03\n",
      "  7.70357778e-04 -3.48510162e-03  1.61993940e-03  1.33820153e-03\n",
      " -5.81720419e-04  1.08936411e-03  2.55536686e-03 -1.71103608e-03\n",
      "  1.53345670e-03 -2.21407360e-04  1.82887806e-03  7.11103068e-04\n",
      "  3.93618463e-04  6.13027470e-04  2.29936172e-03  1.16340873e-03\n",
      "  1.34240769e-03  9.26895552e-04 -3.34699553e-04  1.75042586e-04\n",
      "  1.41538735e-03  1.46322263e-03 -4.97844485e-03 -4.03385437e-03\n",
      "  1.00587912e-03  1.02940824e-03  1.64858695e-03  1.27086538e-03\n",
      "  1.39110973e-03  1.39920547e-03 -3.23152875e-04  9.13077983e-04\n",
      "  1.42968006e-03  1.53717811e-03  1.67838291e-03  1.34249637e-03\n",
      "  1.04534360e-03 -8.88634778e-04  1.28239643e-03  1.83986598e-03\n",
      "  2.50532527e-03  1.02460403e-03 -6.87307148e-03 -5.23629299e-04\n",
      "  1.11139499e-03  1.88144625e-03 -2.91331846e-03 -1.47804026e-04\n",
      "  7.93187249e-04 -3.05447647e-04  6.04267791e-04  8.26912526e-04\n",
      "  2.26543045e-03  7.84971284e-04 -1.17143927e-03  8.85820719e-04\n",
      "  1.79790186e-03  1.10292857e-04  1.49804791e-03  1.47407071e-03\n",
      "  1.05764730e-03  1.16884160e-03  1.78139423e-03  9.68966026e-04\n",
      " -3.31526500e-03  1.03759667e-03  8.01250318e-04  1.84304479e-03\n",
      "  1.81589934e-03 -5.23216837e-04  1.12915251e-03  1.07430392e-03\n",
      "  1.31042215e-03  1.45206866e-03  4.45603488e-04  1.03233601e-03\n",
      " -2.85821748e-04  1.50997377e-03  9.92969367e-04  2.05298182e-04\n",
      "  1.42687159e-03  8.60181552e-04  1.53560737e-03  1.25071132e-03\n",
      "  1.10282285e-03  2.06528324e-03  1.34697725e-03  1.79085587e-03\n",
      "  1.01689355e-03  9.59814088e-04  6.44803951e-04  2.81944060e-03\n",
      "  2.16679966e-03  1.29115580e-03 -2.97388714e-04  4.11360049e-04\n",
      "  1.49789521e-03  1.47878853e-03 -7.02517985e-04  1.87809800e-03\n",
      "  1.81404109e-03  1.00737578e-03  1.14711514e-03 -3.72498855e-04\n",
      "  1.26547690e-03  1.46079978e-03 -9.73327310e-04  1.11853630e-03\n",
      "  8.48973547e-04  4.50579076e-04  1.48289086e-03  2.55352226e-03\n",
      " -8.16795307e-04  1.06522067e-03  1.10348898e-03  1.17549393e-03\n",
      " -2.95520606e-03  2.19589434e-03  1.62711566e-03 -3.68602452e-03\n",
      "  3.28930615e-04  2.24620347e-03 -5.53550099e-04  1.37754839e-03\n",
      "  1.13729651e-03  7.87347773e-04  2.32090038e-03  1.96794512e-04\n",
      " -1.49179395e-04  1.19776531e-03  2.69347556e-03  1.64339816e-03\n",
      "  1.01375294e-03  1.31945002e-03 -8.73798781e-05 -4.77600113e-05\n",
      "  1.33571639e-03  1.13240988e-03  1.63540494e-03  1.40399736e-03\n",
      "  9.64707974e-04  2.56463348e-03  1.44521461e-03  1.40398148e-03\n",
      "  4.24057029e-04  1.28509473e-03  2.39915813e-03  1.48308360e-03\n",
      "  1.42407119e-03  1.19090754e-03  1.19218987e-03  1.92442239e-03\n",
      " -5.83603288e-03  9.64462290e-04  1.73176586e-03 -8.85146146e-05\n",
      "  1.06876772e-03 -3.85729197e-03  1.06424036e-03  1.56798070e-03\n",
      " -2.25297307e-03  1.62949417e-03  1.46999739e-03  1.17913056e-03\n",
      "  1.02980788e-03  8.50892033e-04 -1.40180104e-03  9.21206602e-04\n",
      "  1.65840225e-03  1.94963248e-03  2.48801555e-03  1.51444900e-03\n",
      "  1.13191040e-03 -3.20516000e-04  8.19908793e-04  1.20264992e-03\n",
      "  1.33914895e-03 -8.77432828e-04 -6.18427958e-03  1.17596766e-03\n",
      "  1.74046820e-03  1.07191420e-03  5.20003765e-04  1.07248375e-03\n",
      "  1.60316830e-03  1.20858355e-03  1.21704623e-03  1.30144215e-03\n",
      "  1.81736417e-03  1.04440292e-03  2.12777414e-03  1.08450675e-03\n",
      " -3.22083683e-03  2.19386137e-03  8.76227186e-04 -2.34709667e-04\n",
      " -2.84587445e-03  6.77761013e-04  2.03351634e-03  2.12485263e-03\n",
      "  1.45785579e-03  1.65421629e-03  1.56522941e-03 -1.49410991e-03\n",
      "  1.52251217e-03  1.77812459e-03  1.89732386e-03  1.68851323e-03\n",
      "  1.05678594e-03  2.08892378e-03  1.63294095e-03  9.28010758e-04\n",
      "  1.28982122e-03 -7.52456051e-03 -3.68223086e-03  1.94414648e-03\n",
      " -2.33635919e-03  2.70688431e-03  1.25216559e-03  1.12403625e-03\n",
      "  2.01257319e-03 -5.13810069e-03  1.93130907e-03  9.35986093e-04\n",
      "  1.85124140e-03  1.43834887e-03  1.07419743e-03  1.33452449e-03\n",
      "  1.72318932e-03  1.22850942e-03  3.02709713e-04  1.29356143e-03\n",
      " -4.54029845e-03  1.12725436e-03  7.74451562e-04  1.55339401e-03\n",
      "  1.34991889e-03  1.15268897e-03  1.00024817e-03 -6.42704773e-03\n",
      "  2.78360543e-03  1.44682185e-03  1.83897516e-03  1.90080478e-03\n",
      "  2.19060244e-03  1.87213496e-03  2.14727229e-03  1.05791628e-03\n",
      " -7.09799333e-04 -3.21441929e-04  1.19478780e-03  1.85642398e-03\n",
      "  1.99176512e-03  1.46656524e-03 -2.22408547e-03  1.28890327e-03\n",
      "  2.23261561e-03  1.45225803e-03  2.76398008e-03  1.28938501e-03\n",
      "  1.50108632e-03  1.54562378e-03  1.12486404e-03  4.01635550e-04\n",
      "  1.08747802e-03  1.31867919e-03  1.03973842e-03  7.07406574e-04\n",
      " -3.75402484e-04  1.00281659e-03  1.11844681e-03  8.40041921e-04\n",
      " -2.63093528e-03  1.11469469e-03  1.03847754e-03  7.70375757e-04\n",
      "  1.01434721e-03  1.86106779e-03  1.26672942e-03  1.51544911e-03\n",
      "  2.67157786e-03  1.30616672e-03  1.00295975e-03  1.33085476e-03\n",
      "  5.48728902e-04  1.60199187e-03  1.60410085e-03  1.02641136e-03\n",
      "  8.50233939e-04  7.16693335e-04  2.82265523e-03  7.19315347e-04\n",
      " -2.93220069e-04  9.39543418e-04  1.01612917e-03  2.45638797e-03\n",
      "  1.06881749e-03 -1.45535692e-03  1.29487712e-03  4.76911304e-04\n",
      "  7.30468629e-04 -2.35506537e-03  1.13888241e-03  1.04180486e-03\n",
      "  2.34012618e-03  1.17404716e-03  3.92878093e-04 -6.54791203e-04\n",
      "  1.40399419e-03  1.31571471e-03  8.90517146e-04  1.44624139e-03\n",
      "  1.50889827e-03  1.13611056e-03  9.37720062e-04  9.68214609e-04\n",
      "  1.34594714e-03  1.27185606e-03  8.55168197e-04  1.11837984e-03\n",
      "  9.39109854e-04 -4.09800822e-03  9.59594660e-04  7.35245614e-04\n",
      " -3.36100275e-03  1.48497799e-03 -7.68009289e-04  1.18647712e-03\n",
      " -7.72946014e-03 -1.90458801e-03  1.09778570e-03  2.32877003e-03\n",
      "  1.77623447e-03  1.53157640e-03  1.67671496e-03  9.87263009e-04\n",
      "  1.30797521e-03  9.81046558e-04  1.31828219e-03  1.50740308e-03\n",
      "  7.33767241e-04  9.93253038e-04  7.91012359e-04  1.38082918e-03\n",
      "  1.64511977e-03 -1.18542423e-03  9.02811838e-04 -2.82041356e-03\n",
      "  9.47137482e-04  1.52139584e-03  1.07623389e-03  1.29040758e-03\n",
      "  1.94070111e-03  8.65889285e-04  7.01898605e-04  1.20772582e-03\n",
      "  1.30415361e-03  9.39164092e-04  1.18692253e-03  1.06954424e-03\n",
      "  4.35078752e-04  1.29924653e-03 -1.63025383e-03 -1.19004626e-03\n",
      "  2.10272984e-03  1.43850572e-03  2.28284814e-04  1.76846389e-03\n",
      "  1.65010295e-03  1.14820610e-03  1.44178612e-03  1.74850833e-03\n",
      " -4.72124234e-03  4.53030237e-04  1.20542529e-03 -2.68878722e-03\n",
      " -1.21709600e-03  1.16666783e-03  1.39537701e-03  4.82749514e-04\n",
      "  1.05504181e-03  1.97333569e-03  1.88898302e-03  1.73522302e-03\n",
      "  1.22206619e-03  1.18425299e-03 -6.12701982e-03  1.01600343e-03\n",
      "  2.46723778e-03  1.73357629e-03  9.51629042e-04  1.54321468e-03\n",
      "  7.35051211e-04  7.77708509e-04  2.51721156e-03 -1.59216809e-04\n",
      " -6.09987732e-04  8.68642746e-04  1.00803093e-03  2.27653825e-03\n",
      " -4.46004107e-04  2.00139576e-03  1.16395860e-03  3.42654524e-03\n",
      "  4.48177170e-04  2.63779046e-03  1.07520284e-03  8.36920011e-04\n",
      "  1.61286930e-03  1.36002480e-03 -3.24738101e-03  4.46986373e-03\n",
      "  1.00008520e-03  1.23180757e-03  3.09227584e-03  2.29656116e-03\n",
      "  9.64196324e-04  1.20614037e-03  1.39790034e-03  1.15398389e-03\n",
      "  2.17011945e-03 -4.80437039e-04  8.31717025e-05  1.95568495e-03\n",
      "  1.83419567e-03  1.24041397e-03 -8.38976798e-04  9.01354466e-04\n",
      "  1.13725290e-03 -3.45330324e-03 -2.98342439e-03 -3.61372881e-04\n",
      "  1.21142687e-03  1.21074045e-03 -3.49438388e-03 -3.64081786e-03\n",
      "  2.03234105e-03  1.45061144e-03  1.38511253e-03  1.37589851e-03\n",
      " -2.46261849e-03  1.14557443e-03  1.01867891e-03 -4.51612251e-04\n",
      "  9.83277323e-04  1.01232291e-03  1.08824937e-04  2.55118861e-03\n",
      " -2.08856389e-04  1.59828308e-03  1.82121814e-03 -7.29894305e-05\n",
      " -7.08973479e-04  1.44412418e-03  1.53160376e-03  2.11503073e-03\n",
      "  5.60739202e-04 -8.57110913e-04 -6.33121195e-04  1.25119534e-03\n",
      "  1.32137928e-03  1.85784432e-03  1.38683950e-03  1.37397738e-03\n",
      "  1.21147746e-03 -6.41516100e-04  1.45177418e-03 -1.28568576e-03\n",
      "  5.15831574e-04  1.15057553e-03 -4.08934101e-03  1.81357067e-03\n",
      " -1.28019834e-03  9.92123003e-04  1.26933926e-04 -1.04846915e-04\n",
      "  1.75281037e-03  4.55592475e-04  9.06589666e-04  1.50551709e-03\n",
      "  1.36454059e-03 -1.28593842e-03  1.11823374e-03  6.80197764e-04\n",
      "  1.13386681e-03  1.21056530e-03  2.09533334e-03  5.74854120e-04\n",
      "  7.70812305e-04  1.35373649e-03 -1.09104886e-03  1.14946934e-03\n",
      "  1.70392472e-03 -2.99302374e-04 -1.23399633e-03  1.63332123e-03\n",
      "  3.22519134e-04  1.18183753e-03  1.03049933e-03  1.05743574e-03\n",
      "  1.29151263e-03 -2.88794416e-03  1.55471031e-03  1.76961908e-03\n",
      "  2.07636115e-03  1.55481792e-03  9.19655061e-04  2.49651805e-03\n",
      "  1.82285413e-03  1.22758769e-03  1.64993841e-03 -6.10464332e-03\n",
      "  1.04610325e-03  4.69412895e-04 -1.17960794e-03 -2.06282279e-03\n",
      "  1.03675019e-03 -1.90647849e-04  6.57844675e-04  1.29649242e-03\n",
      "  1.78602182e-03  1.40538442e-03  9.62947356e-04  8.15755234e-04\n",
      "  1.18588537e-03  1.36643813e-03  1.81753421e-03  1.82178608e-04\n",
      "  1.10382609e-03  1.37787576e-03 -1.26395454e-03  1.57050789e-03\n",
      " -9.48276253e-04  1.54545587e-03  1.13103427e-03  1.06800376e-03\n",
      "  1.29223090e-03 -1.16520779e-04 -9.02685348e-04  2.01460706e-03\n",
      " -6.30499296e-04  2.21129176e-04 -5.10362470e-04  1.02996755e-03\n",
      "  2.53317610e-03  9.22105560e-04  1.14681441e-03  1.33865659e-03\n",
      " -1.26853652e-03 -1.73943065e-04  1.53107797e-03  9.31050154e-04\n",
      " -2.02982167e-04  1.38745065e-03  1.06158941e-03  1.84255109e-03\n",
      "  1.24343742e-03  1.00770859e-03  6.10015776e-04  1.81218951e-03\n",
      "  3.47098041e-03  7.49978942e-04  2.14203949e-03  1.02599926e-03\n",
      " -4.72085430e-04  3.07140818e-03  8.27933110e-04  2.49246798e-03\n",
      "  1.06397231e-03 -2.57212318e-03  1.79432918e-03  1.16562088e-03\n",
      "  2.12148488e-03  1.25408236e-03  1.86864718e-03  2.19534011e-03\n",
      "  8.75932939e-04  1.66185155e-03  1.49512806e-03  1.90887585e-03]\n"
     ]
    },
    {
     "name": "stdout",
     "output_type": "stream",
     "text": [
      "done!\n",
      "result shown below:\n",
      "[ 0.  0.  0.  0.  0.  0.  0.  0.  0.  0.  0.  0.  0.  0.  0.  0.  0.  0.\n",
      "  0.  0.  0.  0.  0.  0.  0.  0.  0.  0.  0.  0.  0.  0.  0.  0.  0.  0.\n",
      "  0.  0.  0.  0.  0.  0.  0.  0.  0.  0.  0.  0.  0.  0.  0.  0.  0.  0.\n",
      "  0.  0.  0.  0.  0.  0.  0.  0.  0.  0.  0.  0.  0.  0.  0.  0.  0.  0.\n",
      "  0.  0.  0.  0.  0.  0.  0.  0.  0.  0.  0.  0.  0.  0.  0.  0.  0.  0.\n",
      "  0.  0.  0.  0.  0.  0.  0.  0.  0.  0.  0.  0.  0.  0.  0.  0.  0.  0.\n",
      "  0.  0.  0.  0.  0.  0.  0.  0.  0.  0.  0.  0.  0.  0.  0.  0.  0.  0.\n",
      "  0.  0.  0.  0.  0.  0.  0.  0.  0.  0.  0.  0.  0.  0.  0.  0.  0.  0.\n",
      "  0.  0.  0.  0.  0.  0.  0.  0.  0.  0.  0.  0.  0.  0.  0.  0.  0.  0.\n",
      "  0.  0.  0.  0.  0.  0.  0.  0.  0.  0.  0.  0.  0.  0.  0.  0.  0.  0.\n",
      "  0.  0.  0.  0.  0.  0.  0.  0.  0.  0.  0.  0.  0.  0.  0.  0.  0.  0.\n",
      "  0.  0.  0.  0.  0.  0.  0.  0.  0.  0.  0.  0.  0.  0.  0.  0.  0.  0.\n",
      "  0.  0.  0.  0.  0.  0.  0.  0.  0.  0.  0.  0.  0.  0.  0.  0.  0.  0.\n",
      "  0.  0.  0.  0.  0.  0.  0.  0.  0.  0.  0.  0.  0.  0.  0.  0.  0.  0.\n",
      "  0.  0.  0.  0.  0.  0.  0.  0.  0.  0.  0.  0.  0.  0.  0.  0.  0.  0.\n",
      "  0.  0.  0.  0.  0.  0.  0.  0.  0.  0.  0.  0.  0.  0.  0.  0.  0.  0.\n",
      "  0.  0.  0.  0.  0.  0.  0.  0.  0.  0.  0.  0.  0.  0.  0.  0.  0.  0.\n",
      "  0.  0.  0.  0.  0.  0.  0.  0.  0.  0.  0.  0.  0.  0.  0.  0.  0.  0.\n",
      "  0.  0.  0.  0.  0.  0.  0.  0.  0.  0.  0.  0.  0.  0.  0.  0.  0.  0.\n",
      "  0.  0.  0.  0.  0.  0.  0.  0.  0.  0.  0.  0.  0.  0.  0.  0.  0.  0.\n",
      "  0.  0.  0.  0.  0.  0.  0.  0.  0.  0.  0.  0.  0.  0.  0.  0.  0.  0.\n",
      "  0.  0.  0.  0.  0.  0.  0.  0.  0.  0.  0.  0.  0.  0.  0.  0.  0.  0.\n",
      "  0.  0.  0.  0.  0.  0.  0.  0.  0.  0.  0.  0.  0.  0.  0.  0.  0.  0.\n",
      "  0.  0.  0.  0.  0.  0.  0.  0.  0.  0.  0.  0.  0.  0.  0.  0.  0.  0.\n",
      "  0.  0.  0.  0.  0.  0.  0.  0.  0.  0.  0.  0.  0.  0.  0.  0.  0.  0.\n",
      "  0.  0.  0.  0.  0.  0.  0.  0.  0.  0.  0.  0.  0.  0.  0.  0.  0.  0.\n",
      "  0.  0.  0.  0.  0.  0.  0.  0.  0.  0.  0.  0.  0.  0.  0.  0.  0.  0.\n",
      "  0.  0.  0.  0.  0.  0.  0.  0.  0.  0.  0.  0.  0.  0.  0.  0.  0.  0.\n",
      "  0.  0.  0.  0.  0.  0.  0.  0.  0.  0.  0.  0.  0.  0.  0.  0.  0.  0.\n",
      "  0.  0.  0.  0.  0.  0.  0.  0.  0.  0.  0.  0.  0.  0.  0.  0.  0.  0.\n",
      "  0.  0.  0.  0.  0.  0.  0.  0.  0.  0.  0.  0.  0.  0.  0.  0.  0.  0.\n",
      "  0.  0.  0.  0.  0.  0.  0.  0.  0.  0.  0.  0.  0.  0.  0.  0.  0.  0.\n",
      "  0.  0.  0.  0.  0.  0.  0.  0.  0.  0.  0.  0.  0.  0.  0.  0.  0.  0.\n",
      "  0.  0.  0.  0.  0.  0.  0.  0.  0.  0.  0.  0.  0.  0.  0.  0.  0.  0.\n",
      "  0.  0.  0.  0.  0.  0.  0.  0.  0.  0.  0.  0.  0.  0.  0.  0.  0.  0.\n",
      "  0.  0.  0.  0.  0.  0.  0.  0.  0.  0.  0.  0.  0.  0.  0.  0.  0.  0.\n",
      "  0.  0.  0.  0.  0.  0.  0.  0.  0.  0.  0.  0.  0.  0.  0.  0.  0.  0.\n",
      "  0.  0.  0.  0.  0.  0.  0.  0.  0.  0.  0.  0.  0.  0.  0.  0.  0.  0.\n",
      "  0.  0.  0.  0.  0.  0.  0.  0.  0.  0.  0.  0.  0.  0.  0.  0.  0.  0.\n",
      "  0.  0.  0.  0.  0.  0.  0.  0.  0.  0.  0.  0.  0.  0.  0.  0.  0.  0.\n",
      "  0.  0.  0.  0.  0.  0.  0.  0.  0.  0.  0.  0.  0.  0.  0.  0.  0.  0.\n",
      "  0.  0.  0.  0.  0.  0.  0.  0.  0.  0.  0.  0.  0.  0.  0.  0.  0.  0.\n",
      "  0.  0.  0.  0.  0.  0.  0.  0.  0.  0.  0.  0.  0.  0.  0.  0.  0.  0.\n",
      "  0.  0.  0.  0.  0.  0.  0.  0.  0.  0.  0.  0.  0.  0.  0.  0.  0.  0.\n",
      "  0.  0.  0.  0.  0.  0.  0.  0.  0.  0.  0.  0.  0.  0.  0.  0.  0.  0.\n",
      "  0.  0.  0.  0.  0.  0.  0.  0.  0.  0.  0.  0.  0.  0.  0.  0.  0.  0.\n",
      "  0.  0.  0.  0.  0.  0.  0.  0.  0.  0.  0.  0.  0.  0.  0.  0.  0.  0.\n",
      "  0.  0.  0.  0.  0.  0.  0.  0.  0.  0.  0.  0.  0.  0.  0.  0.  0.  0.\n",
      "  0.  0.  0.  0.  0.  0.  0.  0.  0.  0.  0.  0.  0.  0.  0.  0.  0.  0.\n",
      "  0.  0.  0.  0.  0.  0.  0.  0.  0.  0.  0.  0.  0.  0.  0.  0.  0.  0.\n",
      "  0.  0.  0.  0.  0.  0.  0.  0.  0.  0.  0.  0.  0.  0.  0.  0.  0.  0.\n",
      "  0.  0.  0.  0.  0.  0.  0.  0.  0.  0.  0.  0.  0.  0.  0.  0.  0.  0.\n",
      "  0.  0.  0.  0.  0.  0.  0.  0.  0.  0.  0.  0.  0.  0.  0.  0.  0.  0.\n",
      "  0.  0.  0.  0.  0.  0.  0.  0.  0.  0.  0.  0.  0.  0.  0.  0.  0.  0.\n",
      "  0.  0.  0.  0.  0.  0.  0.  0.  0.  0.  0.  0.  0.  0.  0.  0.  0.  0.\n",
      "  0.  0.  0.  0.  0.  0.  0.  0.  0. -2.]\n"
     ]
    }
   ],
   "source": [
    "res_knn = app.run(measure_KNN)\n",
    "res_knnloo = app.run(measure_KNNLOO)"
   ]
  },
  {
   "cell_type": "markdown",
   "metadata": {},
   "source": [
    "##### visualize"
   ]
  },
  {
   "cell_type": "code",
   "execution_count": 12,
   "metadata": {},
   "outputs": [
    {
     "data": {
      "image/png": "[encoded data removed]",
      "text/plain": [
       "<Figure size 432x288 with 1 Axes>"
      ]
     },
     "metadata": {
      "needs_background": "light"
     },
     "output_type": "display_data"
    }
   ],
   "source": [
    "LabelPlotter(app, ('KNN-Shapley',res_knn), ('KNN-LOO',res_knnloo)).plot()"
   ]
  },
  {
   "cell_type": "markdown",
   "metadata": {},
   "source": [
    "# Pattern-based Watermark Removal"
   ]
  },
  {
   "cell_type": "markdown",
   "metadata": {},
   "source": [
    "##### data loading"
   ]
  },
  {
   "cell_type": "code",
   "execution_count": 13,
   "metadata": {
    "scrolled": true
   },
   "outputs": [],
   "source": [
    "num = 1000\n",
    "loader = FashionMnist(num_train=num)\n",
    "X_data, y_data, X_test_data, y_test_data = loader.prepare_data()"
   ]
  },
  {
   "cell_type": "markdown",
   "metadata": {},
   "source": [
    "###### measure"
   ]
  },
  {
   "cell_type": "code",
   "execution_count": 14,
   "metadata": {},
   "outputs": [],
   "source": [
    "measure_KNN = KNN_Shapley(K=5)\n",
    "measure_KNNLOO = KNN_LOO(K=5)"
   ]
  },
  {
   "cell_type": "markdown",
   "metadata": {},
   "source": [
    "##### application"
   ]
  },
  {
   "cell_type": "code",
   "execution_count": 15,
   "metadata": {},
   "outputs": [],
   "source": [
    "app = Poisoning(X_data, y_data, X_test_data, y_test_data, model_family='NN')"
   ]
  },
  {
   "cell_type": "markdown",
   "metadata": {},
   "source": [
    "##### run"
   ]
  },
  {
   "cell_type": "code",
   "execution_count": 16,
   "metadata": {
    "scrolled": false
   },
   "outputs": [
    {
     "name": "stdout",
     "output_type": "stream",
     "text": [
      "done!\n",
      "result shown below:\n",
      "[ 1.25604991e-03  7.83126430e-04  9.78047086e-04  1.26617179e-03\n",
      "  9.66920921e-04  8.91731924e-04  1.47889962e-03 -6.39097020e-04\n",
      "  4.50567059e-04  7.34051368e-04 -3.33872223e-03  1.19814246e-03\n",
      "  8.99142777e-04  1.00393708e-03  1.05035730e-03  5.30428701e-04\n",
      "  9.45583452e-04  2.31773621e-03  1.05145953e-03  6.28271646e-04\n",
      "  8.82734144e-04  8.79215583e-04  1.34404778e-03  9.39648190e-04\n",
      " -1.41505157e-03  5.14078115e-04  1.32077900e-03  9.71016663e-04\n",
      "  8.72933342e-04  8.83278736e-04  7.70806646e-04  8.01139396e-04\n",
      " -1.28818064e-03  9.03143500e-04  1.74837104e-03  2.16653893e-04\n",
      " -2.33804658e-04  1.43653831e-03  1.11329559e-04  1.32037592e-03\n",
      " -9.49748056e-04 -2.18936602e-03  2.53239471e-03  2.04080810e-03\n",
      "  2.56731737e-04  9.10951338e-04  3.38542239e-04  2.49614090e-03\n",
      "  9.75335961e-04  1.59423221e-03  1.22220623e-03  1.16776129e-03\n",
      "  1.15761997e-03  1.32686492e-03 -6.29773361e-04  1.46486964e-03\n",
      "  1.64164078e-04 -1.83677605e-03  1.66719672e-03  9.45352639e-04\n",
      "  1.01635550e-03  1.47571376e-03  1.11184822e-03  1.64528410e-03\n",
      " -5.73177189e-03 -2.40500754e-03  3.89924810e-04  7.90580122e-04\n",
      "  7.62582071e-04  1.89466966e-03 -1.99269249e-04  1.63852519e-03\n",
      "  8.32548780e-04  1.71430346e-03  1.86330136e-03  1.89014651e-03\n",
      " -1.36174200e-03  1.27816965e-03  1.33041425e-03  2.51523014e-03\n",
      "  5.92318474e-04  1.80130110e-03  1.02964547e-03  1.43243191e-03\n",
      " -3.41840066e-03  1.52148854e-03  1.07734300e-03  9.73120599e-04\n",
      "  3.25481649e-03 -4.38431244e-04  1.48354426e-03  1.48489280e-03\n",
      "  1.18354626e-03 -8.01138601e-04  6.73868571e-04  1.47966790e-03\n",
      "  1.12356837e-03  6.43155754e-04 -4.22684976e-05  1.41051825e-03\n",
      "  1.11182225e-03  1.04943485e-03  3.77405338e-04  1.21852421e-03\n",
      " -3.53438847e-04  1.09954591e-03  1.59298486e-03  8.02512928e-04\n",
      "  9.82302775e-04 -3.35716319e-03  5.96678000e-04  1.57584550e-03\n",
      "  6.64991540e-04  7.51700465e-04  1.86847712e-03  1.68762963e-03\n",
      "  5.34013191e-04  1.06798371e-03 -5.29981615e-04 -7.97607874e-04\n",
      "  1.09971006e-03  6.79402049e-04  1.45535210e-03  5.68313052e-04\n",
      "  1.23525277e-03  2.62673481e-03 -1.33365803e-04 -8.88516885e-04\n",
      " -2.20462617e-04  4.80443757e-04  1.12397156e-03  2.10695418e-03\n",
      "  4.93263400e-04  1.16001924e-03  1.15457749e-03  1.10379613e-03\n",
      "  9.53316329e-04  9.50980998e-04  1.96780804e-03  7.59940111e-04\n",
      "  1.43982819e-03  1.00170183e-03  7.33539954e-05  1.68736045e-03\n",
      "  8.02138193e-04  6.49573576e-04  1.12287679e-03  1.42325377e-03\n",
      " -2.11047459e-04  1.58805775e-04  9.16201692e-04 -1.81661527e-04\n",
      "  6.52559848e-04  7.94948827e-04  1.24863090e-03 -6.94270322e-04\n",
      "  6.83317597e-04  9.23762972e-04 -1.22819680e-03 -2.44101309e-03\n",
      "  6.87625660e-04  9.72723843e-04  4.94593257e-04  1.66030973e-03\n",
      "  4.01657666e-03  2.15989068e-03  9.06882300e-04  1.91907354e-03\n",
      " -2.34494109e-03  8.18021751e-04  8.64235305e-04  1.17476515e-03\n",
      "  1.20272356e-03  5.61177531e-04  1.57144542e-03  8.88867929e-04\n",
      "  2.44523604e-03  8.02738880e-04  1.88707864e-04  1.72933485e-03\n",
      "  1.30663004e-03  1.23245098e-03  1.25197036e-03  6.91658938e-04\n",
      "  1.39311044e-03  1.12805080e-03  1.01832149e-03  1.12165055e-03\n",
      "  1.20599815e-03 -1.40149053e-03  4.78634687e-04  1.47723560e-03\n",
      "  1.09903492e-03  1.07593383e-03 -1.58638728e-03  9.71286811e-04\n",
      " -1.75642955e-04  3.96772997e-04  2.65316418e-03  1.33907220e-03\n",
      "  1.18988223e-03  7.38999464e-04  9.30070521e-04  2.08617650e-04\n",
      " -8.47467118e-04 -1.85403296e-04  8.33561313e-04  2.32569737e-03\n",
      "  3.01577241e-03  9.69015199e-04  2.46059619e-03  6.82157060e-04\n",
      "  5.21196057e-04  8.21184001e-04  1.47136378e-03  1.70323059e-03\n",
      "  2.23779841e-03  9.67236971e-04  8.91352461e-04  2.32318058e-03\n",
      "  9.79787803e-04  6.84931042e-04  8.60679451e-04  1.55059594e-03\n",
      "  1.31272243e-03 -1.98102708e-03 -9.17452691e-04  1.62201363e-03\n",
      " -2.02295142e-03  8.76816665e-04  1.03441909e-03  5.31988218e-04\n",
      "  2.39330267e-04  1.20346020e-03  8.70253683e-04  1.07423107e-03\n",
      "  3.68397053e-04  8.42288823e-04  1.55393882e-03  1.06260425e-03\n",
      "  1.05009347e-03  1.29852487e-03  4.99231175e-04  1.61973381e-03\n",
      "  1.07141720e-03  1.33506145e-05 -8.50613824e-04  1.37205857e-03\n",
      "  1.42760354e-03  1.67487692e-03  1.25103929e-03  8.44407174e-04\n",
      "  8.64435749e-05 -2.37938116e-03  1.34453622e-03  6.94491694e-04\n",
      "  5.97349441e-04  8.51839585e-04  1.05467642e-03 -3.11114884e-03\n",
      "  1.14567429e-03  1.00870613e-03  1.07936126e-03  1.01846594e-03\n",
      " -1.18809840e-03  2.60683881e-03  2.44591310e-03  1.51019972e-03\n",
      "  9.48945228e-04  4.13975309e-04  3.07970610e-04 -1.79923081e-03\n",
      "  9.45219767e-04  3.04876726e-03  9.34608011e-04  1.34697309e-04\n",
      " -1.33410592e-04  4.00009844e-04 -6.66343320e-05  1.76059183e-03\n",
      "  5.17511784e-04  1.64846655e-03  6.65071568e-04  1.17428964e-03\n",
      "  9.53328850e-04  1.54445150e-03  3.48132318e-03  1.02361258e-03\n",
      "  2.54829860e-03  1.54428560e-03  1.41773356e-03 -1.39180431e-03\n",
      "  9.37267298e-04 -5.11606314e-04  7.25347262e-04  1.72317787e-03\n",
      " -4.08133997e-03  1.25022544e-03  1.26219576e-03  3.90000032e-03\n",
      " -1.87634148e-03  2.01937165e-03  8.69373110e-04  1.62244419e-03\n",
      " -2.95759476e-04  1.12628028e-03  9.80932009e-04  1.73424788e-03\n",
      "  1.35214903e-04  1.03042153e-04  2.19948920e-03 -8.65277868e-04\n",
      " -5.17365022e-04  1.70902225e-03  1.39898987e-03  7.20881518e-04\n",
      "  1.05944453e-03 -2.67912787e-03  9.93289288e-04  1.49365416e-03\n",
      "  4.87512904e-04  1.35157966e-03  1.36367493e-03  1.30465537e-03\n",
      "  1.33048025e-03  1.57468561e-03  1.61226420e-03 -3.62703178e-04\n",
      "  1.31846140e-03 -2.74023946e-04 -6.65476321e-03  7.98921341e-04\n",
      "  1.27368971e-03  1.68184858e-03 -7.29229507e-04  2.52758969e-03\n",
      "  9.18449882e-04  1.29920259e-03  1.01971558e-03  7.06686501e-04\n",
      "  1.66092706e-04 -4.10825457e-04  6.21598586e-04  9.96048328e-05\n",
      " -2.66020895e-03  2.57698740e-03  1.49559719e-03 -1.89953754e-04\n",
      "  1.65277401e-03  1.26970298e-04  2.17180153e-03  6.02553754e-04\n",
      "  9.57899041e-04  9.72293433e-04  1.34601626e-03  9.02593032e-04\n",
      "  6.16464580e-04  1.27098035e-03  4.20255404e-04  1.36629132e-03\n",
      "  2.02105169e-04  1.60551483e-03  1.61030737e-03  2.58187486e-04\n",
      "  1.55638663e-03  6.43338501e-04  1.13246873e-03  1.50206047e-03\n",
      " -8.43988077e-04  8.60546307e-04  3.53160113e-04  7.65552774e-04\n",
      "  1.49386262e-03  1.16640010e-03  7.49192144e-04  5.63090024e-04\n",
      " -7.71301970e-04  7.82514486e-04  1.49194791e-03  2.14813817e-03\n",
      "  1.58685783e-04  9.55339337e-04  1.18625446e-03 -7.12379253e-04\n",
      "  2.64726074e-03 -1.66278528e-03  1.23923262e-03  1.84186093e-03\n",
      "  9.37194807e-04  9.76536550e-04  1.53714684e-03  2.75019472e-04\n",
      "  4.72670303e-04  8.87240125e-04 -3.37837978e-03  1.47509410e-03\n",
      "  9.04473005e-04  7.54894433e-04  2.66802294e-04  6.85242384e-04\n",
      "  6.19205166e-04  4.25155956e-04  1.12602056e-03  1.08803660e-03\n",
      " -8.47468185e-04 -2.17332130e-03  1.71845038e-03  1.07657490e-03\n",
      "  2.36595278e-03  1.00449030e-03  9.75383685e-04  5.96408370e-04\n",
      " -5.22550166e-04  1.38691694e-03  8.85652312e-04 -2.53717983e-03\n",
      "  1.82463466e-03  6.09269824e-04 -2.03988738e-03  2.74070882e-03\n",
      "  1.07828221e-03  8.11373885e-04  1.45293059e-03  4.66844658e-04\n",
      " -2.18936219e-03 -7.73939427e-04  1.04995696e-03  9.89664612e-04\n",
      "  1.76404789e-03 -3.44883553e-03  9.25689623e-04  1.38053402e-03\n",
      "  9.62100522e-04 -3.17967878e-04 -8.64092193e-04  7.59327318e-04\n",
      "  1.06784012e-03  5.17420881e-04  7.78349592e-04  9.97914004e-05\n",
      "  1.68669868e-03  1.49318900e-03  1.18257996e-03  1.12711866e-03\n",
      "  9.42970433e-04  1.79404202e-03  4.96209562e-04 -4.44230217e-04\n",
      "  1.18996306e-03  1.28478976e-03  2.07812176e-04  1.49462558e-03\n",
      "  2.54274986e-03  1.41090338e-03  1.47589701e-03  1.94294586e-03\n",
      "  1.33244681e-03  1.74218186e-03  3.43075449e-04  3.37564743e-03\n",
      "  1.93091754e-03 -1.18824418e-03  2.01184086e-03  2.08086737e-03\n",
      "  9.45825906e-04  1.05486896e-03  4.59493543e-04  7.87300052e-04\n",
      "  8.49975527e-04  1.51598258e-03  1.14927771e-03  2.01926662e-04\n",
      "  9.68713454e-04  6.46851113e-04  1.24998836e-03  1.96266671e-03\n",
      " -1.39230697e-03  1.53946243e-03  1.61056073e-03 -2.95957048e-04\n",
      "  6.13760946e-04  1.98195443e-03 -2.14144931e-03  1.37659727e-03\n",
      "  9.80528512e-04  1.51841299e-03  2.52196840e-03 -5.23471157e-03\n",
      "  1.45046477e-04  6.63998232e-04  8.49210875e-04  1.74434341e-03\n",
      "  4.80084394e-04  8.19138709e-04  5.89400008e-04  9.65541896e-04\n",
      "  5.56017447e-04  6.56187122e-04  1.72176597e-03  2.74844324e-04\n",
      "  2.15838627e-03  8.57336416e-04  7.98690356e-04  5.66378353e-04\n",
      "  7.55244359e-04  8.90414524e-04 -6.35516125e-04  1.10677569e-03\n",
      "  1.01597502e-03  8.32167385e-04 -2.72345125e-04 -2.78613008e-04\n",
      "  1.49317148e-03  1.24402889e-03  8.74875835e-04  1.38819911e-03\n",
      "  1.60256673e-03  7.13270569e-04 -8.48546109e-04  8.84832169e-04\n",
      "  5.86652334e-04  6.11219231e-04  3.88878702e-04  7.34545843e-04\n",
      "  1.02412348e-03  2.28959109e-03  2.28140507e-03  1.27934216e-03\n",
      "  8.19661559e-04  1.81700345e-03  1.97982789e-03  8.48406639e-04\n",
      "  1.10279380e-03  1.19706875e-03  1.34998089e-03  8.66918897e-04\n",
      "  9.15428849e-04  1.40937656e-03  9.81704647e-04  1.05171265e-03\n",
      "  1.88609035e-03  8.75443667e-04  1.38040746e-03  4.16448722e-04\n",
      "  1.27516495e-03  1.03747873e-03  4.96209167e-04 -4.43965452e-04\n",
      " -2.47748796e-04  8.12337300e-04  7.82534978e-04 -1.90272256e-04\n",
      " -2.79884675e-03  2.62071354e-04  1.18413618e-03  2.01390452e-03\n",
      "  5.75109602e-04 -1.07996617e-04  1.24826626e-03  9.34202918e-04\n",
      "  6.06316478e-04 -2.69543066e-03  1.31123908e-03 -6.31391251e-04\n",
      "  1.71648882e-03 -1.91452234e-03  1.03149052e-03 -1.07756356e-03\n",
      "  1.58826412e-03  8.30027325e-04 -2.22320396e-03 -1.46169213e-03\n",
      "  1.94853937e-03  9.16776797e-04  7.86545611e-04  4.94561704e-04\n",
      "  8.02331191e-04  1.39278311e-03  2.94087646e-03  1.10149777e-03\n",
      "  1.26838938e-03  1.01833625e-03  1.41577440e-03  3.23258182e-03\n",
      "  1.57826327e-03  9.61360831e-04  8.96176143e-04  1.09617806e-03\n",
      "  6.49122200e-04  1.07569127e-03 -3.13033609e-03  1.01402788e-03\n",
      "  1.61685820e-03  2.46567837e-04 -2.64499148e-03  6.51355129e-04\n",
      "  1.71954831e-03  2.31937888e-04 -3.65660998e-03  1.27816937e-03\n",
      "  1.07692301e-03  1.41111487e-03  1.07969852e-03 -3.38478834e-03\n",
      "  7.92973917e-04  1.94738372e-03  1.32858569e-03  9.87599431e-04\n",
      "  1.86438595e-04  2.29133702e-03  8.89025542e-04  1.50851658e-03\n",
      "  1.38801443e-03  1.32119366e-03  7.09600530e-04  9.98573773e-04\n",
      "  8.95977278e-04 -6.60292907e-04  1.30280033e-04  8.86903336e-04\n",
      "  1.68446609e-03  2.00600845e-03  2.76369862e-04  1.48894241e-03\n",
      "  1.61565821e-03  1.46315472e-03  1.36408540e-03  1.66876228e-03\n",
      " -1.16840347e-03  6.97600935e-04 -1.44146717e-03  1.77397793e-03\n",
      "  1.21450539e-03 -3.06819426e-04  1.75798482e-03  4.55640025e-04\n",
      "  3.53171054e-04 -1.32055211e-03  1.02700253e-03  6.29281952e-04\n",
      " -1.75217332e-03  1.06663505e-03  1.29364604e-03  5.61358337e-04\n",
      "  9.70029195e-04 -9.51560948e-04  9.65049928e-04  1.64755961e-03\n",
      "  1.00283544e-03  9.66665274e-04 -1.91503230e-04  3.48257789e-04\n",
      "  1.49617774e-03  6.80046337e-04  2.85585992e-03  1.65691066e-03\n",
      "  2.31869555e-03 -4.43917655e-03  8.25867760e-04  1.50376108e-03\n",
      "  7.48429615e-04  2.31318414e-03  1.26616445e-03  1.08604003e-03\n",
      "  1.28889442e-03  2.77884013e-04  1.12054423e-03  1.10379743e-03\n",
      "  8.89637127e-04  1.19469841e-03  9.74920208e-04  8.64896896e-04\n",
      "  1.03109389e-03  6.31589678e-04  9.51044414e-04  7.80531144e-04\n",
      "  7.18483007e-04  9.97723479e-04  9.00929114e-04  6.95968482e-04\n",
      "  4.52210155e-04  2.32641958e-03  2.86682193e-03  9.57946597e-04\n",
      "  3.03212041e-04  1.23806516e-03  6.19184674e-04 -1.87468818e-03\n",
      "  6.07226971e-04  1.34255447e-03  7.57676076e-04  6.74343200e-04\n",
      " -1.26675665e-03  1.44193804e-03  8.87166130e-04  2.21850897e-03\n",
      "  2.21758606e-03  2.02631982e-03  1.14422533e-03  1.90879925e-03\n",
      "  1.45086163e-03  4.95608240e-04  5.71998331e-04 -7.80208538e-04\n",
      "  1.39799643e-03  1.66136178e-03  1.68914334e-04  9.38946381e-04\n",
      " -7.51798182e-03  1.39380900e-04  9.13675181e-04  8.33898663e-04\n",
      "  6.04542937e-04  1.52937102e-03  8.41039156e-04  6.32795267e-04\n",
      "  8.46763764e-04  2.04790971e-03  1.35304497e-03  3.94386349e-04\n",
      " -1.45226690e-03  9.87758412e-04  4.14686636e-04 -2.59491643e-03\n",
      "  8.90650935e-04  2.83536594e-03  9.44853701e-04  1.00099105e-03\n",
      "  1.97314595e-03  1.34034108e-03  5.37995611e-04  8.98911071e-04\n",
      "  8.50627025e-04 -5.81742537e-04 -1.73589868e-03 -2.09248493e-03\n",
      " -1.34494915e-04  1.45323870e-03 -3.65295582e-03  8.07730959e-04\n",
      "  1.16171175e-03  7.93794635e-04 -1.16604580e-04  8.56765508e-04\n",
      "  5.40896080e-04  9.95779098e-04  1.32232884e-03 -5.91323982e-04\n",
      "  1.15885724e-03  5.68687752e-04  6.13236138e-04  1.25962031e-03\n",
      "  2.22182983e-03 -2.01169305e-05 -2.91512448e-03  1.22302121e-03\n",
      "  1.27607469e-03 -5.21809988e-04  1.15080574e-03  5.59958601e-04\n",
      "  1.00947801e-03  8.95862038e-04  1.00491268e-03  9.78268508e-04\n",
      "  1.33449809e-03  1.05766348e-03  1.89765482e-03  1.56110744e-03\n",
      "  1.30049200e-03  1.85470194e-03  6.08875667e-04  4.13675623e-04\n",
      "  2.39875442e-04  1.40499450e-03 -2.11585035e-03  7.59524949e-04\n",
      "  1.47921639e-03  1.33933325e-03  1.25647743e-03  8.65309671e-04\n",
      " -8.43256013e-05  1.38038167e-03  7.69726927e-04 -1.66019123e-03\n",
      "  1.61467712e-03  8.82179000e-04  1.66528692e-03 -1.35238396e-03\n",
      "  2.02394782e-03  3.79513574e-04  2.18744953e-03  1.44645343e-03\n",
      "  8.76301814e-04 -1.15068886e-03  2.89227949e-04  1.53605725e-03\n",
      "  9.36695926e-05  2.88726401e-03  1.10588339e-03  7.97910997e-04\n",
      "  1.21293418e-03  2.61777997e-04  2.72615596e-03  9.27948664e-04\n",
      "  2.73142848e-03  1.14485550e-03  1.24234362e-03  1.06263195e-03\n",
      "  1.07032871e-03  1.06508237e-03 -3.04433708e-03 -1.34114065e-03\n",
      "  1.41224577e-03  1.07669347e-03  6.17707036e-04 -2.32177722e-03\n",
      "  1.40292987e-03  1.39306301e-03  1.02769012e-03  1.09333282e-03\n",
      "  9.37707994e-04  6.14094174e-04  9.35430381e-04  1.31485237e-03\n",
      "  1.81558688e-03  1.36290185e-03 -3.54310055e-03  1.49193227e-03\n",
      "  1.58075147e-03  3.56377611e-04 -8.77153693e-04  2.01956126e-03\n",
      "  1.73137470e-03  3.07092120e-04  6.30484114e-04  7.72701904e-04\n",
      "  1.48794001e-03  9.12045513e-04  1.39638037e-03  2.06785123e-03\n",
      " -8.46907867e-05  1.51170851e-03  1.63844344e-03 -1.57478493e-03\n",
      "  1.75908855e-03  1.12346369e-03 -6.70863410e-04  1.23555124e-03\n",
      "  1.31328523e-04  1.78619389e-03  3.98188346e-04  1.68923853e-03\n",
      " -3.83161460e-04 -4.49389057e-03  1.26459265e-03  1.55329963e-03\n",
      "  1.30316399e-03  1.85024697e-03  3.78197395e-05  4.15992959e-06\n",
      "  7.83980973e-04  1.28927380e-03 -2.16500386e-03  8.38020627e-04\n",
      "  1.58058084e-03  4.90144907e-04  1.48608572e-03  7.73729227e-04\n",
      "  8.67924314e-04  9.75627060e-04  9.38940398e-04  2.67867156e-03\n",
      " -1.79991430e-03  1.17337617e-03  1.19422485e-03 -1.57493077e-03\n",
      " -3.65880302e-03  9.51151580e-04  1.05316773e-03  1.27665405e-03\n",
      "  1.21371066e-03  6.38844741e-04  1.04700760e-03  1.52338096e-03\n",
      " -8.71387492e-04  4.32702369e-04  1.20696268e-03  9.35096619e-04\n",
      "  9.79391559e-04 -1.59886819e-04  1.49063222e-03  2.36694697e-03\n",
      "  9.20466794e-04  8.90708988e-04 -4.29795717e-03  4.28184863e-04\n",
      "  1.58024363e-03 -3.60860720e-03  6.07054127e-04  6.02229679e-04\n",
      "  2.52609203e-03  9.74464300e-04  1.37977549e-03  2.16963863e-03\n",
      " -1.02309671e-04  9.68320477e-04  6.82855402e-06  1.48745878e-03\n",
      " -9.46396267e-04  2.34256612e-03  1.64670191e-03  2.19632328e-03\n",
      "  9.40569479e-04  2.65806605e-03  1.13762653e-03  1.02591146e-03\n",
      "  1.19604174e-03  1.11542481e-03  2.49132020e-04  5.88363399e-04\n",
      "  1.17735347e-03  1.87403011e-04  1.12617438e-03  8.12026642e-04\n",
      "  4.92506640e-04  5.91421121e-04 -4.59009037e-05  1.00220929e-03\n",
      "  1.06281483e-03  2.17127064e-03  9.09639972e-04  1.63228837e-03\n",
      "  9.92144041e-06  4.49982187e-04 -3.00597248e-04 -5.83893014e-04\n",
      "  1.73475869e-03  3.61300548e-04  2.48821813e-04  1.42180881e-03\n",
      "  8.41314352e-04  7.86125040e-04 -2.13914957e-05  2.15240238e-03\n",
      "  6.52829524e-04  2.74009964e-03  1.52635227e-03  3.81383293e-04\n",
      "  1.08955191e-03  1.38771201e-03  1.55748620e-03  5.05543898e-04\n",
      " -7.14532643e-04  1.43533617e-03 -2.46839072e-04  9.85130139e-04\n",
      "  1.99526601e-03 -4.09806844e-03  2.59119835e-03  1.10777485e-03\n",
      "  1.48961207e-03  2.76720165e-03  7.12450912e-04  1.15691169e-03\n",
      "  1.64803297e-03  5.82171686e-04  1.01305263e-03  8.04979277e-04\n",
      "  1.08379220e-03  9.76671204e-04  1.10678264e-03  8.52495735e-04\n",
      "  1.14169957e-03  6.98025962e-05  9.22134986e-04  3.92719465e-04\n",
      "  8.45219678e-04  1.76147822e-03  1.19417415e-03  5.13383948e-04\n",
      " -8.58435610e-03  7.26216194e-04  1.60103628e-03  1.12902214e-03\n",
      "  7.87688738e-04  1.48844958e-03  2.62999345e-03  8.18489663e-04\n",
      "  9.80606036e-04  1.81113294e-03  2.02410735e-03  8.31268807e-04\n",
      "  1.30237732e-03  2.27371634e-03  7.88137178e-04  5.74350667e-04\n",
      "  1.06898647e-03  1.59523121e-03  1.48732578e-03  1.49621727e-03]\n"
     ]
    },
    {
     "name": "stdout",
     "output_type": "stream",
     "text": [
      "done!\n",
      "result shown below:\n",
      "[ 0.  0.  0.  0.  0.  0.  0.  0.  0.  0.  0.  0.  0.  0.  0.  0.  0.  0.\n",
      "  0.  0.  0.  0.  0.  0.  0.  0.  0.  0.  0.  0.  0.  0.  0.  0.  0.  0.\n",
      "  0.  0.  0.  0.  0.  0.  0.  0.  0.  0.  0.  0.  0.  0.  0.  0.  0.  0.\n",
      "  0.  0.  0.  0.  0.  0.  0.  0.  0.  0.  0.  0.  0.  0.  0.  0.  0.  0.\n",
      "  0.  0.  0.  0.  0.  0.  0.  0.  0.  0.  0.  0.  0.  0.  0.  0.  0.  0.\n",
      "  0.  0.  0.  0.  0.  0.  0.  0.  0.  0.  0.  0.  0.  0.  0.  0.  0.  0.\n",
      "  0.  0.  0.  0.  0.  0.  0.  0.  0.  0.  0.  0.  0.  0.  0.  0.  0.  0.\n",
      "  0.  0.  0.  0.  0.  0.  0.  0.  0.  0.  0.  0.  0.  0.  0.  0.  0.  0.\n",
      "  0.  0.  0.  0.  0.  0.  0.  0.  0.  0.  0.  0.  0.  0.  0.  0.  0.  0.\n",
      "  0.  0.  0.  0.  0.  0.  0.  0.  0.  0.  0.  0.  0.  0.  0.  0.  0.  0.\n",
      "  0.  0.  0.  0.  0.  0.  0.  0.  0.  0.  0.  0.  0.  0.  0.  0.  0.  0.\n",
      "  0.  0.  0.  0.  0.  0.  0.  0.  0.  0.  0.  0.  0.  0.  0.  0.  0.  0.\n",
      "  0.  0.  0.  0.  0.  0.  0.  0.  0.  0.  0.  0.  0.  0.  0.  0.  0.  0.\n",
      "  0.  0.  0.  0.  0.  0.  0.  0.  0.  0.  0.  0.  0.  0.  0.  0.  0.  0.\n",
      "  0.  0.  0.  0.  0.  0.  0.  0.  0.  0.  0.  0.  0.  0.  0.  0.  0.  0.\n",
      "  0.  0.  0.  0.  0.  0.  0.  0.  0.  0.  0.  0.  0.  0.  0.  0.  0.  0.\n",
      "  0.  0.  0.  0.  0.  0.  0.  0.  0.  0.  0.  0.  0.  0.  0.  0.  0.  0.\n",
      "  0.  0.  0.  0.  0.  0.  0.  0.  0.  0.  0.  0.  0.  0.  0.  0.  0.  0.\n",
      "  0.  0.  0.  0.  0.  0.  0.  0.  0.  0.  0.  0.  0.  0.  0.  0.  0.  0.\n",
      "  0.  0.  0.  0.  0.  0.  0.  0.  0.  0.  0.  0.  0.  0.  0.  0.  0.  0.\n",
      "  0.  0.  0.  0.  0.  0.  0.  0.  0.  0.  0.  0.  0.  0.  0.  0.  0.  0.\n",
      "  0.  0.  0.  0.  0.  0.  0.  0.  0.  0.  0.  0.  0.  0.  0.  0.  0.  0.\n",
      "  0.  0.  0.  0.  0.  0.  0.  0.  0.  0.  0.  0.  0.  0.  0.  0.  0.  0.\n",
      "  0.  0.  0.  0.  0.  0.  0.  0.  0.  0.  0.  0.  0.  0.  0.  0.  0.  0.\n",
      "  0.  0.  0.  0.  0.  0.  0.  0.  0.  0.  0.  0.  0.  0.  0.  0.  0.  0.\n",
      "  0.  0.  0.  0.  0.  0.  0.  0.  0.  0.  0.  0.  0.  0.  0.  0.  0.  0.\n",
      "  0.  0.  0.  0.  0.  0.  0.  0.  0.  0.  0.  0.  0.  0.  0.  0.  0.  0.\n",
      "  0.  0.  0.  0.  0.  0.  0.  0.  0.  0.  0.  0.  0.  0.  0.  0.  0.  0.\n",
      "  0.  0.  0.  0.  0.  0.  0.  0.  0.  0.  0.  0.  0.  0.  0.  0.  0.  0.\n",
      "  0.  0.  0.  0.  0.  0.  0.  0.  0.  0.  0.  0.  0.  0.  0.  0.  0.  0.\n",
      "  0.  0.  0.  0.  0.  0.  0.  0.  0.  0.  0.  0.  0.  0.  0.  0.  0.  0.\n",
      "  0.  0.  0.  0.  0.  0.  0.  0.  0.  0.  0.  0.  0.  0.  0.  0.  0.  0.\n",
      "  0.  0.  0.  0.  0.  0.  0.  0.  0.  0.  0.  0.  0.  0.  0.  0.  0.  0.\n",
      "  0.  0.  0.  0.  0.  0.  0.  0.  0.  0.  0.  0.  0.  0.  0.  0.  0.  0.\n",
      "  0.  0.  0.  0.  0.  0.  0.  0.  0.  0.  0.  0.  0.  0.  0.  0.  0.  0.\n",
      "  0.  0.  0.  0.  0.  0.  0.  0.  0.  0.  0.  0.  0.  0.  0.  0.  0.  0.\n",
      "  0.  0.  0.  0.  0.  0.  0.  0.  0.  0.  0.  0.  0.  0.  0.  0.  0.  0.\n",
      "  0.  0.  0.  0.  0.  0.  0.  0.  0.  0.  0.  0.  0.  0.  0.  0.  0.  0.\n",
      "  0.  0.  0.  0.  0.  0.  0.  0.  0.  0.  0.  0.  0.  0.  0.  0.  0.  0.\n",
      "  0.  0.  0.  0.  0.  0.  0.  0.  0.  0.  0.  0.  0.  0.  0.  0.  0.  0.\n",
      "  0.  0.  0.  0.  0.  0.  0.  0.  0.  0.  0.  0.  0.  0.  0.  0.  0.  0.\n",
      "  0.  0.  0.  0.  0.  0.  0.  0.  0.  0.  0.  0.  0.  0.  0.  0.  0.  0.\n",
      "  0.  0.  0.  0.  0.  0.  0.  0.  0.  0.  0.  0.  0.  0.  0.  0.  0.  0.\n",
      "  0.  0.  0.  0.  0.  0.  0.  0.  0.  0.  0.  0.  0.  0.  0.  0.  0.  0.\n",
      "  0.  0.  0.  0.  0.  0.  0.  0.  0.  0.  0.  0.  0.  0.  0.  0.  0.  0.\n",
      "  0.  0.  0.  0.  0.  0.  0.  0.  0.  0.  0.  0.  0.  0.  0.  0.  0.  0.\n",
      "  0.  0.  0.  0.  0.  0.  0.  0.  0.  0.  0.  0.  0.  0.  0.  0.  0.  0.\n",
      "  0.  0.  0.  0.  0.  0.  0.  0.  0.  0.  0.  0.  0.  0.  0.  0.  0.  0.\n",
      "  0.  0.  0.  0.  0.  0.  0.  0.  0.  0.  0.  0.  0.  0.  0.  0.  0.  0.\n",
      "  0.  0.  0.  0.  0.  0.  0.  0.  0.  0.  0.  0.  0.  0.  0.  0.  0.  0.\n",
      "  0.  0.  0.  0.  0.  0.  0.  0.  0.  0.  0.  0.  0.  0.  0.  0.  0.  0.\n",
      "  0.  0.  0.  0.  0.  0.  0.  0.  0.  0.  0.  0.  0.  0.  0.  0.  0.  0.\n",
      "  0.  0.  0.  0.  0.  0.  0.  0.  0.  0.  0.  0.  0.  0.  0.  0.  0.  0.\n",
      "  0.  0.  0.  0.  0.  0.  0.  0.  0.  0.  0.  0.  0.  0.  0.  0.  0.  0.\n",
      "  0.  0.  0.  0.  0.  0.  0.  0.  0.  0.  0.  0.  0.  0.  0.  0.  0.  0.\n",
      "  0.  0.  0.  0.  0.  0.  0.  0.  0. -2.]\n"
     ]
    }
   ],
   "source": [
    "res_knn = app.run(measure_KNN)\n",
    "res_knnloo = app.run(measure_KNNLOO)"
   ]
  },
  {
   "cell_type": "markdown",
   "metadata": {},
   "source": [
    "##### visualize"
   ]
  },
  {
   "cell_type": "code",
   "execution_count": 17,
   "metadata": {
    "scrolled": true
   },
   "outputs": [
    {
     "data": {
      "image/png": "[encoded data removed]",
      "text/plain": [
       "<Figure size 432x288 with 1 Axes>"
      ]
     },
     "metadata": {
      "needs_background": "light"
     },
     "output_type": "display_data"
    }
   ],
   "source": [
    "PoisoningPlotter(app, ('KNN-Shapley',res_knn), ('KNN-LOO',res_knnloo)).plot()"
   ]
  },
  {
   "cell_type": "markdown",
   "metadata": {},
   "source": [
    "# Instance-based Watermark Removal"
   ]
  },
  {
   "cell_type": "markdown",
   "metadata": {},
   "source": [
    "##### data loading"
   ]
  },
  {
   "cell_type": "code",
   "execution_count": null,
   "metadata": {},
   "outputs": [],
   "source": [
    "# load MNIST"
   ]
  },
  {
   "cell_type": "markdown",
   "metadata": {},
   "source": [
    "###### measure"
   ]
  },
  {
   "cell_type": "code",
   "execution_count": null,
   "metadata": {},
   "outputs": [],
   "source": [
    "measure = KNN_Shapley(K=5)"
   ]
  },
  {
   "cell_type": "markdown",
   "metadata": {},
   "source": [
    "##### application"
   ]
  },
  {
   "cell_type": "code",
   "execution_count": null,
   "metadata": {},
   "outputs": [],
   "source": [
    "app = # instance-based watermark removal"
   ]
  },
  {
   "cell_type": "markdown",
   "metadata": {},
   "source": [
    "##### run"
   ]
  },
  {
   "cell_type": "code",
   "execution_count": null,
   "metadata": {},
   "outputs": [],
   "source": [
    "# run"
   ]
  },
  {
   "cell_type": "markdown",
   "metadata": {},
   "source": [
    "##### visualize"
   ]
  },
  {
   "cell_type": "code",
   "execution_count": null,
   "metadata": {},
   "outputs": [],
   "source": [
    "# TO BE COMPLETED"
   ]
  },
  {
   "cell_type": "markdown",
   "metadata": {},
   "source": [
    "# Data Summarization"
   ]
  },
  {
   "cell_type": "markdown",
   "metadata": {},
   "source": [
    "##### data loading"
   ]
  },
  {
   "cell_type": "code",
   "execution_count": null,
   "metadata": {},
   "outputs": [],
   "source": [
    "# load UCI Adult dataset"
   ]
  },
  {
   "cell_type": "markdown",
   "metadata": {},
   "source": [
    "###### measure"
   ]
  },
  {
   "cell_type": "code",
   "execution_count": null,
   "metadata": {},
   "outputs": [],
   "source": [
    "measure = KNN_Shapley(K=5)"
   ]
  },
  {
   "cell_type": "markdown",
   "metadata": {},
   "source": [
    "##### application"
   ]
  },
  {
   "cell_type": "code",
   "execution_count": null,
   "metadata": {},
   "outputs": [],
   "source": [
    "app = # data summarization"
   ]
  },
  {
   "cell_type": "markdown",
   "metadata": {},
   "source": [
    "##### run"
   ]
  },
  {
   "cell_type": "code",
   "execution_count": null,
   "metadata": {},
   "outputs": [],
   "source": [
    "# run"
   ]
  },
  {
   "cell_type": "markdown",
   "metadata": {},
   "source": [
    "##### visualize"
   ]
  },
  {
   "cell_type": "code",
   "execution_count": null,
   "metadata": {},
   "outputs": [],
   "source": [
    "# TO BE COMPLETED"
   ]
  },
  {
   "cell_type": "markdown",
   "metadata": {},
   "source": [
    "# Data Acquisition"
   ]
  },
  {
   "cell_type": "markdown",
   "metadata": {},
   "source": [
    "##### data loading"
   ]
  },
  {
   "cell_type": "code",
   "execution_count": null,
   "metadata": {},
   "outputs": [],
   "source": [
    "# load MNIST"
   ]
  },
  {
   "cell_type": "markdown",
   "metadata": {},
   "source": [
    "###### measure"
   ]
  },
  {
   "cell_type": "code",
   "execution_count": null,
   "metadata": {},
   "outputs": [],
   "source": [
    "measure = KNN_Shapley(K=5)"
   ]
  },
  {
   "cell_type": "markdown",
   "metadata": {},
   "source": [
    "##### application"
   ]
  },
  {
   "cell_type": "code",
   "execution_count": null,
   "metadata": {},
   "outputs": [],
   "source": [
    "app = # data acquisition"
   ]
  },
  {
   "cell_type": "markdown",
   "metadata": {},
   "source": [
    "##### run"
   ]
  },
  {
   "cell_type": "code",
   "execution_count": null,
   "metadata": {},
   "outputs": [],
   "source": [
    "# run"
   ]
  },
  {
   "cell_type": "markdown",
   "metadata": {},
   "source": [
    "##### visualize"
   ]
  },
  {
   "cell_type": "code",
   "execution_count": null,
   "metadata": {},
   "outputs": [],
   "source": [
    "# TO BE COMPLETED"
   ]
  },
  {
   "cell_type": "markdown",
   "metadata": {},
   "source": [
    "# Domain Adapatation"
   ]
  },
  {
   "cell_type": "markdown",
   "metadata": {},
   "source": [
    "##### data loading"
   ]
  },
  {
   "cell_type": "code",
   "execution_count": null,
   "metadata": {},
   "outputs": [],
   "source": [
    "# load two datasets"
   ]
  },
  {
   "cell_type": "markdown",
   "metadata": {},
   "source": [
    "###### measure"
   ]
  },
  {
   "cell_type": "code",
   "execution_count": null,
   "metadata": {},
   "outputs": [],
   "source": [
    "measure = KNN_Shapley(K=5)"
   ]
  },
  {
   "cell_type": "markdown",
   "metadata": {},
   "source": [
    "##### application"
   ]
  },
  {
   "cell_type": "code",
   "execution_count": null,
   "metadata": {},
   "outputs": [],
   "source": [
    "app = # domain adaptation"
   ]
  },
  {
   "cell_type": "markdown",
   "metadata": {},
   "source": [
    "##### run"
   ]
  },
  {
   "cell_type": "code",
   "execution_count": null,
   "metadata": {},
   "outputs": [],
   "source": [
    "# run"
   ]
  },
  {
   "cell_type": "markdown",
   "metadata": {},
   "source": [
    "##### visualize"
   ]
  },
  {
   "cell_type": "code",
   "execution_count": null,
   "metadata": {},
   "outputs": [],
   "source": [
    "# TO BE COMPLETED"
   ]
  }
 ],
 "metadata": {
  "kernelspec": {
   "display_name": "Python 3",
   "language": "python",
   "name": "python3"
  },
  "language_info": {
   "codemirror_mode": {
    "name": "ipython",
    "version": 3
   },
   "file_extension": ".py",
   "mimetype": "text/x-python",
   "name": "python",
   "nbconvert_exporter": "python",
   "pygments_lexer": "ipython3",
   "version": "3.6.5"
  }
 },
 "nbformat": 4,
 "nbformat_minor": 2
}
