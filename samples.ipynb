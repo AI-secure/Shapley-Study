{
 "cells": [
  {
   "cell_type": "code",
   "execution_count": 1,
   "metadata": {},
   "outputs": [
    {
     "name": "stderr",
     "output_type": "stream",
     "text": [
      "/home/zidaneandmessi/.local/lib/python3.6/site-packages/tensorflow/python/framework/dtypes.py:516: FutureWarning: Passing (type, 1) or '1type' as a synonym of type is deprecated; in a future version of numpy, it will be understood as (type, (1,)) / '(1,)type'.\n",
      "  _np_qint8 = np.dtype([(\"qint8\", np.int8, 1)])\n",
      "/home/zidaneandmessi/.local/lib/python3.6/site-packages/tensorflow/python/framework/dtypes.py:517: FutureWarning: Passing (type, 1) or '1type' as a synonym of type is deprecated; in a future version of numpy, it will be understood as (type, (1,)) / '(1,)type'.\n",
      "  _np_quint8 = np.dtype([(\"quint8\", np.uint8, 1)])\n",
      "/home/zidaneandmessi/.local/lib/python3.6/site-packages/tensorflow/python/framework/dtypes.py:518: FutureWarning: Passing (type, 1) or '1type' as a synonym of type is deprecated; in a future version of numpy, it will be understood as (type, (1,)) / '(1,)type'.\n",
      "  _np_qint16 = np.dtype([(\"qint16\", np.int16, 1)])\n",
      "/home/zidaneandmessi/.local/lib/python3.6/site-packages/tensorflow/python/framework/dtypes.py:519: FutureWarning: Passing (type, 1) or '1type' as a synonym of type is deprecated; in a future version of numpy, it will be understood as (type, (1,)) / '(1,)type'.\n",
      "  _np_quint16 = np.dtype([(\"quint16\", np.uint16, 1)])\n",
      "/home/zidaneandmessi/.local/lib/python3.6/site-packages/tensorflow/python/framework/dtypes.py:520: FutureWarning: Passing (type, 1) or '1type' as a synonym of type is deprecated; in a future version of numpy, it will be understood as (type, (1,)) / '(1,)type'.\n",
      "  _np_qint32 = np.dtype([(\"qint32\", np.int32, 1)])\n",
      "/home/zidaneandmessi/.local/lib/python3.6/site-packages/tensorflow/python/framework/dtypes.py:525: FutureWarning: Passing (type, 1) or '1type' as a synonym of type is deprecated; in a future version of numpy, it will be understood as (type, (1,)) / '(1,)type'.\n",
      "  np_resource = np.dtype([(\"resource\", np.ubyte, 1)])\n",
      "/home/zidaneandmessi/.local/lib/python3.6/site-packages/tensorboard/compat/tensorflow_stub/dtypes.py:541: FutureWarning: Passing (type, 1) or '1type' as a synonym of type is deprecated; in a future version of numpy, it will be understood as (type, (1,)) / '(1,)type'.\n",
      "  _np_qint8 = np.dtype([(\"qint8\", np.int8, 1)])\n",
      "/home/zidaneandmessi/.local/lib/python3.6/site-packages/tensorboard/compat/tensorflow_stub/dtypes.py:542: FutureWarning: Passing (type, 1) or '1type' as a synonym of type is deprecated; in a future version of numpy, it will be understood as (type, (1,)) / '(1,)type'.\n",
      "  _np_quint8 = np.dtype([(\"quint8\", np.uint8, 1)])\n",
      "/home/zidaneandmessi/.local/lib/python3.6/site-packages/tensorboard/compat/tensorflow_stub/dtypes.py:543: FutureWarning: Passing (type, 1) or '1type' as a synonym of type is deprecated; in a future version of numpy, it will be understood as (type, (1,)) / '(1,)type'.\n",
      "  _np_qint16 = np.dtype([(\"qint16\", np.int16, 1)])\n",
      "/home/zidaneandmessi/.local/lib/python3.6/site-packages/tensorboard/compat/tensorflow_stub/dtypes.py:544: FutureWarning: Passing (type, 1) or '1type' as a synonym of type is deprecated; in a future version of numpy, it will be understood as (type, (1,)) / '(1,)type'.\n",
      "  _np_quint16 = np.dtype([(\"quint16\", np.uint16, 1)])\n",
      "/home/zidaneandmessi/.local/lib/python3.6/site-packages/tensorboard/compat/tensorflow_stub/dtypes.py:545: FutureWarning: Passing (type, 1) or '1type' as a synonym of type is deprecated; in a future version of numpy, it will be understood as (type, (1,)) / '(1,)type'.\n",
      "  _np_qint32 = np.dtype([(\"qint32\", np.int32, 1)])\n",
      "/home/zidaneandmessi/.local/lib/python3.6/site-packages/tensorboard/compat/tensorflow_stub/dtypes.py:550: FutureWarning: Passing (type, 1) or '1type' as a synonym of type is deprecated; in a future version of numpy, it will be understood as (type, (1,)) / '(1,)type'.\n",
      "  np_resource = np.dtype([(\"resource\", np.ubyte, 1)])\n",
      "In /home/zidaneandmessi/.local/lib/python3.6/site-packages/matplotlib/mpl-data/stylelib/_classic_test.mplstyle: \n",
      "The text.latex.preview rcparam was deprecated in Matplotlib 3.3 and will be removed two minor releases later.\n",
      "In /home/zidaneandmessi/.local/lib/python3.6/site-packages/matplotlib/mpl-data/stylelib/_classic_test.mplstyle: \n",
      "The mathtext.fallback_to_cm rcparam was deprecated in Matplotlib 3.3 and will be removed two minor releases later.\n",
      "In /home/zidaneandmessi/.local/lib/python3.6/site-packages/matplotlib/mpl-data/stylelib/_classic_test.mplstyle: Support for setting the 'mathtext.fallback_to_cm' rcParam is deprecated since 3.3 and will be removed two minor releases later; use 'mathtext.fallback : 'cm' instead.\n",
      "In /home/zidaneandmessi/.local/lib/python3.6/site-packages/matplotlib/mpl-data/stylelib/_classic_test.mplstyle: \n",
      "The validate_bool_maybe_none function was deprecated in Matplotlib 3.3 and will be removed two minor releases later.\n",
      "In /home/zidaneandmessi/.local/lib/python3.6/site-packages/matplotlib/mpl-data/stylelib/_classic_test.mplstyle: \n",
      "The savefig.jpeg_quality rcparam was deprecated in Matplotlib 3.3 and will be removed two minor releases later.\n",
      "In /home/zidaneandmessi/.local/lib/python3.6/site-packages/matplotlib/mpl-data/stylelib/_classic_test.mplstyle: \n",
      "The keymap.all_axes rcparam was deprecated in Matplotlib 3.3 and will be removed two minor releases later.\n",
      "In /home/zidaneandmessi/.local/lib/python3.6/site-packages/matplotlib/mpl-data/stylelib/_classic_test.mplstyle: \n",
      "The animation.avconv_path rcparam was deprecated in Matplotlib 3.3 and will be removed two minor releases later.\n",
      "In /home/zidaneandmessi/.local/lib/python3.6/site-packages/matplotlib/mpl-data/stylelib/_classic_test.mplstyle: \n",
      "The animation.avconv_args rcparam was deprecated in Matplotlib 3.3 and will be removed two minor releases later.\n"
     ]
    }
   ],
   "source": [
    "#!/usr/bin/python\n",
    "from __future__ import absolute_import\n",
    "\n",
    "import numpy as np\n",
    "from tensorflow import keras\n",
    "import pickle\n",
    "import argparse\n",
    "import copy\n",
    "import random\n",
    "\n",
    "from shapley.apps import Label, Poisoning\n",
    "from shapley.loader import FashionMnist, MNIST\n",
    "from shapley.measures import KNN_Shapley, KNN_LOO, G_Shapley, LOO, TMC_Shapley\n",
    "from shapley.utils.plotter import LabelPlotter, PoisoningPlotter\n",
    "\n",
    "%matplotlib inline"
   ]
  },
  {
   "cell_type": "markdown",
   "metadata": {},
   "source": [
    "# Noisy Label Detection"
   ]
  },
  {
   "cell_type": "markdown",
   "metadata": {},
   "source": [
    "##### data loading"
   ]
  },
  {
   "cell_type": "code",
   "execution_count": 2,
   "metadata": {},
   "outputs": [],
   "source": [
    "num = 1000\n",
    "loader = FashionMnist(num_train=num)\n",
    "X_data, y_data, X_test_data, y_test_data = loader.prepare_data()"
   ]
  },
  {
   "cell_type": "markdown",
   "metadata": {},
   "source": [
    "###### measure"
   ]
  },
  {
   "cell_type": "code",
   "execution_count": 3,
   "metadata": {},
   "outputs": [],
   "source": [
    "measure_KNN = KNN_Shapley(K=5)\n",
    "measure_KNNLOO = KNN_LOO(K=5)\n",
    "# measure = G_Shapley()\n",
    "# measure = TMC_Shapley()\n",
    "# measure = LOO()"
   ]
  },
  {
   "cell_type": "markdown",
   "metadata": {},
   "source": [
    "##### application"
   ]
  },
  {
   "cell_type": "code",
   "execution_count": 4,
   "metadata": {},
   "outputs": [],
   "source": [
    "app = Label(X_data, y_data, X_test_data, y_test_data, model_family='NN')"
   ]
  },
  {
   "cell_type": "markdown",
   "metadata": {},
   "source": [
    "##### run"
   ]
  },
  {
   "cell_type": "code",
   "execution_count": 5,
   "metadata": {
    "scrolled": false
   },
   "outputs": [
    {
     "name": "stdout",
     "output_type": "stream",
     "text": [
      "done!\n",
      "result shown below:\n",
      "[ 6.00419295e-03  4.52670240e-04  5.44553854e-04  5.44553854e-04\n",
      "  4.52950801e-04  4.52950801e-04  5.44275002e-04  5.44275002e-04\n",
      "  4.53227961e-04  5.44137052e-04  4.53365493e-04  4.53365493e-04\n",
      "  5.43863231e-04  5.43863231e-04  4.53637667e-04  5.43727757e-04\n",
      "  4.53772735e-04  5.43593094e-04  5.43593094e-04  4.54040855e-04\n",
      "  4.54040855e-04  5.43326569e-04  5.43326569e-04  5.43326569e-04\n",
      "  5.43326569e-04  5.43326569e-04  5.43326569e-04  4.54830994e-04\n",
      "  4.52670240e-04  4.54830994e-04  4.52670240e-04  4.52528010e-04\n",
      "  5.46599301e-04  5.46599301e-04  5.46599301e-04  5.46599301e-04\n",
      "  4.50599301e-04  5.46445947e-04  5.46445947e-04  5.46445947e-04\n",
      "  4.51056439e-04  5.46294535e-04  5.46294535e-04  4.51357826e-04\n",
      "  5.46144556e-04  4.51507332e-04  4.51507332e-04  4.51507332e-04\n",
      "  5.45698854e-04  5.45698854e-04  5.45698854e-04  5.45698854e-04\n",
      "  4.52095110e-04  5.45553054e-04  4.52240457e-04  4.52240457e-04\n",
      "  5.45263713e-04  5.45263713e-04  4.52528010e-04  5.44977933e-04\n",
      "  4.54852589e-04  5.41094792e-04  5.42829128e-04  5.40976601e-04\n",
      "  4.57060517e-04  4.57060517e-04  4.57060517e-04  5.40625977e-04\n",
      "  5.40625977e-04  4.57292644e-04  5.40510397e-04  4.57407904e-04\n",
      "  4.57407904e-04  5.40280832e-04  4.57522211e-04  4.57522211e-04\n",
      "  5.40053160e-04  4.57635578e-04  4.57635578e-04  5.39827359e-04\n",
      "  4.57748015e-04  4.57748015e-04  5.39603404e-04  5.39603404e-04\n",
      "  4.57970751e-04  4.57970751e-04  5.39381877e-04  5.39381877e-04\n",
      "  4.58191079e-04  5.39272160e-04  5.40976601e-04  5.39272160e-04\n",
      "  4.56825129e-04  5.41094792e-04  4.54981398e-04  5.42700696e-04\n",
      "  4.55109455e-04  4.55109455e-04  5.42445700e-04  5.42445700e-04\n",
      "  4.55362971e-04  5.42319493e-04  5.42319493e-04  5.42319493e-04\n",
      "  4.55739406e-04  4.55739406e-04  4.55739406e-04  4.55739406e-04\n",
      "  4.55739406e-04  5.41699292e-04  4.55862382e-04  4.55862382e-04\n",
      "  5.41454393e-04  5.41454393e-04  5.41454393e-04  5.41454393e-04\n",
      "  5.41454393e-04  5.30000000e-04  4.56468557e-04  4.56468557e-04\n",
      "  4.56468557e-04  5.41094792e-04  5.46599301e-04  4.53996680e-04\n",
      "  4.49825108e-04  5.50890091e-04  5.54201235e-04  5.54201235e-04\n",
      "  5.54201235e-04  5.54201235e-04  4.41419280e-04  4.41419280e-04\n",
      "  4.41419280e-04  4.41419280e-04  5.53359578e-04  4.41627735e-04\n",
      "  4.41627735e-04  4.41627735e-04  5.52738846e-04  5.52738846e-04\n",
      "  4.42037739e-04  5.52534976e-04  4.42240859e-04  5.52332602e-04\n",
      "  5.52332602e-04  5.30000000e-04  4.42643388e-04  5.52132439e-04\n",
      "  4.42842821e-04  4.42842821e-04  4.42842821e-04  5.51538474e-04\n",
      "  5.51538474e-04  5.51538474e-04  5.54201235e-04  4.42916845e-04\n",
      "  5.54237309e-04  5.54753639e-04  5.58108087e-04  4.37666401e-04\n",
      "  4.37666401e-04  5.30000000e-04  5.57626481e-04  4.37905763e-04\n",
      "  4.37905763e-04  4.37905763e-04  5.56914092e-04  4.38141345e-04\n",
      "  5.56679441e-04  4.38375072e-04  5.56446634e-04  4.38645335e-04\n",
      "  4.38831920e-04  5.56023943e-04  4.38874516e-04  5.55795656e-04\n",
      "  4.39101916e-04  4.39101916e-04  4.39101916e-04  4.39101916e-04\n",
      "  5.54894835e-04  5.54894835e-04  5.54894835e-04  4.39768457e-04\n",
      "  4.39768457e-04  5.53938502e-04  4.40714795e-04  5.51344151e-04\n",
      "  5.49505996e-04  5.50861315e-04  4.47068673e-04  4.47068673e-04\n",
      "  5.48391538e-04  4.47239490e-04  5.48221296e-04  5.48221296e-04\n",
      "  5.48221296e-04  5.48221296e-04  5.48221296e-04  4.48082176e-04\n",
      "  4.48082176e-04  4.48082176e-04  5.47722402e-04  4.48247371e-04\n",
      "  4.48247371e-04  5.47393649e-04  5.47393649e-04  4.48573958e-04\n",
      "  5.47231161e-04  5.47231161e-04  4.48897336e-04  5.47070266e-04\n",
      "  5.47070266e-04  5.47070266e-04  5.47070266e-04  5.47070266e-04\n",
      "  4.49228954e-04  4.47505019e-04  5.47244160e-04  4.46982147e-04\n",
      "  5.49505996e-04  4.44041570e-04  5.51152596e-04  4.44232442e-04\n",
      "  4.44232442e-04  4.44232442e-04  5.50584039e-04  5.50584039e-04\n",
      "  4.44608132e-04  5.50397188e-04  5.50397188e-04  5.50397188e-04\n",
      "  5.50397188e-04  4.45348996e-04  5.50213590e-04  5.50213590e-04\n",
      "  5.50213590e-04  4.45895958e-04  4.45895958e-04  4.45895958e-04\n",
      "  4.45895958e-04  5.49493123e-04  4.46074522e-04  5.49315173e-04\n",
      "  5.47593085e-04  4.56528699e-04  4.46546076e-04  5.48079230e-04\n",
      "  4.51273856e-04  5.38571603e-04  4.60348363e-04  5.38074454e-04\n",
      "  4.66135304e-04  5.32629623e-04  5.32629623e-04  5.32629623e-04\n",
      "  5.32629623e-04  5.32629623e-04  5.32629623e-04  4.66574533e-04\n",
      "  5.32556982e-04  4.66647014e-04  4.66647014e-04  4.66647014e-04\n",
      "  5.32340489e-04  4.66718863e-04  4.66718863e-04  4.66718863e-04\n",
      "  4.66718863e-04  5.32054659e-04  4.66789932e-04  4.66789932e-04\n",
      "  5.31912985e-04  5.31912985e-04  4.66930993e-04  5.31842683e-04\n",
      "  4.67001142e-04  5.31772685e-04  4.66903333e-04  4.66123026e-04\n",
      "  4.66123026e-04  5.32951650e-04  4.65379251e-04  4.64988890e-04\n",
      "  5.33769987e-04  5.33769987e-04  4.65146224e-04  4.65146224e-04\n",
      "  5.33613371e-04  5.33613371e-04  4.65302127e-04  5.33535686e-04\n",
      "  5.33535686e-04  4.65456969e-04  4.65469751e-04  4.65557915e-04\n",
      "  5.32938897e-04  5.33253608e-04  4.65558938e-04  5.33177318e-04\n",
      "  4.65635056e-04  5.33101370e-04  5.33101370e-04  4.65786439e-04\n",
      "  5.33025933e-04  5.33025933e-04  4.65936807e-04  4.67209983e-04\n",
      "  5.32672298e-04  5.31714563e-04  5.31557347e-04  5.31362297e-04\n",
      "  5.30728320e-04  5.30738981e-04  5.30633951e-04  4.68551822e-04\n",
      "  4.68519772e-04  5.30642301e-04  4.68584026e-04  4.68594709e-04\n",
      "  4.68605348e-04  4.68605348e-04  4.68605348e-04  5.30387072e-04\n",
      "  4.68658216e-04  5.30675452e-04  5.30249328e-04  5.30124061e-04\n",
      "  5.30197000e-04  4.68930691e-04  5.30103384e-04  4.69024264e-04\n",
      "  5.30061904e-04  4.69065576e-04  4.68857751e-04  5.30249328e-04\n",
      "  4.68227782e-04  5.30916943e-04  4.68061187e-04  4.67279107e-04\n",
      "  4.67279107e-04  5.31496059e-04  4.67347764e-04  5.31427548e-04\n",
      "  4.67416128e-04  4.67416128e-04  5.31291257e-04  1.52572428e-03\n",
      "  5.31291257e-04  5.31291257e-04  4.67619481e-04  5.31223760e-04\n",
      "  4.67686834e-04  5.31156549e-04  5.31156549e-04  4.67820831e-04\n",
      "  4.67820831e-04  4.67820831e-04  5.30956612e-04  5.30956612e-04\n",
      "  5.30956612e-04  5.30956612e-04  5.30956612e-04  5.30956612e-04\n",
      "  4.68216943e-04  4.65525591e-04  4.65758144e-04  4.65101418e-04\n",
      "  4.62701786e-04  5.33941211e-04  5.37915767e-04  4.60778402e-04\n",
      "  5.37816725e-04  4.60877190e-04  4.60877190e-04  5.37619906e-04\n",
      "  5.37619906e-04  5.37619906e-04  5.37619906e-04  5.37619906e-04\n",
      "  4.61364859e-04  4.61364859e-04  5.37346353e-04  5.36859767e-04\n",
      "  5.37235965e-04  5.37330310e-04  4.61652345e-04  4.61652345e-04\n",
      "  5.37139885e-04  5.37139885e-04  4.61841814e-04  5.37045507e-04\n",
      "  5.37045507e-04  4.62029862e-04  4.62029862e-04  5.36858396e-04\n",
      "  4.62123068e-04  5.37806598e-04  5.37998692e-04  5.37998692e-04\n",
      "  4.60395743e-04  5.38956765e-04  5.39145530e-04  5.39145530e-04\n",
      "  5.39145530e-04  5.39145530e-04  5.39145530e-04  5.39145530e-04\n",
      "  5.39145530e-04  5.39145530e-04  5.39145530e-04  5.39145530e-04\n",
      "  5.39145530e-04  5.39145530e-04  4.59972430e-04  4.59972430e-04\n",
      "  4.59972430e-04  4.59972430e-04  4.59972430e-04  4.59972430e-04\n",
      "  4.59972430e-04  4.59972430e-04  5.38318476e-04  5.38318476e-04\n",
      "  5.38318476e-04  4.60278137e-04  4.60278137e-04  5.38115993e-04\n",
      "  4.61200267e-04  4.62089738e-04  5.35072072e-04  5.36611490e-04\n",
      "  4.63437302e-04  4.63657311e-04  5.35000949e-04  4.63742042e-04\n",
      "  5.34916419e-04  4.63826372e-04  5.34832289e-04  5.34832289e-04\n",
      "  5.34832289e-04  5.34832289e-04  4.64160911e-04  5.34749146e-04\n",
      "  1.52572428e-03  5.34749146e-04  4.64395410e-04  5.34128396e-04\n",
      "  5.34559078e-04  4.64491310e-04  5.34584768e-04  5.34584768e-04\n",
      "  4.64654698e-04  5.34503359e-04  4.64735917e-04  4.64735917e-04\n",
      "  5.34341486e-04  4.64816573e-04  5.30000000e-04  4.64816573e-04\n",
      "  4.64816573e-04  4.64816573e-04  5.34979275e-04  5.35156828e-04\n",
      "  5.35086946e-04  5.35156828e-04  4.62429250e-04  5.36519663e-04\n",
      "  4.62430328e-04  5.36428289e-04  4.62521478e-04  4.62521478e-04\n",
      "  4.62521478e-04  5.36156183e-04  5.36156183e-04  5.36156183e-04\n",
      "  4.62791587e-04  4.62791587e-04  5.35977209e-04  4.62880747e-04\n",
      "  4.62880747e-04  4.62967565e-04  4.62880747e-04  4.62880747e-04\n",
      "  4.62880747e-04  4.62880747e-04  4.62880747e-04  5.35271672e-04\n",
      "  5.35271672e-04  5.35271672e-04  5.35271672e-04  5.35271672e-04\n",
      "  4.63314832e-04  4.41677607e-04  5.46924958e-04  4.37424144e-04\n",
      "  3.88783802e-04  3.31900459e-04  3.31523237e-04  4.37424144e-04\n",
      "  6.89055388e-04  6.89055388e-04  3.15603300e-04  3.15603300e-04\n",
      "  3.15603300e-04  6.82209744e-04  3.17829747e-04  6.80010176e-04\n",
      "  6.80010176e-04  3.22150165e-04  3.22150165e-04  6.75791621e-04\n",
      "  6.75791621e-04  6.75791621e-04  6.75791621e-04  6.75791621e-04\n",
      "  3.32273868e-04  3.32273868e-04  6.71902600e-04  6.71902600e-04\n",
      "  3.36075816e-04  3.36075816e-04  6.68184832e-04  3.37904002e-04\n",
      "  3.15486634e-04  3.37904002e-04  6.97578921e-04  3.06265406e-04\n",
      "  7.39635844e-04  7.42930241e-04  2.74500039e-04  2.74500039e-04\n",
      "  7.40221938e-04  2.78087174e-04  2.78087174e-04  7.33210930e-04\n",
      "  2.81513505e-04  2.81513505e-04  7.26510741e-04  2.84789608e-04\n",
      "  1.52572428e-03  2.84789608e-04  7.20101149e-04  7.20101149e-04\n",
      "  2.94304418e-04  2.91529721e-04  2.91529721e-04  7.11602606e-04\n",
      "  7.11602606e-04  2.97330575e-04  2.97330575e-04  7.05959780e-04\n",
      "  3.00094731e-04  7.03232769e-04  3.02785341e-04  7.00577836e-04\n",
      "  6.98427853e-04  3.39372862e-04  3.55746881e-04  6.62244120e-04\n",
      "  3.57094443e-04  6.34443137e-04  3.61508310e-04  6.33207199e-04\n",
      "  6.33207199e-04  3.63946907e-04  6.32004242e-04  6.32004242e-04\n",
      "  6.32004242e-04  3.67492137e-04  6.30843247e-04  6.30843247e-04\n",
      "  3.69783820e-04  6.29712297e-04  3.70905013e-04  6.28600736e-04\n",
      "  6.28600736e-04  3.73099735e-04  3.73099735e-04  3.73099735e-04\n",
      "  6.25377862e-04  3.74156034e-04  3.74156034e-04  6.23291580e-04\n",
      "  3.75186234e-04  6.22269865e-04  6.22269865e-04  6.33446950e-04\n",
      "  3.74360156e-04  3.62215877e-04  3.59204127e-04  6.58158940e-04\n",
      "  3.42523233e-04  6.60264986e-04  3.44197039e-04  6.58608722e-04\n",
      "  3.45836035e-04  3.45836035e-04  3.45836035e-04  3.45836035e-04\n",
      "  6.52220127e-04  3.47392612e-04  3.47392612e-04  6.49153944e-04\n",
      "  6.49153944e-04  3.50397725e-04  6.47673721e-04  3.51863352e-04\n",
      "  6.46222475e-04  3.53300428e-04  6.44799363e-04  6.44799363e-04\n",
      "  3.56105569e-04  3.56105569e-04  3.56105569e-04  6.40691441e-04\n",
      "  3.57449019e-04  6.39360615e-04  7.29674140e-04  6.77503771e-04\n",
      "  2.64340099e-04  9.00209993e-04 -4.34420628e-04  1.30730455e-03\n",
      " -4.57401334e-04  1.25688438e-03 -4.09782286e-04  1.21183934e-03\n",
      " -3.67108033e-04  1.17135351e-03 -3.28646494e-04 -3.28646494e-04\n",
      "  1.09992493e-03 -2.95423903e-04  1.06821246e-03 -2.65120873e-04\n",
      "  1.03922695e-03 -2.37368791e-04  1.01263121e-03  1.01263121e-03\n",
      "  1.01263121e-03 -1.63839379e-04 -1.63839379e-04  9.68236092e-04\n",
      "  9.68236092e-04  9.68236092e-04  5.30000000e-04  9.68236092e-04\n",
      " -8.43954867e-05 -8.43954867e-05 -4.39796972e-04  9.95012146e-04\n",
      " -5.20346966e-04  1.46890035e-03 -5.18324933e-03 -5.99580705e-03\n",
      " -5.99580705e-03  5.67085962e-03  5.67085962e-03 -3.91247371e-03\n",
      "  4.34149454e-03 -2.90850546e-03  3.55614100e-03 -2.27719233e-03\n",
      "  3.03749299e-03  3.03749299e-03 -1.47532753e-03 -1.47532753e-03\n",
      "  2.44624110e-03 -1.23431445e-03  2.23317781e-03 -1.04459997e-03\n",
      " -1.04459997e-03  1.90994548e-03 -9.05789507e-04 -9.05789507e-04\n",
      "  1.66812354e-03 -7.99825182e-04 -7.99825182e-04  1.48039460e-03\n",
      "  1.39353636e-03  1.39353636e-03 -1.79486940e-05  1.24156819e-04\n",
      "  8.94909980e-04  1.71245533e-04  1.71245533e-04  7.94119683e-04\n",
      "  7.94119683e-04  7.94119683e-04  7.94119683e-04  7.94119683e-04\n",
      "  7.94119683e-04  2.07769759e-04  7.88444747e-04  2.13335894e-04\n",
      "  2.13335894e-04  7.77626599e-04  2.18593761e-04  2.18593761e-04\n",
      "  7.67399447e-04  2.23568278e-04  7.62514304e-04  7.62514304e-04\n",
      "  7.62514304e-04  7.62514304e-04  7.62514304e-04  7.62514304e-04\n",
      "  7.62514304e-04  2.55452157e-04  7.58264852e-04  2.44255532e-04\n",
      "  7.99406589e-04  7.63861652e-04  8.09615685e-04  8.29857369e-04\n",
      "  9.11467966e-04  9.11467966e-04 -7.01653431e-06 -7.01653431e-06\n",
      "  8.84179659e-04  6.02839813e-06  8.71511150e-04  8.71511150e-04\n",
      "  3.02994962e-05  3.02994962e-05  8.48564336e-04  8.48564336e-04\n",
      "  8.48564336e-04  6.24644714e-05  8.38397399e-04  5.30000000e-04\n",
      "  8.38397399e-04  8.38397399e-04  8.38397399e-04  1.00631521e-04\n",
      "  8.29435237e-04  8.29435237e-04  8.29435237e-04  8.29435237e-04\n",
      "  8.29435237e-04  8.29435237e-04  1.50142308e-04  1.84774767e-04\n",
      "  2.82948456e-04  3.77371906e-04  4.09844539e-04  6.11138818e-04\n",
      "  5.70404198e-04  5.70404198e-04  5.70404198e-04  4.23044271e-04\n",
      "  5.70043169e-04  4.23403536e-04  4.23403536e-04  4.23403536e-04\n",
      "  5.68975834e-04  5.68975834e-04  4.24106502e-04  4.24106502e-04\n",
      "  4.24106502e-04  5.67934024e-04  4.24450450e-04  4.24450450e-04\n",
      "  5.67251039e-04  4.24789511e-04  4.24789511e-04  5.66577726e-04\n",
      "  5.66577726e-04  5.30000000e-04  5.66577726e-04  4.25787630e-04\n",
      "  5.66248135e-04  5.66248135e-04  4.26442204e-04  5.66666998e-04\n",
      "  5.69660331e-04  5.66666998e-04  5.30000000e-04  5.70466232e-04\n",
      "  5.71775056e-04  5.30000000e-04  5.77107494e-04  4.16750987e-04\n",
      "  5.76680065e-04  5.76680065e-04  4.17599044e-04  4.17599044e-04\n",
      "  4.17599044e-04  4.17599044e-04  4.17599044e-04  5.74598757e-04\n",
      "  5.74598757e-04  5.74598757e-04  5.74598757e-04  4.19225285e-04\n",
      "  5.74197448e-04  4.19624527e-04  4.19624527e-04  4.19624527e-04\n",
      "  5.73011969e-04  4.20015656e-04  4.20015656e-04  4.20015656e-04\n",
      "  4.20015656e-04  5.71467199e-04  5.71467199e-04  4.20776402e-04\n",
      "  5.30000000e-04  4.20838746e-04  4.22134073e-04  5.65869670e-04\n",
      "  4.32078451e-04  5.30000000e-04  4.28558896e-04  4.33248264e-04\n",
      "  5.61682167e-04  5.61682167e-04  5.61682167e-04  5.61682167e-04\n",
      "  4.34338613e-04  5.61412466e-04  5.61412466e-04  5.61412466e-04\n",
      "  4.35140905e-04  4.35140905e-04  4.35140905e-04  4.35140905e-04\n",
      "  5.60104280e-04  5.60315059e-04  4.35618067e-04  4.35618067e-04\n",
      "  5.59798893e-04  4.35874551e-04  5.59543466e-04  5.59543466e-04\n",
      "  5.59543466e-04  5.59543466e-04  5.59543466e-04  4.37136051e-04\n",
      "  4.37136051e-04  5.59046043e-04  4.33248264e-04  4.36732597e-04\n",
      "  5.62326870e-04  5.62559610e-04  4.27620822e-04  5.65235501e-04\n",
      "  4.27935730e-04  4.27935730e-04  5.64609990e-04  5.64609990e-04\n",
      "  5.64609990e-04  5.64609990e-04  5.64609990e-04  5.64609990e-04\n",
      "  4.29778529e-04  5.64307677e-04  5.64307677e-04  5.64307677e-04\n",
      "  4.30677388e-04  5.64010721e-04  4.30973027e-04  5.63716390e-04\n",
      "  4.31266059e-04  4.31266059e-04  5.63134190e-04  4.31555243e-04\n",
      "  4.31555243e-04  5.62559610e-04  5.62559610e-04  5.62559610e-04\n",
      "  5.62559610e-04  4.16249585e-04  5.67799755e-04  4.16177127e-04\n",
      "  5.96878680e-04  6.05250694e-04  3.91727562e-04  3.91727562e-04\n",
      "  6.03741696e-04  6.03741696e-04  3.93215381e-04  3.93215381e-04\n",
      "  6.02274614e-04  3.93941281e-04  3.93941281e-04  6.00837832e-04\n",
      "  6.00837832e-04  6.00837832e-04  3.96059675e-04  6.00141308e-04\n",
      "  6.00141308e-04  6.00141308e-04  6.00141308e-04  3.98799026e-04\n",
      "  3.98799026e-04  5.98799026e-04  5.98799026e-04  5.98799026e-04\n",
      "  5.98799026e-04  4.01430605e-04  5.98151917e-04  4.02073485e-04\n",
      "  3.90964980e-04  4.02073485e-04  6.06018743e-04  3.89412245e-04\n",
      "  3.78181596e-04  3.78181596e-04  3.78181596e-04  6.16276834e-04\n",
      "  6.16276834e-04  6.16276834e-04  6.16276834e-04  3.81901834e-04\n",
      "  3.81901834e-04  3.81901834e-04  3.81901834e-04  3.81901834e-04\n",
      "  6.11786892e-04  6.11786892e-04  6.11786892e-04  3.84514165e-04\n",
      "  6.10929259e-04  3.85365349e-04  3.85365349e-04  6.09245946e-04\n",
      "  3.86197619e-04  3.86197619e-04  6.07599833e-04  6.07599833e-04\n",
      "  6.07599833e-04  3.88621731e-04  6.06803549e-04  6.06018743e-04\n",
      "  4.02703923e-04  4.11835059e-04  4.02703923e-04  5.88305647e-04\n",
      "  4.13378534e-04  4.13378534e-04  4.13378534e-04  5.30000000e-04\n",
      "  4.13378534e-04  5.86289197e-04  4.13875403e-04  4.13875403e-04\n",
      "  4.13875403e-04  4.13875403e-04  4.13875403e-04  4.13875403e-04\n",
      "  4.13875403e-04  5.82889488e-04  4.14350162e-04  5.82417389e-04\n",
      "  4.14819624e-04  4.14819624e-04  5.81486290e-04  4.15281304e-04\n",
      "  4.15281304e-04  4.15281304e-04  4.15281304e-04  5.79664866e-04\n",
      "  5.79664866e-04  4.16177127e-04  4.16177127e-04  5.88305647e-04\n",
      "  4.16177127e-04  5.88305647e-04  5.88826210e-04  5.95629968e-04\n",
      "  5.95629968e-04  5.95629968e-04  5.95629968e-04  5.95629968e-04\n",
      "  4.05756550e-04  4.05756550e-04  4.05756550e-04  4.05756550e-04\n",
      "  5.93256550e-04  4.06340662e-04  5.92676066e-04  5.92676066e-04\n",
      "  5.92676066e-04  4.08060681e-04  4.08060681e-04  4.08060681e-04\n",
      "  5.90987511e-04  5.90987511e-04  4.09169329e-04  5.90438211e-04\n",
      "  4.09715319e-04  5.89895500e-04  4.10254781e-04  4.10254781e-04\n",
      "  5.88826210e-04  5.88826210e-04  3.10895711e-04  5.30334313e-04]\n"
     ]
    },
    {
     "name": "stdout",
     "output_type": "stream",
     "text": [
      "done!\n",
      "result shown below:\n",
      "[0. 0. 0. 0. 0. 0. 0. 0. 0. 0. 0. 0. 0. 0. 0. 0. 0. 0. 0. 0. 0. 0. 0. 0.\n",
      " 0. 0. 0. 0. 0. 0. 0. 0. 0. 0. 0. 0. 0. 0. 0. 0. 0. 0. 0. 0. 0. 0. 0. 0.\n",
      " 0. 0. 0. 0. 0. 0. 0. 0. 0. 0. 0. 0. 0. 0. 0. 0. 0. 0. 0. 0. 0. 0. 0. 0.\n",
      " 0. 0. 0. 0. 0. 0. 0. 0. 0. 0. 0. 0. 0. 0. 0. 0. 0. 0. 0. 0. 0. 0. 0. 0.\n",
      " 0. 0. 0. 0. 0. 0. 0. 0. 0. 0. 0. 0. 0. 0. 0. 0. 0. 0. 0. 0. 0. 0. 0. 0.\n",
      " 0. 0. 0. 0. 0. 0. 0. 0. 0. 0. 0. 0. 0. 0. 0. 0. 0. 0. 0. 0. 0. 0. 0. 0.\n",
      " 0. 0. 0. 0. 0. 0. 0. 0. 0. 0. 0. 0. 0. 0. 0. 0. 0. 0. 0. 0. 0. 0. 0. 0.\n",
      " 0. 0. 0. 0. 0. 0. 0. 0. 0. 0. 0. 0. 0. 0. 0. 0. 0. 0. 0. 0. 0. 0. 0. 0.\n",
      " 0. 0. 0. 0. 0. 0. 0. 0. 0. 0. 0. 0. 0. 0. 0. 0. 0. 0. 0. 0. 0. 0. 0. 0.\n",
      " 0. 0. 0. 0. 0. 0. 0. 0. 0. 0. 0. 0. 0. 0. 0. 0. 0. 0. 0. 0. 0. 0. 0. 0.\n",
      " 0. 0. 0. 0. 0. 0. 0. 0. 0. 0. 0. 0. 0. 0. 0. 0. 0. 0. 0. 0. 0. 0. 0. 0.\n",
      " 0. 0. 0. 0. 0. 0. 0. 0. 0. 0. 0. 0. 0. 0. 0. 0. 0. 0. 0. 0. 0. 0. 0. 0.\n",
      " 0. 0. 0. 0. 0. 0. 0. 0. 0. 0. 0. 0. 0. 0. 0. 0. 0. 0. 0. 0. 0. 0. 0. 0.\n",
      " 0. 0. 0. 0. 0. 0. 0. 0. 0. 0. 0. 0. 0. 0. 0. 0. 0. 0. 0. 0. 0. 0. 0. 0.\n",
      " 0. 0. 0. 0. 0. 0. 0. 0. 0. 0. 0. 0. 0. 0. 0. 0. 0. 0. 0. 0. 0. 0. 0. 0.\n",
      " 0. 0. 0. 0. 0. 0. 0. 0. 0. 0. 0. 0. 0. 0. 0. 0. 0. 0. 0. 0. 0. 0. 0. 0.\n",
      " 0. 0. 0. 0. 0. 0. 0. 0. 0. 0. 0. 0. 0. 0. 0. 0. 0. 0. 0. 0. 0. 0. 0. 0.\n",
      " 0. 0. 0. 0. 0. 0. 0. 0. 0. 0. 0. 0. 0. 0. 0. 0. 0. 0. 0. 0. 0. 0. 0. 0.\n",
      " 0. 0. 0. 0. 0. 0. 0. 0. 0. 0. 0. 0. 0. 0. 0. 0. 0. 0. 0. 0. 0. 0. 0. 0.\n",
      " 0. 0. 0. 0. 0. 0. 0. 0. 0. 0. 0. 0. 0. 0. 0. 0. 0. 0. 0. 0. 0. 0. 0. 0.\n",
      " 0. 0. 0. 0. 0. 0. 0. 0. 0. 0. 0. 0. 0. 0. 0. 0. 0. 0. 0. 0. 0. 0. 0. 0.\n",
      " 0. 0. 0. 0. 0. 0. 0. 0. 0. 0. 0. 0. 0. 0. 0. 0. 0. 0. 0. 0. 0. 0. 0. 0.\n",
      " 0. 0. 0. 0. 0. 0. 0. 0. 0. 0. 0. 0. 0. 0. 0. 0. 0. 0. 0. 0. 0. 0. 0. 0.\n",
      " 0. 0. 0. 0. 0. 0. 0. 0. 0. 0. 0. 0. 0. 0. 0. 0. 0. 0. 0. 0. 0. 0. 0. 0.\n",
      " 0. 0. 0. 0. 0. 0. 0. 0. 0. 0. 0. 0. 0. 0. 0. 0. 0. 0. 0. 0. 0. 0. 0. 0.\n",
      " 0. 0. 0. 0. 0. 0. 0. 0. 0. 0. 0. 0. 0. 0. 0. 0. 0. 0. 0. 0. 0. 0. 0. 0.\n",
      " 0. 0. 0. 0. 0. 0. 0. 0. 0. 0. 0. 0. 0. 0. 0. 0. 0. 0. 0. 0. 0. 0. 0. 0.\n",
      " 0. 0. 0. 0. 0. 0. 0. 0. 0. 0. 0. 0. 0. 0. 0. 0. 0. 0. 0. 0. 0. 0. 0. 0.\n",
      " 0. 0. 0. 0. 0. 0. 0. 0. 0. 0. 0. 0. 0. 0. 0. 0. 0. 0. 0. 0. 0. 0. 0. 0.\n",
      " 0. 0. 0. 0. 0. 0. 0. 0. 0. 0. 0. 0. 0. 0. 0. 0. 0. 0. 0. 0. 0. 0. 0. 0.\n",
      " 0. 0. 0. 0. 0. 0. 0. 0. 0. 0. 0. 0. 0. 0. 0. 0. 0. 0. 0. 0. 0. 0. 0. 0.\n",
      " 0. 0. 0. 0. 0. 0. 0. 0. 0. 0. 0. 0. 0. 0. 0. 0. 0. 0. 0. 0. 0. 0. 0. 0.\n",
      " 0. 0. 0. 0. 0. 0. 0. 0. 0. 0. 0. 0. 0. 0. 0. 0. 0. 0. 0. 0. 0. 0. 0. 0.\n",
      " 0. 0. 0. 0. 0. 0. 0. 0. 0. 0. 0. 0. 0. 0. 0. 0. 0. 0. 0. 0. 0. 0. 0. 0.\n",
      " 0. 0. 0. 0. 0. 0. 0. 0. 0. 0. 0. 0. 0. 0. 0. 0. 0. 0. 0. 0. 0. 0. 0. 0.\n",
      " 0. 0. 0. 0. 0. 0. 0. 0. 0. 0. 0. 0. 0. 0. 0. 0. 0. 0. 0. 0. 0. 0. 0. 0.\n",
      " 0. 0. 0. 0. 0. 0. 0. 0. 0. 0. 0. 0. 0. 0. 0. 0. 0. 0. 0. 0. 0. 0. 0. 0.\n",
      " 0. 0. 0. 0. 0. 0. 0. 0. 0. 0. 0. 0. 0. 0. 0. 0. 0. 0. 0. 0. 0. 0. 0. 0.\n",
      " 0. 0. 0. 0. 0. 0. 0. 0. 0. 0. 0. 0. 0. 0. 0. 0. 0. 0. 0. 0. 0. 0. 0. 0.\n",
      " 0. 0. 0. 0. 0. 0. 0. 0. 0. 0. 0. 0. 0. 0. 0. 0. 0. 0. 0. 0. 0. 0. 0. 0.\n",
      " 0. 0. 0. 0. 0. 0. 0. 0. 0. 0. 0. 0. 0. 0. 0. 0. 0. 0. 0. 0. 0. 0. 0. 0.\n",
      " 0. 0. 0. 0. 0. 0. 0. 0. 0. 0. 0. 0. 0. 0. 0. 0.]\n"
     ]
    }
   ],
   "source": [
    "res_knn = app.run(measure_KNN)\n",
    "res_knnloo = app.run(measure_KNNLOO)"
   ]
  },
  {
   "cell_type": "markdown",
   "metadata": {},
   "source": [
    "##### visualize"
   ]
  },
  {
   "cell_type": "code",
   "execution_count": 6,
   "metadata": {},
   "outputs": [
    {
     "data": {
      "image/png": "[encoded data removed]",
      "text/plain": [
       "<Figure size 432x288 with 1 Axes>"
      ]
     },
     "metadata": {
      "needs_background": "light"
     },
     "output_type": "display_data"
    }
   ],
   "source": [
    "LabelPlotter(app, ('KNN-Shapley',res_knn), ('KNN-LOO',res_knnloo)).plot()"
   ]
  },
  {
   "cell_type": "markdown",
   "metadata": {},
   "source": [
    "# Pattern-based Watermark Removal"
   ]
  },
  {
   "cell_type": "markdown",
   "metadata": {},
   "source": [
    "##### data loading"
   ]
  },
  {
   "cell_type": "code",
   "execution_count": 7,
   "metadata": {},
   "outputs": [],
   "source": [
    "num = 1000\n",
    "loader = FashionMnist(num_train=num)\n",
    "X_data, y_data, X_test_data, y_test_data = loader.prepare_data()"
   ]
  },
  {
   "cell_type": "markdown",
   "metadata": {},
   "source": [
    "###### measure"
   ]
  },
  {
   "cell_type": "code",
   "execution_count": 8,
   "metadata": {},
   "outputs": [],
   "source": [
    "measure_KNN = KNN_Shapley(K=5)\n",
    "measure_KNNLOO = KNN_LOO(K=5)"
   ]
  },
  {
   "cell_type": "markdown",
   "metadata": {},
   "source": [
    "##### application"
   ]
  },
  {
   "cell_type": "code",
   "execution_count": 9,
   "metadata": {},
   "outputs": [],
   "source": [
    "app = Poisoning(X_data, y_data, X_test_data, y_test_data, model_family='logistic')"
   ]
  },
  {
   "cell_type": "markdown",
   "metadata": {},
   "source": [
    "##### run"
   ]
  },
  {
   "cell_type": "code",
   "execution_count": 10,
   "metadata": {},
   "outputs": [
    {
     "name": "stdout",
     "output_type": "stream",
     "text": [
      "done!\n",
      "result shown below:\n",
      "[ 2.12337523e-05 -7.28819807e-07  5.07070846e-05 -3.86333803e-05\n",
      " -9.69161653e-05  2.49350612e-05  2.87429751e-05 -4.92592093e-06\n",
      " -7.42138543e-07  1.42149658e-05 -2.41311446e-06 -5.42031875e-06\n",
      " -2.14824334e-06 -9.37147766e-06 -1.28101510e-06 -5.56534127e-06\n",
      " -1.59710201e-06  1.20680710e-04 -1.13097623e-07  1.00708807e-05\n",
      " -1.55786146e-07  3.96085791e-04 -3.56730137e-07 -2.25565555e-06\n",
      " -5.18914693e-06 -1.79049511e-05  4.45368336e-05  1.22620572e-05\n",
      "  1.35669253e-05  1.19898545e-05 -1.28101510e-06  4.35915648e-05\n",
      " -8.97827955e-06 -6.24801237e-07  4.45368336e-05  3.79644579e-05\n",
      " -8.51146512e-07  1.28781919e-05  1.39963656e-05 -1.57609985e-05\n",
      " -1.17675800e-05 -1.02524071e-07 -1.16600620e-06  4.14572279e-05\n",
      "  1.46903671e-05 -1.52987097e-05 -1.32368777e-04 -6.03612044e-06\n",
      " -5.05514526e-06 -1.82259578e-05 -1.02491138e-06  1.20641002e-05\n",
      "  2.30987535e-05 -5.33984946e-05  1.03052923e-05 -1.36611917e-06\n",
      "  2.24756561e-05  1.20829428e-05 -5.61505492e-06 -2.98936614e-06\n",
      "  2.13247508e-05 -5.82052685e-06  1.09552289e-05 -8.85828320e-05\n",
      " -6.14869566e-06 -5.42031875e-06  1.02719693e-05  1.07522364e-05\n",
      " -3.27602911e-06  2.06261970e-05  1.02719693e-05 -1.32368777e-04\n",
      " -4.50701024e-05 -1.72841609e-05 -4.63520365e-07 -4.00213157e-06\n",
      "  3.59073285e-05 -1.02491138e-06 -9.17117520e-06  1.34042531e-05\n",
      "  1.30230169e-05  4.14572279e-05 -1.59710201e-06 -2.76765784e-07\n",
      "  1.56502108e-05 -1.07792245e-05  1.79476899e-05 -1.17675800e-05\n",
      "  1.03615803e-05  1.14922216e-05 -2.65532252e-07 -6.04292873e-05\n",
      " -2.10992659e-04  1.38183845e-05  1.20680710e-04  1.10113495e-05\n",
      " -6.20689949e-06 -2.04409444e-06  1.06114948e-05 -2.90086587e-05\n",
      " -7.28819807e-07 -6.97112147e-06 -2.29994419e-06 -1.00300702e-08\n",
      "  1.05496955e-05  1.33516311e-05 -6.57827578e-06 -1.48821207e-06\n",
      "  2.49350612e-05 -2.65532252e-07 -6.08315641e-08  3.23203380e-05\n",
      "  1.09000597e-05 -1.75910976e-05 -1.03248564e-03 -2.82959865e-06\n",
      " -7.79510295e-05  1.01329119e-05  1.30970672e-05  1.45853575e-05\n",
      " -3.33499729e-05  1.12000640e-05 -8.09542201e-07 -3.39493871e-06\n",
      "  1.72744077e-05  1.21412751e-05 -6.32763744e-06  1.03729824e-05\n",
      " -4.10662536e-06  1.07260542e-05  2.84364179e-04 -4.40000369e-06\n",
      " -6.69560086e-05  1.24077974e-05  1.06114948e-05  1.26031855e-05\n",
      " -9.47453644e-06 -3.96827825e-06 -1.48821207e-06  1.99947034e-05\n",
      " -4.03785194e-07 -2.34489933e-06 -4.71689183e-06  3.23203380e-05\n",
      "  1.15405151e-05 -8.97827955e-06  2.26798044e-05 -4.75795251e-06\n",
      " -6.03612044e-06 -4.07135895e-06 -1.48821207e-06  1.34042531e-05\n",
      " -1.02491138e-06  1.38472586e-05 -5.61505492e-06 -5.05514526e-06\n",
      " -1.11815894e-06 -5.85266997e-05  1.04894610e-05 -6.20689949e-06\n",
      "  1.76045415e-05  1.50552492e-05 -1.72841609e-05 -6.20689949e-06\n",
      "  1.20829428e-05  2.05438599e-05 -1.72841609e-05 -6.08315641e-08\n",
      " -4.51663849e-06 -2.35225292e-05 -2.06464917e-06  6.86239869e-05\n",
      "  1.48691167e-05 -1.96315342e-06 -8.61752594e-06  1.02610162e-05\n",
      "  2.05674007e-04 -2.75159508e-06 -1.46280189e-05  2.80805724e-05\n",
      " -3.36495424e-06  5.39592123e-05  1.04776076e-05  1.42471402e-05\n",
      " -5.09937348e-06  1.86106411e-05  2.45626515e-05 -2.23380488e-06\n",
      "  2.00708034e-05  1.40267698e-05  1.20829428e-05  1.22825531e-05\n",
      "  7.00582955e-05  4.45368336e-05  2.89187776e-05  1.64615193e-05\n",
      " -6.32763744e-06  1.56502108e-05  2.87429751e-05 -1.38209483e-05\n",
      " -4.50701024e-05  1.28545596e-05  3.92453066e-05  1.28781919e-05\n",
      " -1.57609985e-05  2.66939585e-05  1.08185551e-05  1.61328147e-05\n",
      "  1.17572404e-05 -2.00333609e-06  3.08322396e-05  1.01749682e-05\n",
      "  1.04894610e-05  1.83029044e-05 -9.07601642e-07 -2.00333609e-06\n",
      " -3.04502187e-06 -4.10662536e-06  4.92946552e-05  1.41513033e-05\n",
      " -5.04236322e-05 -5.56534127e-06  1.20829428e-05 -1.03248564e-03\n",
      "  2.22753657e-05 -8.97827955e-06  1.21216319e-05 -1.20800702e-05\n",
      " -9.47453644e-06 -2.70072107e-06 -1.02491138e-06 -1.23100193e-06\n",
      "  2.07942388e-05 -2.98936614e-06  1.05742233e-05  1.56502108e-05\n",
      "  1.02284298e-05 -5.71651133e-06 -1.36359550e-05 -1.46280189e-05\n",
      "  7.48066336e-05 -2.98936614e-06  1.40267698e-05 -5.01165187e-06\n",
      "  2.58508121e-05  5.49298976e-05  1.02501087e-05  1.29743409e-05\n",
      " -8.37223900e-07 -2.08532229e-06 -1.16600620e-06 -8.09542201e-07\n",
      " -1.07792245e-05  1.53345509e-04  1.10973041e-05 -2.57775861e-06\n",
      "  1.73283655e-05 -1.23100193e-06 -8.65135070e-07  1.48691167e-05\n",
      " -2.57775861e-06 -3.01741599e-05 -5.86713447e-07  1.38766296e-05\n",
      "  1.24290781e-05 -4.50701024e-05 -6.09214097e-06 -1.70027244e-05\n",
      " -3.01682267e-06 -3.33655698e-07 -4.00213157e-06 -5.76828188e-06\n",
      " -3.33499729e-05 -1.44166292e-05  1.20829428e-05 -1.07792245e-05\n",
      " -2.21221034e-06  2.74481063e-05  2.85743183e-05 -1.03248564e-03\n",
      "  1.16390109e-05 -4.63185419e-05  2.00708034e-05  4.40512081e-05\n",
      " -1.52405385e-06 -3.01682267e-06 -5.51650266e-06 -3.54792261e-06\n",
      " -7.20039584e-05  1.06618805e-05 -1.11902896e-05 -1.45284532e-06\n",
      " -2.77740114e-06 -6.32763744e-06 -1.09138938e-05  1.04424059e-05\n",
      "  1.13666624e-05  1.18807719e-05 -1.18213117e-06  1.21216319e-05\n",
      "  6.60410087e-05  1.02719693e-05 -2.52400527e-04  1.26926947e-05\n",
      "  2.47599473e-04 -5.49247250e-07 -8.70636744e-06  1.00100100e-05\n",
      "  1.12000640e-05 -7.04019178e-06  1.42471402e-05 -1.59710201e-06\n",
      " -1.57609985e-05  1.18273672e-05  1.17228861e-05 -1.17684630e-04\n",
      "  1.21611404e-05 -7.11036427e-06  1.12149907e-05 -8.19224684e-06\n",
      "  3.37586969e-05  4.31441375e-05  2.07094873e-05 -1.17675800e-05\n",
      " -7.95846760e-07 -5.32641278e-06 -1.94323199e-06 -1.19833837e-06\n",
      " -1.14750925e-05  1.13975639e-05  2.03042301e-05 -1.03248564e-03\n",
      "  7.48066336e-05 -1.07792245e-05  1.01121084e-05 -2.54369818e-07\n",
      "  1.33778568e-05  2.89187776e-05  1.07130672e-05  1.28076562e-05\n",
      " -1.17675800e-05 -2.39760028e-05 -9.80406989e-06 -3.68404878e-07\n",
      "  1.21021528e-05  1.01961807e-05 -1.32368777e-04 -1.65332095e-06\n",
      " -6.04292873e-05 -7.11036427e-06 -6.24801237e-07  3.92453066e-05\n",
      " -3.54998120e-05 -1.59710201e-06 -5.86713447e-07  3.35049027e-05\n",
      " -1.03248564e-03 -9.68954859e-06 -1.17684630e-04  1.42471402e-05\n",
      " -1.13404098e-06  1.03276881e-05  1.68064697e-05  1.24720775e-05\n",
      "  1.16556388e-05  1.76608282e-05 -2.48286366e-06  2.19814728e-05\n",
      "  1.00708807e-05 -1.43537173e-06 -3.80155677e-07  3.08322396e-05\n",
      " -2.60198306e-06  1.05619186e-05 -1.11815894e-06  1.32997693e-05\n",
      " -1.70027244e-05 -1.02491138e-06  1.06618805e-05 -9.65422092e-07\n",
      "  1.41513033e-05  5.39592123e-05  2.19814728e-05 -1.70027244e-05\n",
      "  1.10828405e-05 -7.04019178e-06 -4.63185419e-05 -6.45201555e-06\n",
      " -4.03427627e-08  1.87381799e-05  1.15567637e-05 -2.08532229e-06\n",
      "  3.99373720e-05 -3.56730137e-07  1.03867152e-04 -5.87374042e-06\n",
      "  1.03729824e-05  1.41199219e-05 -1.11815894e-06 -8.97827955e-06\n",
      " -4.50701024e-05 -2.29994419e-06 -1.66580550e-07  1.04894610e-05\n",
      " -1.64696363e-04 -7.79510295e-05  2.05674007e-04 -9.65422092e-07\n",
      "  1.52463617e-05  1.17746679e-05 -5.66544037e-06 -4.75795251e-06\n",
      "  1.88027619e-05 -4.40800034e-05  1.19531332e-05 -3.01682267e-06\n",
      "  1.14131694e-05 -9.65422092e-07 -9.68954859e-06 -1.36611917e-06\n",
      " -7.95846760e-07  1.09413391e-05 -4.14242761e-06  1.38183845e-05\n",
      "  1.65585525e-05  1.64615193e-05 -5.01165187e-06 -4.00213157e-06\n",
      "  1.19348964e-05 -7.86523100e-06  1.05134280e-05  1.05742233e-05\n",
      " -5.86713447e-07 -8.48120929e-05  1.28781919e-05 -1.05259317e-05\n",
      "  3.32586094e-05  0.00000000e+00 -7.02517273e-07  1.15243491e-05\n",
      " -1.40108097e-05 -1.64696363e-04 -8.15926876e-08 -1.55786146e-07\n",
      "  1.17228861e-05 -1.02524071e-07 -9.58098510e-06  1.52463617e-05\n",
      " -1.30980291e-05  3.96085791e-04  1.59532581e-05 -6.32763744e-06\n",
      " -7.78565752e-06  2.90990878e-05 -3.86333803e-05 -8.97827955e-06\n",
      "  1.99947034e-05 -1.82259578e-05  2.11443788e-05 -8.97827955e-06\n",
      "  1.34042531e-05  5.07070846e-05  1.23655448e-05 -7.95846760e-07\n",
      " -2.10427721e-05  9.74875670e-05  4.67489170e-05 -2.75159508e-06\n",
      " -2.70072107e-06 -6.08315641e-08  1.57352361e-05  3.82748241e-05\n",
      " -2.43624622e-06 -6.90417900e-06 -6.14869566e-06 -2.23380488e-06\n",
      "  1.11417168e-04 -8.61752594e-06  3.25481803e-05  1.21021528e-05\n",
      " -9.36390260e-07  1.41830210e-05 -7.02517273e-07 -9.68954859e-06\n",
      "  1.45507441e-05  2.64036954e-05 -1.20800702e-05 -4.03427627e-08\n",
      "  4.45368336e-05 -1.57866652e-06 -5.32641278e-06 -4.50701024e-05\n",
      "  2.87429751e-05  1.47969663e-05  1.26926947e-05  4.31441375e-05\n",
      " -9.58098510e-06 -1.72841609e-05  2.33137517e-05 -1.55786146e-07\n",
      " -1.57866652e-06 -2.26453362e-05  2.47599473e-04 -6.24996806e-05\n",
      "  1.13820747e-05 -9.80406989e-06  2.07094873e-05  1.00403024e-05\n",
      " -1.40108097e-05 -4.17850239e-06  1.69079231e-05 -4.50701024e-05\n",
      " -6.20689949e-06  1.27154786e-05 -5.42031875e-06 -8.65135070e-07\n",
      " -2.57775861e-06  1.48691167e-05 -2.16946205e-06 -1.21462841e-06\n",
      "  1.02719693e-05 -1.16202177e-05 -5.51650266e-06  1.10113495e-05\n",
      " -1.72841609e-05 -2.96235897e-06 -7.11036427e-06  2.44425054e-05\n",
      " -7.95846760e-07  3.32586094e-05  1.09413391e-05 -1.99234890e-07\n",
      " -5.00028263e-07 -1.56038030e-06 -5.56534127e-06 -3.93491778e-06\n",
      " -9.17117520e-06  9.67514362e-04 -6.14869566e-06 -1.05259317e-05\n",
      " -1.40108097e-05 -2.41311446e-06  1.17228861e-05  1.39360838e-05\n",
      "  1.21412751e-05  1.85479845e-05  1.02392467e-05  1.88027619e-05\n",
      "  1.17572404e-05  1.67063736e-05  1.80131223e-04  3.23203380e-05\n",
      " -1.00994817e-06 -4.36222650e-06 -3.56730137e-07  1.38472586e-05\n",
      " -4.39500755e-07 -4.40000369e-06  1.28076562e-05 -3.57919313e-06\n",
      " -9.80203926e-07 -2.02365708e-06 -5.66544037e-06 -1.24432269e-04\n",
      "  1.07260542e-05  1.53640772e-05 -5.24555861e-07 -9.17117520e-06\n",
      " -2.14824334e-06 -9.07601642e-07  2.12337523e-05 -1.40108097e-05\n",
      " -6.97112147e-06 -6.08315641e-08 -1.28101510e-06  1.01224889e-05\n",
      "  9.19304678e-05  2.23789949e-04  1.26031855e-05  3.31983227e-04\n",
      "  8.68901452e-05 -3.68404878e-07 -4.40000369e-06 -1.40108097e-05\n",
      " -9.65422092e-07  1.42800185e-05 -4.50701024e-05 -8.97827955e-06\n",
      " -5.32641278e-06  1.10684463e-05 -2.21221034e-06  1.21021528e-05\n",
      "  7.48066336e-05 -6.24801237e-07 -6.93598548e-05 -6.24801237e-07\n",
      "  1.61328147e-05 -2.39026160e-06 -2.70072107e-06  2.45626515e-05\n",
      "  1.83029044e-05 -9.68954859e-06  8.24278556e-05  1.42800185e-05\n",
      " -2.50642345e-06  7.84596016e-05 -9.07601642e-07 -1.22420083e-05\n",
      "  6.86239869e-05  3.25481803e-05  2.05674007e-04  1.10113495e-05\n",
      " -8.61752594e-06 -6.97112147e-06  1.38472586e-05 -3.01741599e-05\n",
      " -1.88304639e-07  2.92825000e-05 -3.04502187e-06  1.05496955e-05\n",
      " -2.77740114e-06 -4.32474131e-06  2.61231433e-05  1.72209478e-05\n",
      " -2.65096425e-06  1.26217809e-04 -5.49247250e-07 -2.84558671e-05\n",
      " -2.10427721e-05 -5.82052685e-06 -2.08532229e-06 -6.97112147e-06\n",
      "  1.33516311e-05 -1.02491138e-06 -4.40000369e-06 -1.45284532e-06\n",
      " -2.26453362e-05 -7.40255688e-06  1.05014183e-05  1.63188117e-05\n",
      "  1.01961807e-05  1.52853417e-05  4.14572279e-05 -7.55350597e-06\n",
      " -3.82302488e-04  1.88027619e-05  1.04776076e-05  3.96085791e-04\n",
      " -9.47453644e-06  5.14567098e-05  1.06618805e-05 -3.86333803e-05\n",
      " -1.70027244e-05 -9.21961411e-07  1.38183845e-05 -1.07792245e-05\n",
      " -7.11036427e-06 -9.68954859e-06 -1.01541512e-04  1.30230169e-05\n",
      " -2.57775861e-06  1.05496955e-05 -3.67412190e-06 -1.67463536e-05\n",
      " -1.44166292e-05 -3.15954416e-06  1.21811181e-05  5.39592123e-05\n",
      " -1.70027244e-05  1.88027619e-05 -2.48286366e-06  1.34042531e-05\n",
      " -6.14869566e-06  2.64036954e-05 -1.22420083e-05  1.18807719e-05\n",
      "  1.42471402e-05 -1.26425784e-06  1.14131694e-05  2.46853359e-05\n",
      " -4.63592279e-06  1.61328147e-05 -5.05514526e-06  4.40512081e-05\n",
      " -6.93598548e-05 -9.27037565e-06  3.85922240e-05  5.14567098e-05\n",
      " -1.62463411e-05  4.45368336e-05  1.34580023e-05  1.14762995e-05\n",
      "  1.54443985e-05  1.20641002e-05 -4.51484237e-07 -1.09138938e-05\n",
      " -9.68954859e-06 -1.19219724e-05 -6.14869566e-06 -1.34541037e-05\n",
      " -2.65096425e-06 -6.90417900e-06  1.23655448e-05  5.14567098e-05\n",
      " -3.70618119e-06 -9.27037565e-06  3.99373720e-05  4.56182069e-05\n",
      " -3.10778267e-07  1.07130672e-05 -1.24758700e-06 -1.46280189e-05\n",
      " -4.50701024e-05 -9.07601642e-07  1.73283655e-05 -7.95846760e-07\n",
      " -1.46280189e-05  1.62718594e-05 -2.26453362e-05  2.44425054e-05\n",
      " -1.38209483e-05  1.26701157e-05  1.70627683e-05  1.01961807e-05\n",
      "  1.02830380e-05 -2.23380488e-06 -1.13097623e-07  1.05990248e-05\n",
      "  1.27844539e-05 -5.71651133e-06  1.56502108e-05  4.79508401e-05\n",
      " -1.84484860e-06 -8.61752594e-06 -2.26453362e-05  1.07130672e-05\n",
      "  9.74875670e-05  1.22012094e-05  1.11417168e-04  3.96085791e-04\n",
      " -3.54792261e-06  2.07942388e-05  5.39592123e-05 -1.04023834e-05\n",
      "  1.17228861e-05  1.37617008e-05 -8.36028018e-06 -4.63520365e-07\n",
      " -1.08683062e-06  1.21412751e-05 -4.75795251e-06  1.30970672e-05\n",
      " -3.40386781e-05 -1.72841609e-05  1.00200602e-05  1.04658313e-05\n",
      " -1.52405385e-06  1.05619186e-05 -8.88672961e-06 -6.97112147e-06\n",
      " -3.40635821e-04  5.39592123e-05 -1.44166292e-05 -1.52405385e-06\n",
      " -9.80406989e-06  1.53640772e-05 -2.60198306e-06  2.07942388e-05\n",
      " -3.96827825e-06  4.45368336e-05 -3.01682267e-06 -2.84558671e-05\n",
      " -4.37247542e-04 -1.07792245e-05  2.77605673e-05  2.96573125e-05\n",
      "  1.44140747e-05 -1.92342256e-05 -2.76765784e-07 -1.19219724e-05\n",
      "  9.67514362e-04  1.03502268e-05 -7.11036427e-06  3.99373720e-05\n",
      "  3.35049027e-05  1.07495599e-04 -2.98936614e-06 -2.53932363e-05\n",
      " -1.77419953e-07  1.16723528e-05 -4.32474131e-06  1.38183845e-05\n",
      " -1.23100193e-06 -3.96827825e-06 -2.75159508e-06 -3.01910556e-08\n",
      "  1.09691845e-05 -1.40108097e-05 -9.65422092e-07 -2.70072107e-06\n",
      "  1.97713562e-05  1.55260232e-05 -2.29994419e-06 -4.71689183e-06\n",
      "  1.97713562e-05  1.08185551e-05 -1.23100193e-06 -7.11909734e-08\n",
      " -4.07135895e-06 -6.76454396e-07 -3.40386781e-05 -4.10662536e-06\n",
      " -5.85266997e-05  1.89356143e-05  4.14572279e-05  1.10973041e-05\n",
      " -2.65096425e-06  3.92453066e-05 -3.01682267e-06  1.08185551e-05\n",
      " -5.92744842e-06 -8.65135070e-07  1.50176185e-05 -2.25565555e-06\n",
      "  6.86239869e-05 -2.85590946e-06  1.48691167e-05  1.17228861e-05\n",
      " -1.02491138e-06 -1.92342256e-05 -6.57827578e-06  1.17572404e-05\n",
      "  1.26701157e-05 -4.07135895e-06  1.20641002e-05 -3.01910556e-08\n",
      "  1.23031669e-05 -1.11877430e-04  1.43132574e-05  1.23655448e-05\n",
      " -3.54792261e-06  1.20829428e-05  1.97713562e-05 -6.20689949e-06\n",
      " -3.56730137e-07 -1.70027244e-05 -4.51663849e-06 -2.70072107e-06\n",
      "  2.47599473e-04  1.01961807e-05 -1.24092883e-05  1.15730954e-05\n",
      " -1.02491138e-06 -9.37147766e-06 -3.42523715e-06  1.07522364e-05\n",
      " -3.64229098e-06 -3.01682267e-06 -7.95846760e-07 -3.33655698e-07\n",
      " -1.24432269e-04  4.79508401e-05  4.79508401e-05 -8.09542201e-07\n",
      " -2.54369818e-07  2.40942352e-05  1.19348964e-05 -5.61689518e-07\n",
      " -2.25565555e-06 -3.86880186e-06  1.08185551e-05  2.05438599e-05\n",
      "  1.03959580e-05 -4.50701024e-05 -2.41311446e-06 -2.96235897e-06\n",
      " -1.02491138e-06 -9.65422092e-07  4.67489170e-05  1.22416782e-05\n",
      "  1.24290781e-05 -4.32474131e-06 -1.17675800e-05  1.57352361e-05\n",
      " -1.11902896e-05 -4.50701024e-05 -4.63592279e-06 -6.20689949e-06\n",
      "  1.03959580e-05  1.86106411e-05  1.39062029e-05 -7.70697436e-06\n",
      " -3.39493871e-06 -9.20369663e-08  1.39062029e-05  1.03502268e-05\n",
      " -3.01682267e-06  1.25372439e-05 -1.02524071e-07 -2.10427721e-05\n",
      " -1.88397039e-06 -5.86713447e-07 -7.20039584e-05 -7.40255688e-06\n",
      " -4.03661647e-06  1.38472586e-05  1.13975639e-05 -1.22420083e-05\n",
      "  2.05438599e-05 -4.47750415e-06  1.21021528e-05  1.01433776e-05\n",
      " -7.70697436e-06 -7.28819807e-07  1.17572404e-05 -1.01595707e-05\n",
      "  1.15849792e-04 -9.47453644e-06 -2.43277810e-07  1.03867152e-04\n",
      "  1.32228458e-05  7.00582955e-05 -4.32474131e-06  3.99373720e-05\n",
      "  1.48329045e-05 -1.02491138e-06 -1.07792245e-05 -1.45284532e-06\n",
      "  1.18273672e-05  5.39592123e-05 -8.10943522e-06 -2.06686886e-05\n",
      "  2.61231433e-05  1.14922216e-05  1.80131223e-04  1.70107614e-05\n",
      " -7.40255688e-06  1.08052056e-05  1.60422756e-05 -6.64253075e-06\n",
      "  1.32228458e-05  2.65477212e-05 -5.18914693e-06  2.23789949e-04\n",
      " -1.98318780e-06  1.40267698e-05 -1.04028554e-06  2.03833566e-05\n",
      "  1.07130672e-05 -7.70697436e-06 -1.76747272e-06 -1.72841609e-05\n",
      "  1.85479845e-05  1.38725626e-04  4.40512081e-05 -4.40000369e-06\n",
      "  3.14549305e-05  4.03069212e-05  1.54443985e-05  2.87429751e-05\n",
      " -5.82052685e-06  1.92755977e-05 -4.63520365e-07 -1.05573623e-06\n",
      " -4.03427627e-08 -4.92592093e-06  8.45591429e-05  2.44425054e-05\n",
      " -6.03612044e-06  1.40267698e-05 -4.00213157e-06  3.96085791e-04\n",
      " -1.70027244e-05 -5.33984946e-05 -5.37316229e-06 -6.03612044e-06\n",
      "  1.00200602e-05  1.42471402e-05 -6.03612044e-06 -7.28819807e-07\n",
      "  1.80131223e-04  8.45591429e-05  1.11852462e-05 -2.99400486e-07\n",
      "  1.58216815e-05 -1.11815894e-06  1.97713562e-05 -5.09937348e-06\n",
      "  4.79508401e-05 -7.86523100e-06  1.60422756e-05  1.53640772e-05\n",
      " -2.90086587e-05 -1.70027244e-05  5.14567098e-05  1.94148347e-05\n",
      " -5.33984946e-05 -9.68954859e-06  4.79508401e-05 -3.30550103e-06]\n"
     ]
    },
    {
     "name": "stdout",
     "output_type": "stream",
     "text": [
      "done!\n",
      "result shown below:\n",
      "[0. 0. 0. 0. 0. 0. 0. 0. 0. 0. 0. 0. 0. 0. 0. 0. 0. 0. 0. 0. 0. 0. 0. 0.\n",
      " 0. 0. 0. 0. 0. 0. 0. 0. 0. 0. 0. 0. 0. 0. 0. 0. 0. 0. 0. 0. 0. 0. 0. 0.\n",
      " 0. 0. 0. 0. 0. 0. 0. 0. 0. 0. 0. 0. 0. 0. 0. 0. 0. 0. 0. 0. 0. 0. 0. 0.\n",
      " 0. 0. 0. 0. 0. 0. 0. 0. 0. 0. 0. 0. 0. 0. 0. 0. 0. 0. 0. 0. 0. 0. 0. 0.\n",
      " 0. 0. 0. 0. 0. 0. 0. 0. 0. 0. 0. 0. 0. 0. 0. 0. 0. 0. 0. 0. 0. 0. 0. 0.\n",
      " 0. 0. 0. 0. 0. 0. 0. 0. 0. 0. 0. 0. 0. 0. 0. 0. 0. 0. 0. 0. 0. 0. 0. 0.\n",
      " 0. 0. 0. 0. 0. 0. 0. 0. 0. 0. 0. 0. 0. 0. 0. 0. 0. 0. 0. 0. 0. 0. 0. 0.\n",
      " 0. 0. 0. 0. 0. 0. 0. 0. 0. 0. 0. 0. 0. 0. 0. 0. 0. 0. 0. 0. 0. 0. 0. 0.\n",
      " 0. 0. 0. 0. 0. 0. 0. 0. 0. 0. 0. 0. 0. 0. 0. 0. 0. 0. 0. 0. 0. 0. 0. 0.\n",
      " 0. 0. 0. 0. 0. 0. 0. 0. 0. 0. 0. 0. 0. 0. 0. 0. 0. 0. 0. 0. 0. 0. 0. 0.\n",
      " 0. 0. 0. 0. 0. 0. 0. 0. 0. 0. 0. 0. 0. 0. 0. 0. 0. 0. 0. 0. 0. 0. 0. 0.\n",
      " 0. 0. 0. 0. 0. 0. 0. 0. 0. 0. 0. 0. 0. 0. 0. 0. 0. 0. 0. 0. 0. 0. 0. 0.\n",
      " 0. 0. 0. 0. 0. 0. 0. 0. 0. 0. 0. 0. 0. 0. 0. 0. 0. 0. 0. 0. 0. 0. 0. 0.\n",
      " 0. 0. 0. 0. 0. 0. 0. 0. 0. 0. 0. 0. 0. 0. 0. 0. 0. 0. 0. 0. 0. 0. 0. 0.\n",
      " 0. 0. 0. 0. 0. 0. 0. 0. 0. 0. 0. 0. 0. 0. 0. 0. 0. 0. 0. 0. 0. 0. 0. 0.\n",
      " 0. 0. 0. 0. 0. 0. 0. 0. 0. 0. 0. 0. 0. 0. 0. 0. 0. 0. 0. 0. 0. 0. 0. 0.\n",
      " 0. 0. 0. 0. 0. 0. 0. 0. 0. 0. 0. 0. 0. 0. 0. 0. 0. 0. 0. 0. 0. 0. 0. 0.\n",
      " 0. 0. 0. 0. 0. 0. 0. 0. 0. 0. 0. 0. 0. 0. 0. 0. 0. 0. 0. 0. 0. 0. 0. 0.\n",
      " 0. 0. 0. 0. 0. 0. 0. 0. 0. 0. 0. 0. 0. 0. 0. 0. 0. 0. 0. 0. 0. 0. 0. 0.\n",
      " 0. 0. 0. 0. 0. 0. 0. 0. 0. 0. 0. 0. 0. 0. 0. 0. 0. 0. 0. 0. 0. 0. 0. 0.\n",
      " 0. 0. 0. 0. 0. 0. 0. 0. 0. 0. 0. 0. 0. 0. 0. 0. 0. 0. 0. 0. 0. 0. 0. 0.\n",
      " 0. 0. 0. 0. 0. 0. 0. 0. 0. 0. 0. 0. 0. 0. 0. 0. 0. 0. 0. 0. 0. 0. 0. 0.\n",
      " 0. 0. 0. 0. 0. 0. 0. 0. 0. 0. 0. 0. 0. 0. 0. 0. 0. 0. 0. 0. 0. 0. 0. 0.\n",
      " 0. 0. 0. 0. 0. 0. 0. 0. 0. 0. 0. 0. 0. 0. 0. 0. 0. 0. 0. 0. 0. 0. 0. 0.\n",
      " 0. 0. 0. 0. 0. 0. 0. 0. 0. 0. 0. 0. 0. 0. 0. 0. 0. 0. 0. 0. 0. 0. 0. 0.\n",
      " 0. 0. 0. 0. 0. 0. 0. 0. 0. 0. 0. 0. 0. 0. 0. 0. 0. 0. 0. 0. 0. 0. 0. 0.\n",
      " 0. 0. 0. 0. 0. 0. 0. 0. 0. 0. 0. 0. 0. 0. 0. 0. 0. 0. 0. 0. 0. 0. 0. 0.\n",
      " 0. 0. 0. 0. 0. 0. 0. 0. 0. 0. 0. 0. 0. 0. 0. 0. 0. 0. 0. 0. 0. 0. 0. 0.\n",
      " 0. 0. 0. 0. 0. 0. 0. 0. 0. 0. 0. 0. 0. 0. 0. 0. 0. 0. 0. 0. 0. 0. 0. 0.\n",
      " 0. 0. 0. 0. 0. 0. 0. 0. 0. 0. 0. 0. 0. 0. 0. 0. 0. 0. 0. 0. 0. 0. 0. 0.\n",
      " 0. 0. 0. 0. 0. 0. 0. 0. 0. 0. 0. 0. 0. 0. 0. 0. 0. 0. 0. 0. 0. 0. 0. 0.\n",
      " 0. 0. 0. 0. 0. 0. 0. 0. 0. 0. 0. 0. 0. 0. 0. 0. 0. 0. 0. 0. 0. 0. 0. 0.\n",
      " 0. 0. 0. 0. 0. 0. 0. 0. 0. 0. 0. 0. 0. 0. 0. 0. 0. 0. 0. 0. 0. 0. 0. 0.\n",
      " 0. 0. 0. 0. 0. 0. 0. 0. 0. 0. 0. 0. 0. 0. 0. 0. 0. 0. 0. 0. 0. 0. 0. 0.\n",
      " 0. 0. 0. 0. 0. 0. 0. 0. 0. 0. 0. 0. 0. 0. 0. 0. 0. 0. 0. 0. 0. 0. 0. 0.\n",
      " 0. 0. 0. 0. 0. 0. 0. 0. 0. 0. 0. 0. 0. 0. 0. 0. 0. 0. 0. 0. 0. 0. 0. 0.\n",
      " 0. 0. 0. 0. 0. 0. 0. 0. 0. 0. 0. 0. 0. 0. 0. 0. 0. 0. 0. 0. 0. 0. 0. 0.\n",
      " 0. 0. 0. 0. 0. 0. 0. 0. 0. 0. 0. 0. 0. 0. 0. 0. 0. 0. 0. 0. 0. 0. 0. 0.\n",
      " 0. 0. 0. 0. 0. 0. 0. 0. 0. 0. 0. 0. 0. 0. 0. 0. 0. 0. 0. 0. 0. 0. 0. 0.\n",
      " 0. 0. 0. 0. 0. 0. 0. 0. 0. 0. 0. 0. 0. 0. 0. 0. 0. 0. 0. 0. 0. 0. 0. 0.\n",
      " 0. 0. 0. 0. 0. 0. 0. 0. 0. 0. 0. 0. 0. 0. 0. 0. 0. 0. 0. 0. 0. 0. 0. 0.\n",
      " 0. 0. 0. 0. 0. 0. 0. 0. 0. 0. 0. 0. 0. 0. 0. 0.]\n"
     ]
    }
   ],
   "source": [
    "res_knn = app.run(measure_KNN)\n",
    "res_knnloo = app.run(measure_KNNLOO)"
   ]
  },
  {
   "cell_type": "markdown",
   "metadata": {},
   "source": [
    "##### visualize"
   ]
  },
  {
   "cell_type": "code",
   "execution_count": 11,
   "metadata": {},
   "outputs": [
    {
     "data": {
      "image/png": "[encoded data removed]",
      "text/plain": [
       "<Figure size 432x288 with 1 Axes>"
      ]
     },
     "metadata": {
      "needs_background": "light"
     },
     "output_type": "display_data"
    }
   ],
   "source": [
    "PoisoningPlotter(app, ('KNN-Shapley',res_knn), ('KNN-LOO',res_knnloo)).plot()"
   ]
  },
  {
   "cell_type": "markdown",
   "metadata": {},
   "source": [
    "# Instance-based Watermark Removal"
   ]
  },
  {
   "cell_type": "markdown",
   "metadata": {},
   "source": [
    "##### data loading"
   ]
  },
  {
   "cell_type": "code",
   "execution_count": null,
   "metadata": {},
   "outputs": [],
   "source": [
    "# load MNIST"
   ]
  },
  {
   "cell_type": "markdown",
   "metadata": {},
   "source": [
    "###### measure"
   ]
  },
  {
   "cell_type": "code",
   "execution_count": null,
   "metadata": {},
   "outputs": [],
   "source": [
    "measure = KNN_Shapley(K=5)"
   ]
  },
  {
   "cell_type": "markdown",
   "metadata": {},
   "source": [
    "##### application"
   ]
  },
  {
   "cell_type": "code",
   "execution_count": null,
   "metadata": {},
   "outputs": [],
   "source": [
    "app = # instance-based watermark removal"
   ]
  },
  {
   "cell_type": "markdown",
   "metadata": {},
   "source": [
    "##### run"
   ]
  },
  {
   "cell_type": "code",
   "execution_count": null,
   "metadata": {},
   "outputs": [],
   "source": [
    "# run"
   ]
  },
  {
   "cell_type": "markdown",
   "metadata": {},
   "source": [
    "##### visualize"
   ]
  },
  {
   "cell_type": "code",
   "execution_count": null,
   "metadata": {},
   "outputs": [],
   "source": [
    "# TO BE COMPLETED"
   ]
  },
  {
   "cell_type": "markdown",
   "metadata": {},
   "source": [
    "# Data Summarization"
   ]
  },
  {
   "cell_type": "markdown",
   "metadata": {},
   "source": [
    "##### data loading"
   ]
  },
  {
   "cell_type": "code",
   "execution_count": null,
   "metadata": {},
   "outputs": [],
   "source": [
    "# load UCI Adult dataset"
   ]
  },
  {
   "cell_type": "markdown",
   "metadata": {},
   "source": [
    "###### measure"
   ]
  },
  {
   "cell_type": "code",
   "execution_count": null,
   "metadata": {},
   "outputs": [],
   "source": [
    "measure = KNN_Shapley(K=5)"
   ]
  },
  {
   "cell_type": "markdown",
   "metadata": {},
   "source": [
    "##### application"
   ]
  },
  {
   "cell_type": "code",
   "execution_count": null,
   "metadata": {},
   "outputs": [],
   "source": [
    "app = # data summarization"
   ]
  },
  {
   "cell_type": "markdown",
   "metadata": {},
   "source": [
    "##### run"
   ]
  },
  {
   "cell_type": "code",
   "execution_count": null,
   "metadata": {},
   "outputs": [],
   "source": [
    "# run"
   ]
  },
  {
   "cell_type": "markdown",
   "metadata": {},
   "source": [
    "##### visualize"
   ]
  },
  {
   "cell_type": "code",
   "execution_count": null,
   "metadata": {},
   "outputs": [],
   "source": [
    "# TO BE COMPLETED"
   ]
  },
  {
   "cell_type": "markdown",
   "metadata": {},
   "source": [
    "# Data Acquisition"
   ]
  },
  {
   "cell_type": "markdown",
   "metadata": {},
   "source": [
    "##### data loading"
   ]
  },
  {
   "cell_type": "code",
   "execution_count": null,
   "metadata": {},
   "outputs": [],
   "source": [
    "# load MNIST"
   ]
  },
  {
   "cell_type": "markdown",
   "metadata": {},
   "source": [
    "###### measure"
   ]
  },
  {
   "cell_type": "code",
   "execution_count": null,
   "metadata": {},
   "outputs": [],
   "source": [
    "measure = KNN_Shapley(K=5)"
   ]
  },
  {
   "cell_type": "markdown",
   "metadata": {},
   "source": [
    "##### application"
   ]
  },
  {
   "cell_type": "code",
   "execution_count": null,
   "metadata": {},
   "outputs": [],
   "source": [
    "app = # data acquisition"
   ]
  },
  {
   "cell_type": "markdown",
   "metadata": {},
   "source": [
    "##### run"
   ]
  },
  {
   "cell_type": "code",
   "execution_count": null,
   "metadata": {},
   "outputs": [],
   "source": [
    "# run"
   ]
  },
  {
   "cell_type": "markdown",
   "metadata": {},
   "source": [
    "##### visualize"
   ]
  },
  {
   "cell_type": "code",
   "execution_count": null,
   "metadata": {},
   "outputs": [],
   "source": [
    "# TO BE COMPLETED"
   ]
  },
  {
   "cell_type": "markdown",
   "metadata": {},
   "source": [
    "# Domain Adapatation"
   ]
  },
  {
   "cell_type": "markdown",
   "metadata": {},
   "source": [
    "##### data loading"
   ]
  },
  {
   "cell_type": "code",
   "execution_count": null,
   "metadata": {},
   "outputs": [],
   "source": [
    "# load two datasets"
   ]
  },
  {
   "cell_type": "markdown",
   "metadata": {},
   "source": [
    "###### measure"
   ]
  },
  {
   "cell_type": "code",
   "execution_count": null,
   "metadata": {},
   "outputs": [],
   "source": [
    "measure = KNN_Shapley(K=5)"
   ]
  },
  {
   "cell_type": "markdown",
   "metadata": {},
   "source": [
    "##### application"
   ]
  },
  {
   "cell_type": "code",
   "execution_count": null,
   "metadata": {},
   "outputs": [],
   "source": [
    "app = # domain adaptation"
   ]
  },
  {
   "cell_type": "markdown",
   "metadata": {},
   "source": [
    "##### run"
   ]
  },
  {
   "cell_type": "code",
   "execution_count": null,
   "metadata": {},
   "outputs": [],
   "source": [
    "# run"
   ]
  },
  {
   "cell_type": "markdown",
   "metadata": {},
   "source": [
    "##### visualize"
   ]
  },
  {
   "cell_type": "code",
   "execution_count": null,
   "metadata": {},
   "outputs": [],
   "source": [
    "# TO BE COMPLETED"
   ]
  }
 ],
 "metadata": {
  "kernelspec": {
   "display_name": "Python 3",
   "language": "python",
   "name": "python3"
  },
  "language_info": {
   "codemirror_mode": {
    "name": "ipython",
    "version": 3
   },
   "file_extension": ".py",
   "mimetype": "text/x-python",
   "name": "python",
   "nbconvert_exporter": "python",
   "pygments_lexer": "ipython3",
   "version": "3.6.8"
  }
 },
 "nbformat": 4,
 "nbformat_minor": 2
}
