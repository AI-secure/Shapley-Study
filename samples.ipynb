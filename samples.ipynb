{
 "cells": [
  {
   "cell_type": "code",
   "execution_count": 1,
   "metadata": {
    "scrolled": true
   },
   "outputs": [
    {
     "name": "stderr",
     "output_type": "stream",
     "text": [
      "/home/kahlua/.pyenv/versions/3.6.5/lib/python3.6/site-packages/sklearn/ensemble/weight_boosting.py:29: DeprecationWarning: numpy.core.umath_tests is an internal NumPy module and should not be imported. It will be removed in a future NumPy release.\n",
      "  from numpy.core.umath_tests import inner1d\n"
     ]
    }
   ],
   "source": [
    "#!/usr/bin/python\n",
    "from __future__ import absolute_import\n",
    "\n",
    "import numpy as np\n",
    "from tensorflow import keras\n",
    "import pickle\n",
    "import argparse\n",
    "import copy\n",
    "import random\n",
    "\n",
    "from shapley.apps import Label, Poisoning\n",
    "from shapley.loader import FashionMnist, MNIST\n",
    "from shapley.measures import KNN_Shapley, KNN_LOO, G_Shapley, LOO, TMC_Shapley\n",
    "from shapley.utils.plotter import LabelPlotter, PoisoningPlotter\n",
    "\n",
    "%matplotlib inline"
   ]
  },
  {
   "cell_type": "markdown",
   "metadata": {},
   "source": [
    "# Noisy Label Detection"
   ]
  },
  {
   "cell_type": "markdown",
   "metadata": {},
   "source": [
    "##### data loading"
   ]
  },
  {
   "cell_type": "code",
   "execution_count": 2,
   "metadata": {},
   "outputs": [],
   "source": [
    "num = 1000\n",
    "#loader = MNIST(num_train=num, one_hot=False, shuffle=True, by_label=True)\n",
    "loader = FashionMnist(num_train=num)\n",
    "X_data, y_data, X_test_data, y_test_data = loader.prepare_data()"
   ]
  },
  {
   "cell_type": "markdown",
   "metadata": {},
   "source": [
    "###### measure"
   ]
  },
  {
   "cell_type": "code",
   "execution_count": 3,
   "metadata": {},
   "outputs": [],
   "source": [
    "measure_KNN = KNN_Shapley(K=5)\n",
    "measure_KNNLOO = KNN_LOO(K=5)\n",
    "# measure = G_Shapley()\n",
    "# measure = TMC_Shapley()\n",
    "# measure = LOO()"
   ]
  },
  {
   "cell_type": "markdown",
   "metadata": {},
   "source": [
    "##### application"
   ]
  },
  {
   "cell_type": "code",
   "execution_count": 4,
   "metadata": {},
   "outputs": [],
   "source": [
    "app = Label(X_data, y_data, X_test_data, y_test_data, model_family='NN')"
   ]
  },
  {
   "cell_type": "markdown",
   "metadata": {},
   "source": [
    "##### run"
   ]
  },
  {
   "cell_type": "code",
   "execution_count": 5,
   "metadata": {
    "collapsed": true
   },
   "outputs": [
    {
     "name": "stdout",
     "output_type": "stream",
     "text": [
      "done!\n",
      "result shown below:\n",
      "[ 9.75481627e-04  1.64246832e-03  5.73490819e-04 -3.42786541e-03\n",
      "  9.88054248e-04  1.61587879e-03 -7.60301145e-04  1.60647144e-03\n",
      "  1.99324827e-03  2.38401697e-04  1.73865176e-03  2.48776974e-03\n",
      "  7.78418976e-04  2.19982229e-03 -2.77580619e-05  6.92194470e-04\n",
      "  8.55465945e-04  3.24948700e-04  7.41832294e-04  1.71102989e-03\n",
      " -7.93310689e-04  9.28089656e-04  1.03485585e-03  1.59328265e-03\n",
      "  1.24767418e-03  1.22446424e-03  1.49894855e-03  1.79305593e-03\n",
      "  1.41274381e-03  1.43769245e-03 -4.75045856e-04  1.42840137e-03\n",
      " -6.50264888e-03  7.27797606e-04  7.59047879e-04  1.24587069e-03\n",
      " -3.39734603e-03  1.51799008e-03  1.39963185e-03  7.88013303e-04\n",
      "  1.34595911e-03  3.08221408e-03 -3.20233044e-03 -4.02809216e-03\n",
      "  1.42224071e-03 -2.84787325e-03  1.97318723e-03  5.64872749e-04\n",
      "  1.66139481e-03  1.94891016e-03  4.31406141e-04  1.00721994e-03\n",
      " -4.36577844e-03  2.78107604e-05  1.99131452e-03  1.06873132e-03\n",
      "  1.03323695e-03  1.32582477e-03  8.76867031e-04  1.21705241e-03\n",
      "  2.36289348e-03  1.35065645e-03  5.97005160e-04  1.57312351e-03\n",
      "  7.87793708e-04  6.78475827e-04  6.08331755e-04  1.16384530e-03\n",
      "  7.43120055e-04  1.38466056e-03  1.21027727e-03  1.45551189e-03\n",
      " -7.73253202e-04  1.43664073e-03  1.38417734e-03  2.19010341e-03\n",
      " -8.35722731e-04  8.77123394e-04  7.15020090e-04  1.11350686e-03\n",
      "  1.05203581e-03 -1.02836256e-04 -1.08971719e-03  1.91605805e-03\n",
      "  1.57471023e-03  6.95618331e-04  1.21189674e-03  1.05680852e-03\n",
      "  3.84939785e-04  4.09639532e-04 -1.88783863e-03 -6.04579841e-05\n",
      "  1.59864451e-03  2.34859064e-03  1.08831103e-03  1.12397370e-03\n",
      "  1.17307615e-03  2.09851796e-03  1.74733344e-03 -1.74469378e-03\n",
      "  8.30493396e-04  1.21530803e-03  9.96663455e-04  1.38344718e-03\n",
      "  1.67596284e-03  5.88489669e-04  1.05594640e-03  7.76363473e-04\n",
      "  1.13981150e-03  1.24584504e-03 -4.24477211e-04  1.20367433e-03\n",
      "  1.08389382e-03  1.62216878e-03  1.15177768e-03  2.46313422e-03\n",
      " -5.26180164e-04  1.91868600e-03  1.94340950e-03 -2.26435386e-04\n",
      "  6.63961412e-04  9.99080175e-04  1.34223603e-03  1.68512219e-03\n",
      "  3.69412906e-04  3.56692626e-04  1.00782162e-03  7.04615486e-04\n",
      "  1.20520326e-03  6.53527861e-04  1.19537027e-03  1.49969173e-03\n",
      " -2.40605249e-03  9.84528967e-04  4.43223457e-04  1.37303084e-03\n",
      "  1.11338259e-03  7.94141487e-04  1.18054209e-03  1.52764830e-03\n",
      " -2.69659491e-03  1.63795170e-03  2.61976528e-03 -8.40048074e-04\n",
      "  1.19407372e-03 -1.09730082e-03  1.03164242e-03  8.00662770e-04\n",
      "  3.44569616e-04  1.21385843e-03  1.41904681e-03  1.70075219e-03\n",
      "  1.96188000e-03  1.53924643e-03  1.68556204e-03  2.45101173e-03\n",
      "  1.37692036e-03  1.28512433e-03  1.87641714e-03  1.75663542e-03\n",
      "  8.06200612e-04 -4.38806188e-04  1.16715891e-03 -5.84100448e-04\n",
      "  8.10310324e-04  1.04882193e-03  3.75150974e-04  1.00690458e-03\n",
      "  1.76933321e-03  1.07145814e-03  1.26391141e-03 -2.17607958e-03\n",
      "  1.91414535e-03  8.77008015e-04  1.74284503e-03 -3.78517633e-04\n",
      "  1.14703196e-03  1.21502461e-03  1.19393221e-03  1.02947735e-03\n",
      " -6.05369659e-04  2.98964072e-03  5.84098887e-04  1.09207580e-03\n",
      " -2.06490975e-03  1.06701145e-03  1.21296728e-03  1.63408405e-03\n",
      "  1.42274097e-03  9.15297325e-04  1.20519432e-03  1.76098420e-03\n",
      "  9.40537097e-04  1.83854975e-03  2.12972380e-03  1.11429708e-03\n",
      "  1.66056916e-03  1.61209466e-03  2.04374959e-03  1.57757629e-03\n",
      "  2.43605433e-04 -2.51645101e-03  1.70141669e-03  3.16159959e-05\n",
      "  2.36679214e-04  1.28866997e-03  1.98578154e-03  1.25785597e-03\n",
      "  1.34887029e-03  3.22024992e-04  1.38048410e-03  1.23405358e-03\n",
      "  1.70448653e-03  6.90535313e-04 -4.10782448e-03  1.24864527e-03\n",
      "  1.39677771e-03 -7.58203288e-04  5.32132838e-04  1.09328598e-03\n",
      "  1.30191892e-03  6.12009906e-04 -1.96022619e-03  1.13041847e-03\n",
      "  2.02984077e-03  1.40705806e-03  1.35503289e-03  1.14368121e-03\n",
      "  1.67272416e-03  1.18706049e-03 -1.75595275e-03  1.20195537e-03\n",
      "  2.43426608e-03  1.76146394e-03  1.27610854e-03  1.03311065e-03\n",
      " -9.90736470e-04  1.71779859e-03  1.63671399e-03  1.52995249e-03\n",
      "  7.02235900e-04  9.61083371e-04 -5.91597520e-03  1.19477687e-03\n",
      "  7.58390059e-04  1.41618259e-03  6.26185369e-04  1.03289727e-03\n",
      "  1.74595251e-03  1.12999686e-03  8.21599044e-04  1.10696816e-03\n",
      "  1.39065901e-03  9.40512146e-04  2.03402234e-03  1.83523552e-03\n",
      " -1.12551653e-03  1.00076141e-03  3.80907130e-04  3.88181293e-04\n",
      "  1.35470502e-03 -8.60351607e-04  1.02693220e-03 -7.95305848e-04\n",
      "  1.30586476e-03  8.10236865e-04  1.14390832e-03  9.10826647e-04\n",
      "  2.31689209e-04  1.56686041e-03 -1.28464774e-02 -3.18688690e-04\n",
      "  1.67510772e-04  1.21801456e-03 -2.35561829e-04  1.05451963e-03\n",
      "  1.43050978e-03  1.19228549e-03  9.94587304e-04  1.04440494e-03\n",
      "  4.47547299e-04  3.32100440e-04 -1.05101687e-03  7.61330625e-04\n",
      "  1.97847531e-03  4.92557707e-04 -4.05237557e-03  2.08323837e-03\n",
      "  3.82801824e-03  2.00318777e-03  2.62960187e-03  1.25816628e-03\n",
      "  1.94328877e-03 -1.58363507e-03 -2.98096560e-04  2.29508745e-03\n",
      "  1.30779298e-03 -7.36810003e-04 -6.40155459e-04  6.18361521e-04\n",
      " -6.88386964e-03  1.72309943e-03 -2.21471372e-03  9.16031443e-04\n",
      " -1.69342957e-03  7.93544176e-04 -2.31767555e-03  9.78891584e-04\n",
      " -3.37947339e-03  2.21989473e-03  1.33496103e-03  5.23206921e-04\n",
      "  1.09990992e-03  1.17632666e-03  1.04727071e-03 -1.84110688e-03\n",
      "  9.07268287e-04 -2.93568208e-03  1.61783486e-03 -3.05081143e-03\n",
      "  1.43990120e-03  1.03159346e-03  1.96939086e-03  9.58298827e-04\n",
      "  1.31092431e-03  1.76620154e-03  1.71559692e-03  1.34980209e-03\n",
      "  8.57279492e-04 -9.56090633e-04  1.31747693e-03  7.59743373e-04\n",
      "  4.91860611e-04  1.76000473e-03  1.40818746e-03  1.03215819e-03\n",
      " -2.34721336e-03 -1.02381890e-03  1.39527208e-03  9.75215564e-04\n",
      "  1.19663125e-03  1.03146545e-03  1.07620536e-03  1.21438971e-03\n",
      "  1.43199280e-03  1.43387680e-03 -3.08290948e-03  2.39160894e-03\n",
      "  1.86826079e-03  1.11155905e-03  2.28511588e-03  1.00720902e-03\n",
      "  7.81601789e-04  9.59105727e-04  2.31737942e-03 -1.69621420e-03\n",
      "  1.31913619e-03 -8.72891326e-04  6.08957601e-04  3.21223907e-03\n",
      "  1.26910689e-03  1.72557536e-03  1.41692921e-03  7.84001550e-04\n",
      "  1.86482099e-03  1.24128893e-03  1.90703645e-03  6.63916918e-04\n",
      " -5.55823801e-05  1.34460768e-03  1.05114489e-03 -7.67833483e-03\n",
      "  1.36665841e-03  2.99195246e-03  6.89507224e-04  1.66779274e-03\n",
      "  1.25567038e-03  2.61926272e-03  1.47418972e-03  1.28598065e-03\n",
      "  8.23566303e-04  5.56286654e-04 -1.49410341e-03  1.33458668e-05\n",
      " -6.92227017e-04  1.77397307e-04 -1.16370877e-03 -3.60102951e-04\n",
      "  1.06017057e-03  8.67786720e-04  1.61237819e-03  2.27391760e-03\n",
      " -2.21332350e-03  7.96181152e-04 -1.74304831e-03  4.43834711e-04\n",
      "  8.12500584e-04  8.34730856e-04  7.14896614e-04  6.26566430e-04\n",
      " -8.42340266e-04  4.04583133e-04  1.66638008e-03  7.29362012e-04\n",
      " -3.26111059e-04  6.91296191e-04 -1.22516822e-04  2.36285082e-03\n",
      "  4.74920263e-04  1.57371447e-03  1.68639743e-03  1.64678815e-03\n",
      "  9.48547073e-04  1.58845671e-03 -6.77293473e-04  1.45368604e-03\n",
      "  1.29862690e-03  7.02663340e-04  1.71939662e-03 -9.25310654e-04\n",
      "  1.09526711e-03  1.25622884e-03  1.93228373e-03  1.01840741e-03\n",
      " -9.43237925e-04  9.98614901e-04 -3.39220093e-03  1.00381411e-03\n",
      "  2.14179165e-03  1.41856305e-03  1.12620302e-03  1.27342068e-03\n",
      "  1.74387697e-03  6.51689134e-04  5.55989661e-04  1.94474352e-03\n",
      "  1.03383239e-03 -9.68891208e-05  6.59766565e-04  9.67227609e-04\n",
      "  1.61923293e-03 -7.23150317e-04 -6.30031741e-05 -1.07976197e-03\n",
      "  1.32808157e-03  1.09993213e-03  1.79012799e-04  9.68105598e-04\n",
      "  1.01673412e-03  1.34939376e-03  1.54763462e-03  1.98052926e-03\n",
      "  5.34481395e-04  1.51738493e-03  1.77770370e-03  1.49981974e-03\n",
      "  1.67116223e-03  1.05885639e-03 -1.43361378e-04  1.55362005e-03\n",
      "  1.57793417e-03  1.35378244e-03  1.21765017e-03  1.03310500e-03\n",
      " -1.64532205e-04  1.78765169e-03  1.10135204e-03  5.32944387e-04\n",
      "  9.75226340e-04  1.14514029e-03  1.66355187e-03  8.75174601e-04\n",
      "  4.76472058e-04 -1.33511300e-03  2.93447758e-04  1.55953909e-03\n",
      "  1.06959753e-03  1.13461920e-03  2.19945434e-03  1.21240144e-03\n",
      " -1.62658678e-04  1.68392587e-03 -3.49966289e-03 -8.67166333e-04\n",
      "  2.34164770e-03  9.92299075e-04  2.10997828e-03 -3.66349130e-03\n",
      "  7.50893096e-04  2.56228029e-03  7.35828467e-04 -6.40167452e-04\n",
      "  1.11860751e-03  1.20795294e-03  1.50987401e-03 -1.41410878e-03\n",
      " -9.89227869e-04  1.19384597e-03  1.29718619e-03 -1.84162245e-03\n",
      "  1.26417685e-03  1.27051082e-03  7.75614586e-04  8.59223810e-04\n",
      "  1.15881062e-03  2.59510847e-03  2.18978517e-03 -6.76186591e-03\n",
      "  9.73934189e-04  1.90086979e-03 -1.63549398e-03  1.07947899e-03\n",
      "  5.05630992e-04  1.78709793e-03 -5.01155585e-03  4.48361497e-04\n",
      "  1.17586656e-03  1.27727602e-03  4.78732522e-04  1.24027527e-03\n",
      "  5.30745245e-04  1.22831650e-03  2.74092205e-03  1.60566765e-03\n",
      "  1.39364799e-03  1.44976151e-03  4.28960803e-04  1.67117607e-03\n",
      "  3.17170694e-03  1.26545385e-03  1.09449489e-03  1.39073576e-03\n",
      " -3.75095317e-03 -3.57032539e-04  1.37780930e-03  2.15259369e-03\n",
      "  1.61310142e-03  9.84995755e-04  1.90486502e-03  1.08950019e-03\n",
      "  1.06791712e-03 -9.04861810e-05  1.35223702e-03  7.72018841e-04\n",
      "  3.93804090e-03  1.59758740e-03 -9.60727954e-03  1.31871822e-03\n",
      "  1.38036017e-03  4.11719404e-04  2.60957404e-03  9.85293001e-04\n",
      "  1.28650443e-03  6.19732454e-04  1.70607786e-03  1.33683900e-03\n",
      "  1.06650607e-03  1.41180686e-03  1.73658514e-03  2.24671362e-03\n",
      "  1.28104116e-03  1.27793274e-03  7.62252839e-04  1.35565326e-03\n",
      "  1.02593432e-03  1.21610099e-03 -3.07399063e-05  1.62537993e-03\n",
      "  1.73208531e-03  1.00966599e-03  7.33944813e-04 -1.46569732e-04\n",
      "  7.14461372e-04  1.02589318e-03  3.22942231e-04  5.39008269e-04\n",
      " -2.03492916e-04  1.89206754e-03  1.07804500e-03  7.98760566e-04\n",
      "  2.92077602e-03  1.10837827e-03  1.17211135e-03  4.43706614e-04\n",
      "  9.98204461e-04  1.57731249e-03  1.42831441e-03  9.61581361e-04\n",
      " -1.78589560e-03  1.27099116e-03  8.25105524e-04  1.59292759e-03\n",
      "  5.15305153e-04 -5.57774228e-04  4.72969343e-04  4.01749245e-04\n",
      " -5.11848856e-04  2.00120511e-03  9.66771816e-04  1.17078851e-03\n",
      "  1.38334652e-03  5.53849961e-04  4.53815935e-04  1.29423026e-03\n",
      "  3.70902519e-04 -2.45787526e-03  1.68484373e-03  7.41637410e-04\n",
      "  1.27599318e-03  6.16245864e-04  2.99498684e-03 -1.05921237e-03\n",
      "  1.12782010e-03  1.92028576e-03  1.07709470e-03  1.22171128e-03\n",
      "  1.23902113e-03  1.10725901e-03  1.49167220e-03  4.71325792e-04\n",
      "  6.18026990e-04  1.45928481e-04  9.81485328e-04  1.45091771e-03\n",
      "  1.97519277e-03  9.77550606e-04  1.21166401e-03  1.11555886e-03\n",
      "  2.05522751e-03  2.60663074e-05  1.66985897e-03  1.35802135e-03\n",
      "  1.84091789e-03  1.37807525e-03  3.18513981e-03  8.32568966e-04\n",
      "  8.72200702e-04  1.16442986e-03  1.09086609e-03  1.14252315e-03\n",
      "  1.47642245e-03 -2.53097668e-03  1.41647851e-03 -1.10160006e-03\n",
      "  9.81635112e-04  5.56381583e-04  1.37328959e-03  1.04149743e-03\n",
      "  1.57246449e-03 -4.71630195e-04  9.55436246e-04  1.08836192e-03\n",
      "  1.35615526e-04  1.06687509e-03 -1.48236023e-03  3.09437446e-04\n",
      "  8.85746113e-04  8.02863094e-04  8.98029582e-04  1.16712625e-03\n",
      " -1.92876021e-03  9.08181645e-04  3.64117764e-05  8.84384793e-04\n",
      "  2.53367334e-03  1.03999450e-03  1.26765307e-03  1.34342987e-03\n",
      "  1.50410860e-03  1.58135559e-03  1.02744954e-03  1.13233764e-03\n",
      " -7.97720319e-03 -1.07462984e-03  1.63603351e-03  1.73916898e-03\n",
      "  1.18869310e-03  1.34824280e-03  1.01647446e-03 -1.77257783e-03\n",
      " -1.16830972e-04  1.52905040e-03  1.15934412e-03  1.34000788e-03\n",
      "  1.27845947e-03  1.65927931e-03  1.01075278e-03  1.11285149e-03\n",
      "  9.42819431e-04  1.22309300e-03  1.48562304e-03  1.01740830e-03\n",
      "  1.87448435e-03  1.50220464e-03  2.26644914e-04  1.66203505e-03\n",
      "  9.33379988e-04  1.08992627e-03  1.29011647e-03  1.11700403e-03\n",
      "  1.70351921e-03  1.38394911e-03  2.73279737e-03  3.42972909e-04\n",
      "  1.18752963e-03  8.12583355e-04  1.19189376e-03  1.22337205e-03\n",
      "  1.75840783e-03  9.68369872e-04  9.19068458e-04 -6.81942073e-05\n",
      "  3.76744591e-04 -2.70551962e-04  8.06128121e-04  9.65397202e-04\n",
      "  7.01774166e-04  1.43544457e-03 -5.12155893e-04 -9.66825939e-04\n",
      "  9.48651729e-04  1.93155659e-03  1.23881078e-03  1.15519973e-03\n",
      "  6.43696151e-04  1.03945190e-03  5.05883182e-04  1.43198579e-03\n",
      "  9.88489776e-04  2.20884765e-04  1.88994572e-03  1.69640720e-03\n",
      "  5.76767432e-04 -1.14226303e-03 -1.43909925e-03  1.46360784e-03\n",
      " -4.95409122e-04  2.01986144e-03  2.58388045e-03  1.38342697e-03\n",
      "  2.32533649e-03  1.13759984e-03  1.42355522e-03  1.87523134e-03\n",
      "  1.46930084e-03 -3.75451681e-03  2.40731705e-03  2.38639131e-03\n",
      "  8.66458548e-04  8.02865629e-04  1.11938422e-03  2.11860533e-03\n",
      "  1.94176286e-04  1.23083238e-03  9.65826891e-04  1.30435090e-03\n",
      "  1.30554071e-03 -9.25912693e-05  1.25809836e-03  1.65225186e-03\n",
      " -2.24577882e-04  1.30689648e-03 -7.30565041e-05  9.52639900e-04\n",
      "  1.31138331e-03  1.02851920e-03  9.89711591e-04  5.55827668e-04\n",
      "  5.36344498e-04  9.29158903e-04  6.32591646e-04  1.98437466e-03\n",
      "  9.84828590e-04  1.42007279e-03  1.46761257e-03  1.58478276e-03\n",
      "  1.88284643e-03  1.67626268e-03  1.69304792e-03  1.07188726e-03\n",
      "  1.12167720e-03  2.80925591e-03  1.82138465e-03  9.02024892e-04\n",
      "  1.77069831e-03  9.53640910e-04 -8.65951795e-04  7.04773503e-04\n",
      "  1.01518274e-03  3.73649968e-04  1.45695621e-03  1.12046802e-03\n",
      "  1.67539924e-03 -6.72556575e-04 -1.42368260e-03 -2.58009420e-03\n",
      "  1.42692229e-03  5.27714561e-04  7.75843091e-04  1.65966787e-03\n",
      " -2.80381326e-03  9.13267906e-04 -5.70544012e-04  1.03956496e-03\n",
      "  1.39057001e-03 -2.62201856e-03  5.79375649e-04  9.34186309e-04\n",
      "  8.39377241e-04  9.29767538e-04  1.27472822e-03  8.25949978e-04\n",
      "  1.86191453e-03  1.13366085e-03 -2.11666448e-04  1.01081875e-03\n",
      " -9.70195012e-06  1.96727652e-03  1.90641618e-03  9.14370195e-04\n",
      "  1.27525841e-03  1.42467794e-03  1.26457547e-03  1.40818305e-03\n",
      "  3.77201770e-04  1.66918004e-03  1.12191733e-03  2.41770692e-03\n",
      "  1.75602207e-03  1.43419106e-03  7.69998185e-04  1.53897251e-03\n",
      " -2.93552891e-04  9.22294291e-04  1.98511913e-03 -4.72460552e-03\n",
      "  1.50717084e-03  1.03267543e-03  1.49313650e-03  1.02557328e-03\n",
      "  1.23462549e-03 -3.74040207e-03  1.52939496e-03  1.10366215e-03\n",
      "  2.06787494e-03  8.82682564e-05  1.05838131e-03  1.17095074e-03\n",
      "  1.37026238e-03 -4.29186048e-03 -1.47040511e-04  1.20125589e-03\n",
      "  1.73083406e-03  1.27432312e-03  7.82613143e-04  1.71256869e-03\n",
      "  1.05134430e-03  1.32264386e-03  1.08472143e-04  9.22479797e-04\n",
      "  1.32658780e-03  2.20198531e-03  2.78741936e-04  3.54270596e-04\n",
      "  2.30984592e-03  2.25430631e-03  2.33480331e-03  1.25559260e-03\n",
      "  1.30584235e-03 -4.90813009e-03  5.96770506e-04  3.52094196e-03\n",
      "  1.54350333e-03  1.19411903e-03  1.10308599e-03  1.51375339e-03\n",
      " -4.26739865e-04  1.42583756e-03  1.68995314e-03  1.33242385e-03\n",
      "  1.33651900e-03  8.64212717e-04  1.14450961e-03  4.82055637e-04\n",
      " -4.74369787e-03  1.07887304e-03  7.84807069e-04  1.42956303e-03\n",
      "  1.76364091e-03 -3.42224443e-04  2.71770825e-03  5.72921268e-04\n",
      "  1.46802051e-03  1.94654584e-03  1.70690063e-03  1.23353602e-03\n",
      "  9.26931665e-04  5.66125867e-04  1.22899596e-03 -2.77016545e-04\n",
      " -6.57770245e-04  3.42791792e-04  1.39055108e-03  9.81248233e-04\n",
      "  1.61659624e-03  1.03737901e-03  1.73657867e-03  2.90532977e-03\n",
      "  8.63939561e-04  1.18789376e-03  1.52910994e-03 -2.06674236e-05\n",
      "  1.47718113e-03  1.21897719e-03  9.01780549e-04  1.59901402e-03\n",
      "  1.17688848e-03  1.57555543e-03  1.08779997e-03  1.22225280e-03\n",
      "  4.75950100e-04 -5.47286990e-03  8.89262067e-04  8.05798732e-06\n",
      " -8.97548349e-04 -3.64703195e-03  9.48909176e-04  9.76283675e-04\n",
      "  1.16792119e-03  7.42639593e-04  1.20643065e-03  1.05258586e-03\n",
      "  9.15000720e-04 -1.03296292e-04  1.23761024e-03 -6.56110800e-03\n",
      "  1.69697653e-03  1.43773344e-03  2.45011886e-03  1.00413695e-03\n",
      "  1.43508399e-03  1.35459607e-03  1.17666455e-03  1.02223093e-03\n",
      "  1.87964409e-03  1.03358480e-03  1.94505267e-03  1.09728028e-03\n",
      "  1.93440522e-03 -1.02237136e-03  1.31917593e-03  1.23449303e-03\n",
      "  4.30557064e-04  1.02416364e-03  1.28995583e-03 -6.38007767e-04\n",
      " -2.67558144e-04  1.66579439e-03  1.72125336e-03  1.07501850e-03\n",
      "  1.22420360e-03  1.32096102e-03  9.57077037e-04 -5.60185474e-03\n",
      "  1.88609186e-03  1.10033480e-03  1.51091685e-03  5.01035091e-04\n",
      "  8.80439707e-04  1.34601864e-03  1.38795719e-03 -2.40361267e-03\n",
      "  9.09466381e-04  1.02696089e-03  8.75786844e-04 -2.99696925e-03\n",
      "  1.04656015e-03  1.39345392e-03 -3.45775171e-04  1.33736074e-03\n",
      " -2.43133226e-03  1.46185843e-03  1.17307169e-03  1.58315961e-03\n",
      "  1.75136544e-03  6.28924146e-04  3.05589744e-04  1.27131158e-03\n",
      "  1.21011977e-03  1.36047543e-03  1.06575184e-03  4.26227314e-04\n",
      "  5.28343196e-04  4.91991352e-05 -9.44139518e-05  9.75496991e-04\n",
      "  1.14654873e-03  2.00385055e-03  1.47609025e-03  2.72585601e-03]\n"
     ]
    },
    {
     "name": "stdout",
     "output_type": "stream",
     "text": [
      "done!\n",
      "result shown below:\n",
      "[ 0.  0.  0.  0.  0.  0.  0.  0.  0.  0.  0.  0.  0.  0.  0.  0.  0.  0.\n",
      "  0.  0.  0.  0.  0.  0.  0.  0.  0.  0.  0.  0.  0.  0.  0.  0.  0.  0.\n",
      "  0.  0.  0.  0.  0.  0.  0.  0.  0.  0.  0.  0.  0.  0.  0.  0.  0.  0.\n",
      "  0.  0.  0.  0.  0.  0.  0.  0.  0.  0.  0.  0.  0.  0.  0.  0.  0.  0.\n",
      "  0.  0.  0.  0.  0.  0.  0.  0.  0.  0.  0.  0.  0.  0.  0.  0.  0.  0.\n",
      "  0.  0.  0.  0.  0.  0.  0.  0.  0.  0.  0.  0.  0.  0.  0.  0.  0.  0.\n",
      "  0.  0.  0.  0.  0.  0.  0.  0.  0.  0.  0.  0.  0.  0.  0.  0.  0.  0.\n",
      "  0.  0.  0.  0.  0.  0.  0.  0.  0.  0.  0.  0.  0.  0.  0.  0.  0.  0.\n",
      "  0.  0.  0.  0.  0.  0.  0.  0.  0.  0.  0.  0.  0.  0.  0.  0.  0.  0.\n",
      "  0.  0.  0.  0.  0.  0.  0.  0.  0.  0.  0.  0.  0.  0.  0.  0.  0.  0.\n",
      "  0.  0.  0.  0.  0.  0.  0.  0.  0.  0.  0.  0.  0.  0.  0.  0.  0.  0.\n",
      "  0.  0.  0.  0.  0.  0.  0.  0.  0.  0.  0.  0.  0.  0.  0.  0.  0.  0.\n",
      "  0.  0.  0.  0.  0.  0.  0.  0.  0.  0.  0.  0.  0.  0.  0.  0.  0.  0.\n",
      "  0.  0.  0.  0.  0.  0.  0.  0.  0.  0.  0.  0.  0.  0.  0.  0.  0.  0.\n",
      "  0.  0.  0.  0.  0.  0.  0.  0.  0.  0.  0.  0.  0.  0.  0.  0.  0.  0.\n",
      "  0.  0.  0.  0.  0.  0.  0.  0.  0.  0.  0.  0.  0.  0.  0.  0.  0.  0.\n",
      "  0.  0.  0.  0.  0.  0.  0.  0.  0.  0.  0.  0.  0.  0.  0.  0.  0.  0.\n",
      "  0.  0.  0.  0.  0.  0.  0.  0.  0.  0.  0.  0.  0.  0.  0.  0.  0.  0.\n",
      "  0.  0.  0.  0.  0.  0.  0.  0.  0.  0.  0.  0.  0.  0.  0.  0.  0.  0.\n",
      "  0.  0.  0.  0.  0.  0.  0.  0.  0.  0.  0.  0.  0.  0.  0.  0.  0.  0.\n",
      "  0.  0.  0.  0.  0.  0.  0.  0.  0.  0.  0.  0.  0.  0.  0.  0.  0.  0.\n",
      "  0.  0.  0.  0.  0.  0.  0.  0.  0.  0.  0.  0.  0.  0.  0.  0.  0.  0.\n",
      "  0.  0.  0.  0.  0.  0.  0.  0.  0.  0.  0.  0.  0.  0.  0.  0.  0.  0.\n",
      "  0.  0.  0.  0.  0.  0.  0.  0.  0.  0.  0.  0.  0.  0.  0.  0.  0.  0.\n",
      "  0.  0.  0.  0.  0.  0.  0.  0.  0.  0.  0.  0.  0.  0.  0.  0.  0.  0.\n",
      "  0.  0.  0.  0.  0.  0.  0.  0.  0.  0.  0.  0.  0.  0.  0.  0.  0.  0.\n",
      "  0.  0.  0.  0.  0.  0.  0.  0.  0.  0.  0.  0.  0.  0.  0.  0.  0.  0.\n",
      "  0.  0.  0.  0.  0.  0.  0.  0.  0.  0.  0.  0.  0.  0.  0.  0.  0.  0.\n",
      "  0.  0.  0.  0.  0.  0.  0.  0.  0.  0.  0.  0.  0.  0.  0.  0.  0.  0.\n",
      "  0.  0.  0.  0.  0.  0.  0.  0.  0.  0.  0.  0.  0.  0.  0.  0.  0.  0.\n",
      "  0.  0.  0.  0.  0.  0.  0.  0.  0.  0.  0.  0.  0.  0.  0.  0.  0.  0.\n",
      "  0.  0.  0.  0.  0.  0.  0.  0.  0.  0.  0.  0.  0.  0.  0.  0.  0.  0.\n",
      "  0.  0.  0.  0.  0.  0.  0.  0.  0.  0.  0.  0.  0.  0.  0.  0.  0.  0.\n",
      "  0.  0.  0.  0.  0.  0.  0.  0.  0.  0.  0.  0.  0.  0.  0.  0.  0.  0.\n",
      "  0.  0.  0.  0.  0.  0.  0.  0.  0.  0.  0.  0.  0.  0.  0.  0.  0.  0.\n",
      "  0.  0.  0.  0.  0.  0.  0.  0.  0.  0.  0.  0.  0.  0.  0.  0.  0.  0.\n",
      "  0.  0.  0.  0.  0.  0.  0.  0.  0.  0.  0.  0.  0.  0.  0.  0.  0.  0.\n",
      "  0.  0.  0.  0.  0.  0.  0.  0.  0.  0.  0.  0.  0.  0.  0.  0.  0.  0.\n",
      "  0.  0.  0.  0.  0.  0.  0.  0.  0.  0.  0.  0.  0.  0.  0.  0.  0.  0.\n",
      "  0.  0.  0.  0.  0.  0.  0.  0.  0.  0.  0.  0.  0.  0.  0.  0.  0.  0.\n",
      "  0.  0.  0.  0.  0.  0.  0.  0.  0.  0.  0.  0.  0.  0.  0.  0.  0.  0.\n",
      "  0.  0.  0.  0.  0.  0.  0.  0.  0.  0.  0.  0.  0.  0.  0.  0.  0.  0.\n",
      "  0.  0.  0.  0.  0.  0.  0.  0.  0.  0.  0.  0.  0.  0.  0.  0.  0.  0.\n",
      "  0.  0.  0.  0.  0.  0.  0.  0.  0.  0.  0.  0.  0.  0.  0.  0.  0.  0.\n",
      "  0.  0.  0.  0.  0.  0.  0.  0.  0.  0.  0.  0.  0.  0.  0.  0.  0.  0.\n",
      "  0.  0.  0.  0.  0.  0.  0.  0.  0.  0.  0.  0.  0.  0.  0.  0.  0.  0.\n",
      "  0.  0.  0.  0.  0.  0.  0.  0.  0.  0.  0.  0.  0.  0.  0.  0.  0.  0.\n",
      "  0.  0.  0.  0.  0.  0.  0.  0.  0.  0.  0.  0.  0.  0.  0.  0.  0.  0.\n",
      "  0.  0.  0.  0.  0.  0.  0.  0.  0.  0.  0.  0.  0.  0.  0.  0.  0.  0.\n",
      "  0.  0.  0.  0.  0.  0.  0.  0.  0.  0.  0.  0.  0.  0.  0.  0.  0.  0.\n",
      "  0.  0.  0.  0.  0.  0.  0.  0.  0.  0.  0.  0.  0.  0.  0.  0.  0.  0.\n",
      "  0.  0.  0.  0.  0.  0.  0.  0.  0.  0.  0.  0.  0.  0.  0.  0.  0.  0.\n",
      "  0.  0.  0.  0.  0.  0.  0.  0.  0.  0.  0.  0.  0.  0.  0.  0.  0.  0.\n",
      "  0.  0.  0.  0.  0.  0.  0.  0.  0.  0.  0.  0.  0.  0.  0.  0.  0.  0.\n",
      "  0.  0.  0.  0.  0.  0.  0.  0.  0.  0.  0.  0.  0.  0.  0.  0.  0.  0.\n",
      "  0.  0.  0.  0.  0.  0.  0.  0.  0. -4.]\n"
     ]
    }
   ],
   "source": [
    "res_knn = app.run(measure_KNN)\n",
    "res_knnloo = app.run(measure_KNNLOO)"
   ]
  },
  {
   "cell_type": "markdown",
   "metadata": {},
   "source": [
    "##### visualize"
   ]
  },
  {
   "cell_type": "code",
   "execution_count": 6,
   "metadata": {},
   "outputs": [
    {
     "data": {
      "image/png": "[encoded data removed]",
      "text/plain": [
       "<Figure size 432x288 with 1 Axes>"
      ]
     },
     "metadata": {
      "needs_background": "light"
     },
     "output_type": "display_data"
    }
   ],
   "source": [
    "LabelPlotter(app, ('KNN-Shapley',res_knn), ('KNN-LOO',res_knnloo)).plot()"
   ]
  },
  {
   "cell_type": "markdown",
   "metadata": {},
   "source": [
    "# Pattern-based Watermark Removal"
   ]
  },
  {
   "cell_type": "markdown",
   "metadata": {},
   "source": [
    "##### data loading"
   ]
  },
  {
   "cell_type": "code",
   "execution_count": 7,
   "metadata": {
    "scrolled": true
   },
   "outputs": [],
   "source": [
    "num = 1000\n",
    "loader = FashionMnist(num_train=num)\n",
    "X_data, y_data, X_test_data, y_test_data = loader.prepare_data()"
   ]
  },
  {
   "cell_type": "markdown",
   "metadata": {},
   "source": [
    "###### measure"
   ]
  },
  {
   "cell_type": "code",
   "execution_count": 8,
   "metadata": {},
   "outputs": [],
   "source": [
    "measure_KNN = KNN_Shapley(K=5)\n",
    "measure_KNNLOO = KNN_LOO(K=5)"
   ]
  },
  {
   "cell_type": "markdown",
   "metadata": {},
   "source": [
    "##### application"
   ]
  },
  {
   "cell_type": "code",
   "execution_count": 9,
   "metadata": {},
   "outputs": [],
   "source": [
    "app = Poisoning(X_data, y_data, X_test_data, y_test_data, model_family='NN')"
   ]
  },
  {
   "cell_type": "markdown",
   "metadata": {},
   "source": [
    "##### run"
   ]
  },
  {
   "cell_type": "code",
   "execution_count": 10,
   "metadata": {
    "collapsed": true
   },
   "outputs": [
    {
     "name": "stdout",
     "output_type": "stream",
     "text": [
      "done!\n",
      "result shown below:\n",
      "[ 9.40513088e-04  1.03037981e-03  8.22190228e-04  9.59854748e-04\n",
      "  7.33815710e-04  8.40565601e-04  6.65621210e-04  2.73696770e-03\n",
      "  1.61772126e-03  6.35189063e-04  9.81326800e-04  9.86961337e-04\n",
      " -8.58242274e-04  1.04979737e-03  1.11924764e-03  9.44419214e-04\n",
      "  5.30051228e-04  8.12917141e-04  1.33954775e-04  8.98736206e-04\n",
      "  9.04058160e-04  8.13894225e-04 -6.19468274e-04  1.69081627e-03\n",
      "  1.18766734e-03  1.23301598e-03  1.60215881e-03  1.27487977e-03\n",
      "  6.41081808e-04  7.94950239e-04 -3.65633553e-03 -1.22874602e-04\n",
      "  9.34918286e-04 -7.18826210e-03 -3.79677928e-04  1.21996220e-03\n",
      " -6.02861179e-03  1.20913743e-03  1.42275002e-03  9.72248446e-04\n",
      "  1.15356591e-03  1.33509541e-03 -8.80531054e-04 -1.58740732e-03\n",
      " -1.93871481e-03  8.49786417e-04  1.08692717e-03 -6.50793358e-03\n",
      "  8.32921286e-04  9.19063795e-04  9.85025949e-04  1.22199798e-03\n",
      "  2.63452059e-03  1.17463265e-03  1.14259451e-03  2.29106692e-04\n",
      "  1.08600699e-03  8.01382236e-04  1.17374826e-03  1.28239330e-03\n",
      "  1.04584443e-03  1.69659845e-03 -3.26596819e-03 -1.38463867e-03\n",
      "  1.23150731e-03  4.32954281e-04 -1.91418091e-03  1.01187764e-03\n",
      "  3.64017774e-04 -1.01709413e-04  1.14792075e-03  8.88583370e-04\n",
      "  1.47659317e-03  2.09923364e-03  1.42284958e-03 -5.78985711e-03\n",
      "  1.26739885e-03  1.30544727e-03  6.53995485e-04 -6.62092198e-03\n",
      "  9.70366708e-04  1.30905024e-03  8.06890250e-04 -1.03509246e-03\n",
      "  8.66111122e-04  1.05836965e-03  9.46525022e-04  8.56188766e-04\n",
      "  5.26335402e-04  8.78076197e-04  1.58855503e-03  1.60366482e-03\n",
      "  1.28726160e-03  1.83523152e-03  1.10085208e-03  1.31904230e-03\n",
      "  1.26517556e-03  1.40379895e-03  7.46782743e-04  1.16825904e-03\n",
      "  7.54949185e-04  1.07457298e-03  1.36486322e-03 -5.17439311e-04\n",
      "  9.44252216e-04  9.44005846e-04  1.36788249e-03 -1.95884582e-03\n",
      "  1.06506608e-03  1.77482003e-03  9.92888079e-04  1.61445059e-03\n",
      "  1.63074516e-03  1.17808441e-03  1.00031743e-03 -7.50962844e-04\n",
      " -4.60657657e-03  1.39329438e-03  7.87141099e-04  8.19861757e-04\n",
      "  1.45520923e-03 -2.64691857e-03  9.94767180e-04  1.79317198e-03\n",
      "  1.35970736e-03  2.40315559e-03  1.89038014e-03  2.87146264e-04\n",
      "  1.92024012e-04 -1.20645979e-03  1.16161768e-03  3.89285976e-05\n",
      "  1.34109092e-03  1.43118973e-03  1.12736291e-03  1.13510586e-03\n",
      "  1.21422368e-03  1.45409502e-04  1.90591624e-04  1.11214152e-03\n",
      "  8.07797175e-04  1.27111022e-03  5.79779929e-04  1.03214372e-03\n",
      "  1.49665510e-03  9.97001244e-04  1.09166224e-03  1.24563586e-03\n",
      "  2.10615196e-03  2.69461275e-03  7.52084972e-04  1.05125679e-03\n",
      "  8.97364573e-04  1.53365897e-03  2.79714402e-04  1.24832134e-03\n",
      "  1.66172733e-03  1.06946932e-03  9.01955304e-04  1.73296530e-03\n",
      "  5.26428504e-04  8.87532854e-04  1.20547120e-03 -1.96026409e-04\n",
      "  2.01741341e-03  1.00601090e-03  1.45997648e-03  1.97255656e-03\n",
      "  1.41739631e-03  3.25489292e-04  1.20763663e-03  8.21550878e-04\n",
      "  2.23663618e-03  1.04255672e-03  5.07260865e-04  9.15198994e-04\n",
      "  5.68938597e-04  2.20786108e-03  9.75104408e-04  2.13547369e-03\n",
      "  1.19310398e-03  1.35102686e-03  9.35197463e-04  9.45634839e-04\n",
      "  1.17742740e-03  1.91685202e-03  8.40396312e-04  9.19076787e-04\n",
      "  1.28528947e-03  1.34641488e-03  2.04478645e-03  1.30138304e-03\n",
      "  1.11431015e-03  5.28395754e-05  1.48262531e-03  2.23122053e-03\n",
      "  1.22021592e-03  8.08859706e-04  1.10814710e-03 -9.33464501e-04\n",
      "  5.28933551e-04  1.02236328e-03  1.34628717e-03  9.02604597e-04\n",
      "  1.57234874e-03 -1.05824768e-03  2.09856078e-03  2.01359217e-03\n",
      "  6.24391332e-04  1.02425923e-03  7.58026035e-04  1.48679435e-03\n",
      " -4.93570151e-04  7.91187929e-04  1.53724934e-03  4.65804147e-05\n",
      "  1.91985866e-03  1.19713542e-03  9.91320179e-04  5.47568740e-04\n",
      "  1.55707344e-03  3.56399333e-04  1.39911361e-03  1.64574613e-03\n",
      " -7.22507003e-04  1.91856025e-03  1.48958236e-03  1.16049893e-03\n",
      "  8.26068712e-04  2.42294775e-03 -2.13946523e-03  2.36670176e-03\n",
      "  9.22133521e-04  1.46635612e-03  9.97157694e-04  1.40602029e-03\n",
      "  5.30052473e-04  1.22198327e-03  1.04697386e-03  2.44737714e-03\n",
      "  1.40592938e-03  1.20016354e-03  4.21116111e-04  1.01226541e-03\n",
      "  2.70050252e-04  9.54227260e-05  1.26838575e-03  1.05876407e-03\n",
      " -1.41325967e-03  1.34024857e-03 -4.27043566e-03  4.47012786e-04\n",
      "  1.31291077e-03  1.31072479e-03  1.16192136e-03  1.35330535e-03\n",
      "  7.69224557e-04  9.26342587e-04  1.10248150e-03  8.79433352e-04\n",
      "  1.06002394e-03  1.05782200e-03  1.69860297e-03  1.93935005e-03\n",
      "  1.36428622e-03 -1.00983361e-03  1.55715286e-03  7.99510088e-04\n",
      "  1.76457430e-03  9.32155933e-04 -2.23655953e-03  1.07070368e-03\n",
      " -3.68022449e-05  9.47150588e-04  1.54485056e-03  7.13484889e-04\n",
      " -3.35874896e-04  7.99072704e-04  9.36495257e-04  1.39896249e-03\n",
      "  1.00647207e-03  8.59445204e-04 -1.83042641e-03  5.88415940e-04\n",
      "  6.97666643e-04  1.07620233e-04 -2.59634122e-03 -1.37883338e-03\n",
      "  1.14207209e-03  8.11222241e-04  1.21192692e-03  7.62937486e-04\n",
      " -2.25268352e-03  6.08025791e-04 -1.83393610e-03  1.42149301e-03\n",
      "  1.51537809e-03  1.05702825e-03  1.67216934e-03  1.57596740e-03\n",
      "  1.33849431e-03  1.19229915e-03  1.27929798e-03  8.67036354e-04\n",
      "  1.32102380e-03 -5.24811030e-05  5.21150737e-04  1.26759271e-03\n",
      "  1.45116019e-03  1.53333949e-03 -3.74962839e-03  1.03505076e-03\n",
      "  1.18404775e-03 -5.34501873e-04  1.01740326e-03  1.23286913e-03\n",
      "  8.69814050e-04  1.22721523e-03  2.96300112e-04  1.45594888e-03\n",
      "  9.16618913e-04  1.15488237e-03  9.82008487e-04  9.18078931e-04\n",
      "  1.13679293e-03  7.41122411e-04 -1.27472709e-03  4.64101178e-05\n",
      "  1.88881888e-03  1.49372701e-03  1.07714860e-03  2.87333515e-04\n",
      "  1.07862774e-03  8.92313985e-04  6.69933088e-04  6.91316137e-04\n",
      "  8.05641001e-04  1.10063530e-03  1.01588643e-03  1.20141469e-03\n",
      "  1.04792659e-03  1.45179275e-03  1.38670733e-03  1.12423638e-03\n",
      " -7.18306538e-04  2.63387173e-03  1.36000455e-03  8.69460018e-04\n",
      "  7.77545579e-04  1.30132693e-03  8.69260460e-04 -2.41094215e-03\n",
      "  6.20039174e-04  9.73387647e-04  1.33329154e-03  6.20218812e-04\n",
      "  8.93693765e-04  1.04185338e-03  8.32805295e-04  5.69651577e-04\n",
      "  1.70125214e-03  8.00321041e-04  1.01094298e-03 -1.78372594e-04\n",
      "  1.52211234e-03  7.23554228e-04  1.24595302e-03  1.28514651e-03\n",
      "  5.21354954e-04  9.19873852e-04  1.12409908e-03  1.08893501e-03\n",
      " -3.22883419e-03  7.55517232e-04  8.37381078e-04  1.48537637e-03\n",
      "  1.49140818e-03 -1.34330309e-03  5.04946534e-04  1.40477074e-03\n",
      "  1.05619984e-03  1.39641766e-03  1.48263021e-03  1.09144015e-03\n",
      "  5.30798496e-04  1.32693855e-03  2.33400616e-03  1.15414198e-03\n",
      "  1.54267023e-03  1.19039285e-03  8.96386943e-04 -1.00247104e-03\n",
      "  8.92528805e-04  1.43632163e-03  1.11253918e-03  8.39211801e-04\n",
      "  1.14233774e-03  1.13833908e-03  1.87878902e-03  1.11425865e-03\n",
      "  9.40808496e-04  8.92905659e-04  8.02936648e-04  1.78843643e-03\n",
      "  1.61508821e-03 -1.23306331e-03  1.65186973e-03  1.61060482e-03\n",
      "  1.78459995e-03 -2.32949525e-03  1.38230795e-04  1.28483417e-03\n",
      "  1.01872930e-03  1.16982060e-03  1.67822285e-04  1.35592122e-03\n",
      "  7.98739285e-04  1.53963196e-03  8.11827329e-04  1.60052426e-03\n",
      "  1.04881964e-03  9.83097788e-04  1.28593223e-03  1.49466198e-03\n",
      "  1.68887469e-03 -5.00160844e-04  9.07743904e-04  9.23740284e-04\n",
      "  1.74809699e-03  1.17237015e-03  8.60775839e-04  7.66869725e-04\n",
      "  8.47026964e-04  1.57017201e-03  1.71852661e-03  5.69553068e-04\n",
      " -1.87487133e-03  1.73558243e-03  1.22275987e-03 -5.75721207e-03\n",
      "  1.63270777e-03  1.16924837e-03 -2.03539118e-03  1.48759342e-03\n",
      "  8.70008318e-04 -2.70821421e-03  8.25003055e-04  1.11949596e-03\n",
      "  1.33430705e-03 -1.43474049e-04  1.99702285e-03  1.11805279e-03\n",
      "  2.22476724e-03  9.92701687e-05  9.54980689e-04  1.57171680e-03\n",
      "  1.34563761e-03  1.67246623e-03  1.84607099e-03  2.31125366e-03\n",
      " -1.49800879e-03  9.40132265e-04  1.13733017e-03  7.14990471e-04\n",
      " -2.22825415e-04 -9.88379500e-04 -1.73924853e-05  2.19568608e-03\n",
      "  1.71498886e-03  1.11410415e-03  1.40668072e-03  1.70219975e-03\n",
      "  8.86394698e-04  1.83410898e-04  8.62865448e-04  6.16038332e-04\n",
      "  1.30283471e-03  1.50555137e-03  1.36059331e-03  6.49379182e-04\n",
      "  1.00559878e-03  8.83338034e-04  1.36070546e-03  8.61307249e-04\n",
      "  8.84302924e-04  5.16752378e-04  1.07171314e-03  9.06761520e-04\n",
      "  7.46048014e-04  7.73704885e-04  1.13087575e-03  5.10454479e-04\n",
      "  8.83630105e-04  8.32860209e-04 -1.13533050e-03 -2.06853788e-03\n",
      "  1.32582352e-03  1.21605406e-03  1.16959479e-03  1.01446562e-03\n",
      "  6.57621817e-04  1.43602715e-03  8.00789081e-04  9.47082873e-04\n",
      "  1.55905562e-03  1.09318760e-03  1.18227628e-03 -3.16423395e-03\n",
      "  2.83260914e-03 -6.28867367e-04  6.81328625e-04  1.19293185e-03\n",
      "  9.85768706e-04  8.99459151e-04  1.44351807e-03  1.01038858e-03\n",
      " -3.94908972e-04  1.84313017e-03  1.81556125e-03  1.90377236e-03\n",
      "  1.31593000e-03  4.39444056e-04  9.72548980e-04  7.52789343e-04\n",
      "  4.95669959e-04  2.43689879e-03  1.72888432e-03 -2.60133645e-03\n",
      "  1.63054552e-03 -1.04851953e-03  1.08709179e-03 -4.94460744e-03\n",
      "  3.57059102e-04  6.79959148e-04  5.90038827e-04  1.19663322e-03\n",
      "  1.07489972e-03  1.15993665e-03  1.33039912e-03  7.67540820e-05\n",
      "  1.12446200e-03  1.72742518e-03  1.14937058e-03  1.49037850e-03\n",
      "  1.37296417e-03  8.95848583e-04 -7.00771007e-05  1.05556289e-04\n",
      "  7.45623392e-04  1.11379703e-03  1.67648350e-03  1.88540787e-03\n",
      "  1.35605421e-03  5.42241712e-04  1.85423631e-03  1.20540991e-03\n",
      "  1.02747072e-03  4.53471732e-04  9.12023880e-04 -5.27429275e-03\n",
      "  9.04697682e-04  7.75415859e-04 -4.16339541e-04  1.33086806e-03\n",
      "  9.44352406e-04  7.06880083e-04  1.50192034e-03  9.21810405e-04\n",
      "  8.40439887e-05  1.73419778e-03  1.16306259e-03  8.83019328e-04\n",
      "  1.72146845e-03 -1.91895178e-03  1.39039627e-03  1.14415421e-03\n",
      " -2.11753914e-04  3.24598279e-04  8.18153378e-04  1.22759522e-03\n",
      "  1.18419974e-03  1.46812747e-03  1.46806935e-03  2.42577787e-04\n",
      "  1.16731567e-03  1.81369976e-03  1.29074396e-03  1.74221772e-03\n",
      "  7.57877433e-04 -1.30123435e-03  1.09258957e-03  1.17358629e-03\n",
      "  1.90647621e-03 -6.14273898e-04  1.03529493e-03  9.83226762e-04\n",
      "  8.15330099e-04  1.31186219e-03  1.07253761e-03 -1.77957723e-04\n",
      "  8.27973078e-04  8.45054629e-04  8.10335979e-04 -7.50064416e-04\n",
      "  8.49260972e-04 -4.22017638e-03 -6.41065526e-04  1.95431320e-03\n",
      "  9.01843534e-04  1.08629355e-03  1.64659812e-03  1.06767455e-03\n",
      "  1.10481611e-03  9.35006012e-04  1.13695192e-03  8.87341185e-04\n",
      "  1.19612669e-03  1.09716407e-03  9.01667879e-04  7.61212396e-04\n",
      "  1.03016914e-03  1.22154296e-03 -2.38474555e-03  1.10785532e-03\n",
      "  1.30103410e-03 -2.98914384e-03  9.27251378e-04  1.31277759e-03\n",
      "  1.55188059e-03  1.21585301e-03  9.21193150e-04  1.10149671e-03\n",
      "  1.77979689e-03  1.04925751e-03  1.10374883e-03  1.49598782e-03\n",
      "  8.10286447e-04  1.05217025e-03  8.27252197e-04  2.55640440e-03\n",
      "  9.43435575e-04  9.07820202e-04  1.70409787e-03 -2.38889853e-04\n",
      "  1.16695673e-04  1.39370828e-03  1.21826861e-03  9.73486608e-04\n",
      "  1.10273610e-03  1.90641707e-03  7.09574980e-04  6.79179412e-04\n",
      "  5.78030739e-04  1.32709211e-03  7.70053366e-04 -2.83170891e-04\n",
      "  1.83659324e-03  1.94233540e-03  8.11302501e-04  1.07996912e-04\n",
      " -2.99133834e-04  1.00525553e-03  3.50769583e-04  1.15984190e-03\n",
      "  4.95012378e-04  6.53630307e-04  1.16735468e-03  1.43440537e-03\n",
      "  3.69284858e-04  1.67184646e-03  1.40939909e-03  8.96734947e-04\n",
      "  1.17334584e-03  6.00263691e-04  8.63709384e-04  1.53452101e-03\n",
      "  1.11076164e-03  1.50206846e-03  1.11004206e-03 -1.21852515e-03\n",
      "  1.51630857e-03 -5.57336761e-04  4.70410345e-04  1.09843776e-03\n",
      "  1.69270891e-03 -5.10853105e-03 -2.10405663e-03  1.65123462e-03\n",
      "  2.40763230e-03  8.80074565e-04  1.54423413e-03  2.24775658e-05\n",
      "  1.30014951e-03 -1.81024556e-03  1.09509147e-03  1.27102196e-03\n",
      "  1.09461687e-03 -2.79234872e-04  1.74551628e-03  1.32763461e-03\n",
      " -6.22951977e-04  1.36384228e-03  9.38581389e-04  4.55087258e-04\n",
      "  9.56261347e-05  9.73701316e-04  1.18095561e-03  1.14535482e-03\n",
      "  1.03594035e-03  1.13614060e-03  1.27290506e-03  1.33968299e-03\n",
      " -4.40124939e-03  1.33320441e-03  1.02239275e-03  1.50987326e-03\n",
      "  1.06433867e-03  1.08019821e-03  5.49013480e-04  2.41243107e-03\n",
      "  1.53643234e-03 -8.96687667e-05  1.17404525e-03  1.46075510e-03\n",
      " -1.76484325e-03  1.40505521e-03  9.58269886e-04  2.41449227e-04\n",
      "  1.37267217e-03  1.12773574e-03  1.43223947e-03  1.07598805e-03\n",
      "  7.67203676e-04  1.22706175e-03  1.10864006e-03  2.69125514e-03\n",
      "  1.11408860e-03 -7.20543147e-05 -3.25058365e-04  1.23644551e-03\n",
      "  1.16647875e-03  1.59279449e-03  8.13545067e-04  1.54168721e-03\n",
      "  1.65499094e-03  1.18409773e-03  9.35213227e-04 -3.71665158e-03\n",
      "  8.61818445e-04  9.07958357e-04  9.72702073e-04  1.32933453e-03\n",
      "  1.52070232e-03  1.04623375e-04  4.11537194e-03  5.47409120e-04\n",
      "  1.32367435e-03 -4.60878275e-03  1.61434979e-03  1.72694140e-03\n",
      " -4.04978424e-03  7.79103066e-04  1.11866848e-03  1.12582302e-03\n",
      "  9.46933597e-04 -3.02337235e-04 -2.86921416e-03  9.02731779e-04\n",
      "  1.18007536e-03  1.16154139e-03  9.48791816e-04  1.81709811e-03\n",
      "  1.49822400e-03  8.68055242e-04  5.54659564e-04  1.19045974e-03\n",
      " -4.88164361e-04  1.03981911e-03  8.79104501e-04  1.38503664e-03\n",
      " -3.13313115e-04  1.94152195e-03  8.04002422e-04 -1.78266878e-03\n",
      "  8.25865840e-04  1.13687343e-03  6.81724665e-04  1.06289480e-03\n",
      "  2.10191615e-03 -1.95114264e-04  1.08877487e-03  8.71038262e-04\n",
      "  3.92150188e-05  1.66380996e-04  1.38885636e-03  7.27788703e-04\n",
      "  7.53608903e-04  1.02246708e-03  1.43503811e-03  9.47193550e-04\n",
      "  2.43789911e-04 -1.09726542e-03 -1.82572885e-03 -2.27081503e-04\n",
      "  9.00844110e-04  6.75234471e-04  1.55185039e-03  5.77958918e-04\n",
      "  1.12473453e-03  3.45970769e-04  1.24275133e-03  1.03942930e-03\n",
      " -1.32097093e-04  1.58290988e-03  4.83820058e-04  2.14128788e-04\n",
      "  1.90206746e-03  1.93461191e-03  9.63661102e-04  1.05890383e-03\n",
      "  4.11644047e-04  7.31710674e-04  8.98474384e-04  1.55276344e-03\n",
      "  9.33449059e-04  9.91607314e-04  1.41734097e-03  1.37028528e-03\n",
      "  1.61943550e-03  9.35626711e-04  6.56405491e-04  1.10855633e-03\n",
      " -2.75236621e-03  9.53277902e-04  7.85825784e-04  1.22688456e-03\n",
      "  8.27050817e-04  8.86200913e-04  1.65676705e-03  9.66241144e-04\n",
      " -1.79000766e-04  9.44201717e-04 -1.24789962e-03 -6.48431150e-03\n",
      "  1.01000461e-03  1.32666079e-03  1.13931004e-03 -6.57213238e-04\n",
      " -6.52427706e-04  2.43455547e-03  1.06470718e-03 -3.06439422e-05\n",
      "  9.81032136e-04  1.07525935e-03  5.33789937e-04 -2.52114759e-05\n",
      "  1.18664829e-03  6.91250559e-04  1.15833707e-03  1.70575975e-03\n",
      "  9.83611458e-04  8.37287493e-04  1.08960054e-03  1.42198233e-03\n",
      "  1.94261072e-03  6.58494811e-04  7.44684334e-04  8.84908758e-04\n",
      "  1.03914187e-03  1.26015844e-03  1.31209397e-03  4.08175964e-04\n",
      "  9.14501281e-04  1.03004265e-03  1.02557746e-03  1.18234923e-04\n",
      "  1.15590381e-03  1.01600867e-03 -4.29537409e-04  1.35405621e-03\n",
      "  1.60155856e-03  1.48700964e-03  1.68393231e-03  1.66640738e-03\n",
      "  1.57879847e-03 -7.60127642e-04  8.39346534e-04  1.39934166e-03\n",
      "  1.16639769e-03  1.28469283e-03  1.71953715e-03  1.19411555e-03\n",
      "  1.54235283e-03  2.19744923e-03  1.35360140e-03  8.40741416e-05\n",
      "  1.16805078e-03  3.96543390e-04  1.70193522e-03  7.55276032e-04\n",
      "  1.90604951e-03  1.06776889e-03 -1.61219379e-03  2.15864167e-03\n",
      "  4.79403905e-04  9.55068053e-04  1.85468646e-03  2.35458808e-03\n",
      "  2.06501158e-03  1.30589844e-03  1.84380416e-03  7.07356284e-04\n",
      "  5.68324951e-04 -5.67356160e-03  8.31377399e-04  1.39843775e-03\n",
      "  1.31383144e-03  1.03093808e-03  1.39220641e-03  1.23032138e-03\n",
      "  1.91312898e-03 -2.79400069e-03  8.99811202e-04  8.30279344e-04\n",
      " -1.41014386e-03  8.94726187e-04 -4.02470121e-03  6.60881054e-04\n",
      "  1.44625520e-03 -1.54591016e-03  1.64111261e-03  1.11218940e-03\n",
      "  1.58334788e-03  7.95155221e-04  2.05134656e-03  5.90805575e-04\n",
      "  9.81694696e-04  1.43887446e-03  1.04354534e-03 -1.30625906e-03\n",
      "  9.06431686e-04  9.82589242e-04 -3.66256308e-05  1.77995618e-03\n",
      "  9.24265931e-04  1.19546016e-03  8.74274347e-04  1.09616646e-03\n",
      "  9.95509652e-04  7.63181923e-04  8.40886396e-04  8.79480090e-04\n",
      "  1.04075100e-03  1.31349973e-03  1.25283289e-03  1.33558641e-03\n",
      "  1.02387547e-03  1.10418437e-03  1.26735676e-03 -9.68700209e-05\n",
      "  1.23712315e-03  8.49901811e-04  1.50078076e-03  1.21364156e-03\n",
      "  1.26098537e-03  1.43332168e-03  1.07330914e-03  1.93183899e-03\n",
      "  1.74766133e-03  1.42233449e-03  1.48737532e-03 -4.53794107e-03\n",
      " -6.22919564e-03  1.39997505e-03  1.44113114e-03 -5.06484229e-04\n",
      "  1.05485357e-03  1.34756613e-03  1.19513521e-03  1.17919624e-03\n",
      "  1.18744767e-03  5.41367153e-04  1.45355838e-03  1.11896233e-03\n",
      "  1.24760458e-03  8.82024536e-04  5.73770476e-04  4.18993601e-04\n",
      "  1.42549922e-03  1.65149097e-03  2.03658798e-03  1.04068548e-03\n",
      "  1.25485059e-03 -2.75562985e-05  1.86421476e-03  1.88995786e-03\n",
      "  1.20860986e-03  1.04544653e-03 -2.06431914e-03  9.43990365e-04]\n"
     ]
    },
    {
     "name": "stdout",
     "output_type": "stream",
     "text": [
      "done!\n",
      "result shown below:\n",
      "[0. 0. 0. 0. 0. 0. 0. 0. 0. 0. 0. 0. 0. 0. 0. 0. 0. 0. 0. 0. 0. 0. 0. 0.\n",
      " 0. 0. 0. 0. 0. 0. 0. 0. 0. 0. 0. 0. 0. 0. 0. 0. 0. 0. 0. 0. 0. 0. 0. 0.\n",
      " 0. 0. 0. 0. 0. 0. 0. 0. 0. 0. 0. 0. 0. 0. 0. 0. 0. 0. 0. 0. 0. 0. 0. 0.\n",
      " 0. 0. 0. 0. 0. 0. 0. 0. 0. 0. 0. 0. 0. 0. 0. 0. 0. 0. 0. 0. 0. 0. 0. 0.\n",
      " 0. 0. 0. 0. 0. 0. 0. 0. 0. 0. 0. 0. 0. 0. 0. 0. 0. 0. 0. 0. 0. 0. 0. 0.\n",
      " 0. 0. 0. 0. 0. 0. 0. 0. 0. 0. 0. 0. 0. 0. 0. 0. 0. 0. 0. 0. 0. 0. 0. 0.\n",
      " 0. 0. 0. 0. 0. 0. 0. 0. 0. 0. 0. 0. 0. 0. 0. 0. 0. 0. 0. 0. 0. 0. 0. 0.\n",
      " 0. 0. 0. 0. 0. 0. 0. 0. 0. 0. 0. 0. 0. 0. 0. 0. 0. 0. 0. 0. 0. 0. 0. 0.\n",
      " 0. 0. 0. 0. 0. 0. 0. 0. 0. 0. 0. 0. 0. 0. 0. 0. 0. 0. 0. 0. 0. 0. 0. 0.\n",
      " 0. 0. 0. 0. 0. 0. 0. 0. 0. 0. 0. 0. 0. 0. 0. 0. 0. 0. 0. 0. 0. 0. 0. 0.\n",
      " 0. 0. 0. 0. 0. 0. 0. 0. 0. 0. 0. 0. 0. 0. 0. 0. 0. 0. 0. 0. 0. 0. 0. 0.\n",
      " 0. 0. 0. 0. 0. 0. 0. 0. 0. 0. 0. 0. 0. 0. 0. 0. 0. 0. 0. 0. 0. 0. 0. 0.\n",
      " 0. 0. 0. 0. 0. 0. 0. 0. 0. 0. 0. 0. 0. 0. 0. 0. 0. 0. 0. 0. 0. 0. 0. 0.\n",
      " 0. 0. 0. 0. 0. 0. 0. 0. 0. 0. 0. 0. 0. 0. 0. 0. 0. 0. 0. 0. 0. 0. 0. 0.\n",
      " 0. 0. 0. 0. 0. 0. 0. 0. 0. 0. 0. 0. 0. 0. 0. 0. 0. 0. 0. 0. 0. 0. 0. 0.\n",
      " 0. 0. 0. 0. 0. 0. 0. 0. 0. 0. 0. 0. 0. 0. 0. 0. 0. 0. 0. 0. 0. 0. 0. 0.\n",
      " 0. 0. 0. 0. 0. 0. 0. 0. 0. 0. 0. 0. 0. 0. 0. 0. 0. 0. 0. 0. 0. 0. 0. 0.\n",
      " 0. 0. 0. 0. 0. 0. 0. 0. 0. 0. 0. 0. 0. 0. 0. 0. 0. 0. 0. 0. 0. 0. 0. 0.\n",
      " 0. 0. 0. 0. 0. 0. 0. 0. 0. 0. 0. 0. 0. 0. 0. 0. 0. 0. 0. 0. 0. 0. 0. 0.\n",
      " 0. 0. 0. 0. 0. 0. 0. 0. 0. 0. 0. 0. 0. 0. 0. 0. 0. 0. 0. 0. 0. 0. 0. 0.\n",
      " 0. 0. 0. 0. 0. 0. 0. 0. 0. 0. 0. 0. 0. 0. 0. 0. 0. 0. 0. 0. 0. 0. 0. 0.\n",
      " 0. 0. 0. 0. 0. 0. 0. 0. 0. 0. 0. 0. 0. 0. 0. 0. 0. 0. 0. 0. 0. 0. 0. 0.\n",
      " 0. 0. 0. 0. 0. 0. 0. 0. 0. 0. 0. 0. 0. 0. 0. 0. 0. 0. 0. 0. 0. 0. 0. 0.\n",
      " 0. 0. 0. 0. 0. 0. 0. 0. 0. 0. 0. 0. 0. 0. 0. 0. 0. 0. 0. 0. 0. 0. 0. 0.\n",
      " 0. 0. 0. 0. 0. 0. 0. 0. 0. 0. 0. 0. 0. 0. 0. 0. 0. 0. 0. 0. 0. 0. 0. 0.\n",
      " 0. 0. 0. 0. 0. 0. 0. 0. 0. 0. 0. 0. 0. 0. 0. 0. 0. 0. 0. 0. 0. 0. 0. 0.\n",
      " 0. 0. 0. 0. 0. 0. 0. 0. 0. 0. 0. 0. 0. 0. 0. 0. 0. 0. 0. 0. 0. 0. 0. 0.\n",
      " 0. 0. 0. 0. 0. 0. 0. 0. 0. 0. 0. 0. 0. 0. 0. 0. 0. 0. 0. 0. 0. 0. 0. 0.\n",
      " 0. 0. 0. 0. 0. 0. 0. 0. 0. 0. 0. 0. 0. 0. 0. 0. 0. 0. 0. 0. 0. 0. 0. 0.\n",
      " 0. 0. 0. 0. 0. 0. 0. 0. 0. 0. 0. 0. 0. 0. 0. 0. 0. 0. 0. 0. 0. 0. 0. 0.\n",
      " 0. 0. 0. 0. 0. 0. 0. 0. 0. 0. 0. 0. 0. 0. 0. 0. 0. 0. 0. 0. 0. 0. 0. 0.\n",
      " 0. 0. 0. 0. 0. 0. 0. 0. 0. 0. 0. 0. 0. 0. 0. 0. 0. 0. 0. 0. 0. 0. 0. 0.\n",
      " 0. 0. 0. 0. 0. 0. 0. 0. 0. 0. 0. 0. 0. 0. 0. 0. 0. 0. 0. 0. 0. 0. 0. 0.\n",
      " 0. 0. 0. 0. 0. 0. 0. 0. 0. 0. 0. 0. 0. 0. 0. 0. 0. 0. 0. 0. 0. 0. 0. 0.\n",
      " 0. 0. 0. 0. 0. 0. 0. 0. 0. 0. 0. 0. 0. 0. 0. 0. 0. 0. 0. 0. 0. 0. 0. 0.\n",
      " 0. 0. 0. 0. 0. 0. 0. 0. 0. 0. 0. 0. 0. 0. 0. 0. 0. 0. 0. 0. 0. 0. 0. 0.\n",
      " 0. 0. 0. 0. 0. 0. 0. 0. 0. 0. 0. 0. 0. 0. 0. 0. 0. 0. 0. 0. 0. 0. 0. 0.\n",
      " 0. 0. 0. 0. 0. 0. 0. 0. 0. 0. 0. 0. 0. 0. 0. 0. 0. 0. 0. 0. 0. 0. 0. 0.\n",
      " 0. 0. 0. 0. 0. 0. 0. 0. 0. 0. 0. 0. 0. 0. 0. 0. 0. 0. 0. 0. 0. 0. 0. 0.\n",
      " 0. 0. 0. 0. 0. 0. 0. 0. 0. 0. 0. 0. 0. 0. 0. 0. 0. 0. 0. 0. 0. 0. 0. 0.\n",
      " 0. 0. 0. 0. 0. 0. 0. 0. 0. 0. 0. 0. 0. 0. 0. 0. 0. 0. 0. 0. 0. 0. 0. 0.\n",
      " 0. 0. 0. 0. 0. 0. 0. 0. 0. 0. 0. 0. 0. 0. 0. 0.]\n"
     ]
    }
   ],
   "source": [
    "res_knn = app.run(measure_KNN)\n",
    "res_knnloo = app.run(measure_KNNLOO)"
   ]
  },
  {
   "cell_type": "markdown",
   "metadata": {},
   "source": [
    "##### visualize"
   ]
  },
  {
   "cell_type": "code",
   "execution_count": 11,
   "metadata": {},
   "outputs": [
    {
     "data": {
      "image/png": "[encoded data removed]",
      "text/plain": [
       "<Figure size 432x288 with 1 Axes>"
      ]
     },
     "metadata": {
      "needs_background": "light"
     },
     "output_type": "display_data"
    }
   ],
   "source": [
    "PoisoningPlotter(app, ('KNN-Shapley',res_knn), ('KNN-LOO',res_knnloo)).plot()"
   ]
  },
  {
   "cell_type": "markdown",
   "metadata": {},
   "source": [
    "# Instance-based Watermark Removal"
   ]
  },
  {
   "cell_type": "markdown",
   "metadata": {},
   "source": [
    "##### data loading"
   ]
  },
  {
   "cell_type": "code",
   "execution_count": null,
   "metadata": {},
   "outputs": [],
   "source": [
    "# load MNIST"
   ]
  },
  {
   "cell_type": "markdown",
   "metadata": {},
   "source": [
    "###### measure"
   ]
  },
  {
   "cell_type": "code",
   "execution_count": null,
   "metadata": {},
   "outputs": [],
   "source": [
    "measure = KNN_Shapley(K=5)"
   ]
  },
  {
   "cell_type": "markdown",
   "metadata": {},
   "source": [
    "##### application"
   ]
  },
  {
   "cell_type": "code",
   "execution_count": null,
   "metadata": {},
   "outputs": [],
   "source": [
    "app = # instance-based watermark removal"
   ]
  },
  {
   "cell_type": "markdown",
   "metadata": {},
   "source": [
    "##### run"
   ]
  },
  {
   "cell_type": "code",
   "execution_count": null,
   "metadata": {},
   "outputs": [],
   "source": [
    "# run"
   ]
  },
  {
   "cell_type": "markdown",
   "metadata": {},
   "source": [
    "##### visualize"
   ]
  },
  {
   "cell_type": "code",
   "execution_count": null,
   "metadata": {},
   "outputs": [],
   "source": [
    "# TO BE COMPLETED"
   ]
  },
  {
   "cell_type": "markdown",
   "metadata": {},
   "source": [
    "# Data Summarization"
   ]
  },
  {
   "cell_type": "markdown",
   "metadata": {},
   "source": [
    "##### data loading"
   ]
  },
  {
   "cell_type": "code",
   "execution_count": null,
   "metadata": {},
   "outputs": [],
   "source": [
    "# load UCI Adult dataset"
   ]
  },
  {
   "cell_type": "markdown",
   "metadata": {},
   "source": [
    "###### measure"
   ]
  },
  {
   "cell_type": "code",
   "execution_count": null,
   "metadata": {},
   "outputs": [],
   "source": [
    "measure = KNN_Shapley(K=5)"
   ]
  },
  {
   "cell_type": "markdown",
   "metadata": {},
   "source": [
    "##### application"
   ]
  },
  {
   "cell_type": "code",
   "execution_count": null,
   "metadata": {},
   "outputs": [],
   "source": [
    "app = # data summarization"
   ]
  },
  {
   "cell_type": "markdown",
   "metadata": {},
   "source": [
    "##### run"
   ]
  },
  {
   "cell_type": "code",
   "execution_count": null,
   "metadata": {},
   "outputs": [],
   "source": [
    "# run"
   ]
  },
  {
   "cell_type": "markdown",
   "metadata": {},
   "source": [
    "##### visualize"
   ]
  },
  {
   "cell_type": "code",
   "execution_count": null,
   "metadata": {},
   "outputs": [],
   "source": [
    "# TO BE COMPLETED"
   ]
  },
  {
   "cell_type": "markdown",
   "metadata": {},
   "source": [
    "# Data Acquisition"
   ]
  },
  {
   "cell_type": "markdown",
   "metadata": {},
   "source": [
    "##### data loading"
   ]
  },
  {
   "cell_type": "code",
   "execution_count": null,
   "metadata": {},
   "outputs": [],
   "source": [
    "# load MNIST"
   ]
  },
  {
   "cell_type": "markdown",
   "metadata": {},
   "source": [
    "###### measure"
   ]
  },
  {
   "cell_type": "code",
   "execution_count": null,
   "metadata": {},
   "outputs": [],
   "source": [
    "measure = KNN_Shapley(K=5)"
   ]
  },
  {
   "cell_type": "markdown",
   "metadata": {},
   "source": [
    "##### application"
   ]
  },
  {
   "cell_type": "code",
   "execution_count": null,
   "metadata": {},
   "outputs": [],
   "source": [
    "app = # data acquisition"
   ]
  },
  {
   "cell_type": "markdown",
   "metadata": {},
   "source": [
    "##### run"
   ]
  },
  {
   "cell_type": "code",
   "execution_count": null,
   "metadata": {},
   "outputs": [],
   "source": [
    "# run"
   ]
  },
  {
   "cell_type": "markdown",
   "metadata": {},
   "source": [
    "##### visualize"
   ]
  },
  {
   "cell_type": "code",
   "execution_count": null,
   "metadata": {},
   "outputs": [],
   "source": [
    "# TO BE COMPLETED"
   ]
  },
  {
   "cell_type": "markdown",
   "metadata": {},
   "source": [
    "# Domain Adapatation"
   ]
  },
  {
   "cell_type": "markdown",
   "metadata": {},
   "source": [
    "##### data loading"
   ]
  },
  {
   "cell_type": "code",
   "execution_count": null,
   "metadata": {},
   "outputs": [],
   "source": [
    "# load two datasets"
   ]
  },
  {
   "cell_type": "markdown",
   "metadata": {},
   "source": [
    "###### measure"
   ]
  },
  {
   "cell_type": "code",
   "execution_count": null,
   "metadata": {},
   "outputs": [],
   "source": [
    "measure = KNN_Shapley(K=5)"
   ]
  },
  {
   "cell_type": "markdown",
   "metadata": {},
   "source": [
    "##### application"
   ]
  },
  {
   "cell_type": "code",
   "execution_count": null,
   "metadata": {},
   "outputs": [],
   "source": [
    "app = # domain adaptation"
   ]
  },
  {
   "cell_type": "markdown",
   "metadata": {},
   "source": [
    "##### run"
   ]
  },
  {
   "cell_type": "code",
   "execution_count": null,
   "metadata": {},
   "outputs": [],
   "source": [
    "# run"
   ]
  },
  {
   "cell_type": "markdown",
   "metadata": {},
   "source": [
    "##### visualize"
   ]
  },
  {
   "cell_type": "code",
   "execution_count": null,
   "metadata": {},
   "outputs": [],
   "source": [
    "# TO BE COMPLETED"
   ]
  }
 ],
 "metadata": {
  "kernelspec": {
   "display_name": "Python 3",
   "language": "python",
   "name": "python3"
  },
  "language_info": {
   "codemirror_mode": {
    "name": "ipython",
    "version": 3
   },
   "file_extension": ".py",
   "mimetype": "text/x-python",
   "name": "python",
   "nbconvert_exporter": "python",
   "pygments_lexer": "ipython3",
   "version": "3.6.5"
  }
 },
 "nbformat": 4,
 "nbformat_minor": 2
}
