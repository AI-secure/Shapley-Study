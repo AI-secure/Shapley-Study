{
 "cells": [
  {
   "cell_type": "markdown",
   "metadata": {},
   "source": [
    "# Noisy Label Detection"
   ]
  },
  {
   "cell_type": "code",
   "execution_count": 1,
   "metadata": {},
   "outputs": [
    {
     "name": "stderr",
     "output_type": "stream",
     "text": [
      "/home/zidaneandmessi/.local/lib/python3.6/site-packages/tensorflow/python/framework/dtypes.py:516: FutureWarning: Passing (type, 1) or '1type' as a synonym of type is deprecated; in a future version of numpy, it will be understood as (type, (1,)) / '(1,)type'.\n",
      "  _np_qint8 = np.dtype([(\"qint8\", np.int8, 1)])\n",
      "/home/zidaneandmessi/.local/lib/python3.6/site-packages/tensorflow/python/framework/dtypes.py:517: FutureWarning: Passing (type, 1) or '1type' as a synonym of type is deprecated; in a future version of numpy, it will be understood as (type, (1,)) / '(1,)type'.\n",
      "  _np_quint8 = np.dtype([(\"quint8\", np.uint8, 1)])\n",
      "/home/zidaneandmessi/.local/lib/python3.6/site-packages/tensorflow/python/framework/dtypes.py:518: FutureWarning: Passing (type, 1) or '1type' as a synonym of type is deprecated; in a future version of numpy, it will be understood as (type, (1,)) / '(1,)type'.\n",
      "  _np_qint16 = np.dtype([(\"qint16\", np.int16, 1)])\n",
      "/home/zidaneandmessi/.local/lib/python3.6/site-packages/tensorflow/python/framework/dtypes.py:519: FutureWarning: Passing (type, 1) or '1type' as a synonym of type is deprecated; in a future version of numpy, it will be understood as (type, (1,)) / '(1,)type'.\n",
      "  _np_quint16 = np.dtype([(\"quint16\", np.uint16, 1)])\n",
      "/home/zidaneandmessi/.local/lib/python3.6/site-packages/tensorflow/python/framework/dtypes.py:520: FutureWarning: Passing (type, 1) or '1type' as a synonym of type is deprecated; in a future version of numpy, it will be understood as (type, (1,)) / '(1,)type'.\n",
      "  _np_qint32 = np.dtype([(\"qint32\", np.int32, 1)])\n",
      "/home/zidaneandmessi/.local/lib/python3.6/site-packages/tensorflow/python/framework/dtypes.py:525: FutureWarning: Passing (type, 1) or '1type' as a synonym of type is deprecated; in a future version of numpy, it will be understood as (type, (1,)) / '(1,)type'.\n",
      "  np_resource = np.dtype([(\"resource\", np.ubyte, 1)])\n",
      "/home/zidaneandmessi/.local/lib/python3.6/site-packages/tensorboard/compat/tensorflow_stub/dtypes.py:541: FutureWarning: Passing (type, 1) or '1type' as a synonym of type is deprecated; in a future version of numpy, it will be understood as (type, (1,)) / '(1,)type'.\n",
      "  _np_qint8 = np.dtype([(\"qint8\", np.int8, 1)])\n",
      "/home/zidaneandmessi/.local/lib/python3.6/site-packages/tensorboard/compat/tensorflow_stub/dtypes.py:542: FutureWarning: Passing (type, 1) or '1type' as a synonym of type is deprecated; in a future version of numpy, it will be understood as (type, (1,)) / '(1,)type'.\n",
      "  _np_quint8 = np.dtype([(\"quint8\", np.uint8, 1)])\n",
      "/home/zidaneandmessi/.local/lib/python3.6/site-packages/tensorboard/compat/tensorflow_stub/dtypes.py:543: FutureWarning: Passing (type, 1) or '1type' as a synonym of type is deprecated; in a future version of numpy, it will be understood as (type, (1,)) / '(1,)type'.\n",
      "  _np_qint16 = np.dtype([(\"qint16\", np.int16, 1)])\n",
      "/home/zidaneandmessi/.local/lib/python3.6/site-packages/tensorboard/compat/tensorflow_stub/dtypes.py:544: FutureWarning: Passing (type, 1) or '1type' as a synonym of type is deprecated; in a future version of numpy, it will be understood as (type, (1,)) / '(1,)type'.\n",
      "  _np_quint16 = np.dtype([(\"quint16\", np.uint16, 1)])\n",
      "/home/zidaneandmessi/.local/lib/python3.6/site-packages/tensorboard/compat/tensorflow_stub/dtypes.py:545: FutureWarning: Passing (type, 1) or '1type' as a synonym of type is deprecated; in a future version of numpy, it will be understood as (type, (1,)) / '(1,)type'.\n",
      "  _np_qint32 = np.dtype([(\"qint32\", np.int32, 1)])\n",
      "/home/zidaneandmessi/.local/lib/python3.6/site-packages/tensorboard/compat/tensorflow_stub/dtypes.py:550: FutureWarning: Passing (type, 1) or '1type' as a synonym of type is deprecated; in a future version of numpy, it will be understood as (type, (1,)) / '(1,)type'.\n",
      "  np_resource = np.dtype([(\"resource\", np.ubyte, 1)])\n",
      "In /home/zidaneandmessi/.local/lib/python3.6/site-packages/matplotlib/mpl-data/stylelib/_classic_test.mplstyle: \n",
      "The text.latex.preview rcparam was deprecated in Matplotlib 3.3 and will be removed two minor releases later.\n",
      "In /home/zidaneandmessi/.local/lib/python3.6/site-packages/matplotlib/mpl-data/stylelib/_classic_test.mplstyle: \n",
      "The mathtext.fallback_to_cm rcparam was deprecated in Matplotlib 3.3 and will be removed two minor releases later.\n",
      "In /home/zidaneandmessi/.local/lib/python3.6/site-packages/matplotlib/mpl-data/stylelib/_classic_test.mplstyle: Support for setting the 'mathtext.fallback_to_cm' rcParam is deprecated since 3.3 and will be removed two minor releases later; use 'mathtext.fallback : 'cm' instead.\n",
      "In /home/zidaneandmessi/.local/lib/python3.6/site-packages/matplotlib/mpl-data/stylelib/_classic_test.mplstyle: \n",
      "The validate_bool_maybe_none function was deprecated in Matplotlib 3.3 and will be removed two minor releases later.\n",
      "In /home/zidaneandmessi/.local/lib/python3.6/site-packages/matplotlib/mpl-data/stylelib/_classic_test.mplstyle: \n",
      "The savefig.jpeg_quality rcparam was deprecated in Matplotlib 3.3 and will be removed two minor releases later.\n",
      "In /home/zidaneandmessi/.local/lib/python3.6/site-packages/matplotlib/mpl-data/stylelib/_classic_test.mplstyle: \n",
      "The keymap.all_axes rcparam was deprecated in Matplotlib 3.3 and will be removed two minor releases later.\n",
      "In /home/zidaneandmessi/.local/lib/python3.6/site-packages/matplotlib/mpl-data/stylelib/_classic_test.mplstyle: \n",
      "The animation.avconv_path rcparam was deprecated in Matplotlib 3.3 and will be removed two minor releases later.\n",
      "In /home/zidaneandmessi/.local/lib/python3.6/site-packages/matplotlib/mpl-data/stylelib/_classic_test.mplstyle: \n",
      "The animation.avconv_args rcparam was deprecated in Matplotlib 3.3 and will be removed two minor releases later.\n"
     ]
    }
   ],
   "source": [
    "#!/usr/bin/python\n",
    "from __future__ import absolute_import\n",
    "\n",
    "import numpy as np\n",
    "from tensorflow import keras\n",
    "import pickle\n",
    "import argparse\n",
    "import copy\n",
    "import random\n",
    "\n",
    "from shapley.apps import Label, Poisoning\n",
    "from shapley.loader import FashionMnist, MNIST\n",
    "from shapley.measures import KNN_Shapley, KNN_LOO, G_Shapley, LOO, TMC_Shapley\n",
    "from shapley.utils.plotter import LabelPlotter, PoisoningPlotter\n",
    "\n",
    "%matplotlib inline"
   ]
  },
  {
   "cell_type": "markdown",
   "metadata": {},
   "source": [
    "##### data loading"
   ]
  },
  {
   "cell_type": "code",
   "execution_count": 2,
   "metadata": {},
   "outputs": [],
   "source": [
    "num = 1000\n",
    "#loader = MNIST(num_train=num, one_hot=False, shuffle=True, by_label=True)\n",
    "loader = FashionMnist(num_train=num)\n",
    "X_data, y_data, X_test_data, y_test_data = loader.prepare_data()"
   ]
  },
  {
   "cell_type": "markdown",
   "metadata": {},
   "source": [
    "###### measure"
   ]
  },
  {
   "cell_type": "code",
   "execution_count": 3,
   "metadata": {},
   "outputs": [],
   "source": [
    "measure_KNN = KNN_Shapley(K=5)\n",
    "measure_KNNLOO = KNN_LOO(K=5)\n",
    "# measure = G_Shapley()\n",
    "# measure = TMC_Shapley()\n",
    "# measure = LOO()"
   ]
  },
  {
   "cell_type": "markdown",
   "metadata": {},
   "source": [
    "##### application"
   ]
  },
  {
   "cell_type": "code",
   "execution_count": 4,
   "metadata": {},
   "outputs": [],
   "source": [
    "app = Label(X_data, y_data, X_test_data, y_test_data, model_family='NN')"
   ]
  },
  {
   "cell_type": "markdown",
   "metadata": {},
   "source": [
    "##### run"
   ]
  },
  {
   "cell_type": "code",
   "execution_count": null,
   "metadata": {
    "scrolled": false
   },
   "outputs": [
    {
     "name": "stdout",
     "output_type": "stream",
     "text": [
      "done!\n",
      "result shown below:\n",
      "[ 8.60734147e-04 -5.79108828e-05  2.15681489e-03  2.67265484e-03\n",
      "  7.03794200e-04  8.70775481e-04  9.47779086e-04  7.14860328e-04\n",
      "  7.81089740e-04  1.33701227e-03  9.15931702e-04  9.92651015e-04\n",
      " -2.53988069e-04  1.70295834e-04  6.52692355e-04  3.81503812e-04\n",
      "  1.76740120e-03  1.66151264e-03  4.37112306e-04  9.30548961e-04\n",
      "  1.05040909e-03  9.89538892e-04  9.63497059e-04  9.01085275e-04\n",
      "  9.72782226e-04  1.24672884e-03  1.41182795e-03  1.13217644e-03\n",
      "  9.82147979e-04 -6.87114429e-04  9.91828578e-04  9.14968124e-04\n",
      "  9.84957727e-04  8.28768544e-04  1.97453305e-03  1.31430784e-03\n",
      "  1.61432589e-03 -8.02455583e-04  1.07930850e-03  7.89517677e-04\n",
      "  5.84573732e-04  1.70033593e-03  8.00805749e-04  8.75307147e-04\n",
      "  1.13234849e-03  7.48626376e-04  1.10150593e-03  1.29636133e-03\n",
      "  1.87529977e-03  1.37131321e-03  1.21718608e-03  1.63807981e-03\n",
      "  1.34076703e-03  1.53712941e-03 -2.44226291e-03  1.19576201e-03\n",
      "  8.03735201e-04  3.79632705e-04  1.68570069e-03  1.64706549e-03\n",
      "  1.54746676e-03  7.96554503e-04  1.19818585e-03  1.33029324e-03\n",
      "  1.04494052e-03  2.26889132e-03  9.59380622e-04  4.10750699e-04\n",
      "  1.29401231e-03  9.86044944e-04  8.23622151e-04  1.13614825e-03\n",
      "  1.67873430e-03  8.14005065e-04  9.60523878e-04 -5.51994898e-04\n",
      "  1.78636211e-04  1.26236945e-03  1.25530796e-03  1.01356985e-03\n",
      " -8.89531718e-04  5.91575569e-04  7.08220264e-04  5.54809674e-04\n",
      "  2.82373519e-04  9.90987573e-04  7.48246034e-04  8.06803123e-05\n",
      "  5.64584659e-04  1.31654458e-04  7.73468900e-04  1.10117297e-03\n",
      " -6.54503787e-03  3.25256681e-04  7.84961888e-04  1.40253084e-03\n",
      "  1.26558308e-03  1.01016968e-03  1.47327583e-03  1.22698215e-03\n",
      "  6.47767159e-04  7.12384248e-04  3.22101786e-04  9.83947346e-04\n",
      "  1.55464668e-03  7.42796572e-04  1.30894164e-03  5.76736464e-04\n",
      "  6.87780246e-04  1.59005928e-03  1.16180554e-03  1.17416890e-03\n",
      "  1.19016551e-03  1.45432768e-03  1.23295778e-03  2.23236806e-03\n",
      "  7.94422830e-04  1.66300578e-03  1.17495997e-03 -2.65949374e-04\n",
      "  9.79415801e-04  1.57399369e-03  8.89144824e-04  4.26098286e-04\n",
      "  8.01313532e-04  1.05936527e-03  1.09761557e-03  9.25181432e-04\n",
      "  1.04125510e-03  8.52680309e-04  1.30783847e-03  8.56665107e-04\n",
      "  1.25751744e-03  1.20493295e-03  1.13919892e-03  1.51176839e-03\n",
      "  9.44538382e-04  9.49342029e-04  3.67600990e-04  1.84660855e-03\n",
      "  9.10377437e-04  1.04764960e-03  7.48991114e-04  7.32810794e-04\n",
      "  7.90352092e-05  9.82810235e-04  1.14987136e-03  7.09873995e-04\n",
      "  7.98249899e-04  1.42436464e-03  9.00748819e-04  2.06257956e-03\n",
      "  5.52091880e-04  2.12184422e-03  1.09899993e-03  9.47343982e-05\n",
      " -2.55870201e-03  2.05046998e-03  1.29838629e-03  2.44122848e-03\n",
      "  8.81596593e-04  5.83985014e-04  1.04613422e-03  1.09480940e-03\n",
      "  1.08155301e-03  1.25877026e-03  2.83021181e-04  5.75850622e-04\n",
      "  9.46815512e-04  7.38176965e-04  1.01045905e-03  1.80592132e-03\n",
      "  3.65726786e-03  9.26848480e-04  9.61778168e-04  1.02636418e-03\n",
      "  1.00067108e-03  9.24713700e-04 -2.75117622e-03  1.30249562e-03\n",
      "  1.15274581e-03  1.14477903e-03  1.34204187e-04 -2.54778698e-03\n",
      " -1.78929559e-04  8.36531397e-04  7.52396718e-04  8.58528986e-04\n",
      "  1.89748858e-04  1.14418283e-03  1.36644583e-03  1.06966336e-03\n",
      "  1.02337918e-03  1.23793613e-03 -2.51437493e-04  8.50312146e-04\n",
      "  1.06511469e-03  9.11105711e-05  1.29743230e-03  7.77947232e-04\n",
      "  6.70677211e-04  1.02159779e-04  1.13261362e-03  3.75981731e-03\n",
      "  1.13415425e-03  6.78546844e-04 -4.14044222e-05  7.57679705e-04\n",
      "  6.08601117e-04  1.04729319e-03  1.02401068e-03  1.00233514e-03\n",
      "  1.27767219e-03  1.33156716e-03  6.93599647e-04  7.37004581e-04\n",
      " -1.23512166e-03  1.92146343e-03 -2.50813291e-04  1.00531737e-03\n",
      " -2.99457483e-05  8.19303290e-04  1.63658990e-03  1.09508251e-03\n",
      "  2.49746635e-03  1.17387379e-03  2.59486465e-04  8.90373742e-04\n",
      "  1.24877560e-03  1.91153198e-03  1.01485719e-03  8.98657962e-04\n",
      "  1.56848310e-03  7.85619110e-04 -2.80388338e-03  3.08099411e-04\n",
      "  5.36925666e-04 -6.20310531e-04  1.05640096e-03  9.22438803e-04\n",
      "  5.79034245e-04  6.51477150e-04  4.16233323e-04  1.61683424e-03\n",
      "  1.30618737e-03  8.66555957e-04  1.67583787e-03  1.06779559e-03\n",
      "  1.02578478e-03  1.23388221e-03  7.91588720e-04  1.04157928e-03\n",
      " -2.16436659e-03  3.92659291e-04  9.65986955e-04 -2.16903879e-03\n",
      "  7.20357087e-04  3.58031483e-04  7.10730356e-04 -1.01154202e-04\n",
      "  1.95535698e-03  1.21328440e-03 -3.74507030e-04  6.00423826e-04\n",
      "  1.77111472e-03  6.01829254e-04  1.19351613e-03  1.53507090e-03\n",
      "  8.04019571e-04  1.92405191e-03 -5.66003219e-04  1.18522421e-03\n",
      "  9.95110520e-04  1.08081533e-03  1.12018578e-03  1.00830104e-03\n",
      "  1.37155320e-03  1.07776226e-03 -6.83315735e-04  1.01164030e-03\n",
      "  1.53789867e-03  3.45068150e-04  1.18467866e-03  9.51596670e-04\n",
      " -3.60282534e-03  9.64350909e-04  7.44563055e-04  4.68807143e-04\n",
      "  9.05843817e-04  9.42423582e-04  1.23788257e-03  1.47299434e-03\n",
      " -5.28235887e-04  1.04789581e-03  1.07767758e-03  9.02988293e-04\n",
      "  4.75975165e-04 -7.52613722e-05  1.03116143e-03  7.07990908e-04\n",
      " -4.93153721e-04  1.96872802e-03  8.55710723e-04  1.27505936e-03\n",
      " -6.10274514e-04  7.13536650e-04 -1.91225518e-03  4.59835036e-04\n",
      "  2.01063728e-04  8.03030183e-04  6.91518960e-04  1.20955180e-03\n",
      "  1.26784594e-03  8.10692256e-04  8.92769304e-04 -1.11549504e-03\n",
      "  9.79600024e-04 -1.63458564e-03  1.12208441e-03  1.42351855e-03\n",
      "  1.24335992e-03 -6.59996629e-04 -2.12458161e-03  5.56697626e-05\n",
      " -2.37617747e-03  1.29779527e-03  1.04888529e-03  5.93662999e-04\n",
      " -6.40285713e-05  2.39590990e-03  2.30847437e-04  1.47268311e-03\n",
      " -7.88250585e-04  2.07073461e-04  9.59812240e-04  2.21042523e-03\n",
      "  1.18530487e-03  8.00079771e-04  1.00022919e-03  1.11109224e-04\n",
      "  7.38937013e-04  1.57648877e-03  1.04381853e-03  8.32286889e-04\n",
      "  1.59430483e-03  7.58454948e-04  4.11958700e-04  1.05812117e-03\n",
      "  1.22132927e-03  9.61477306e-04  1.58143903e-03  1.21842244e-03\n",
      " -6.91858831e-04  2.32151401e-03  9.51022147e-04 -1.99154557e-03\n",
      "  8.02229242e-04  4.78635403e-04  1.46960290e-03  6.79938371e-04\n",
      "  1.64318556e-03 -3.16457960e-04  3.89126635e-04  7.15345322e-04\n",
      " -4.98868878e-04  1.04513664e-03  9.68391973e-04  8.11450355e-04\n",
      " -3.73599273e-04  9.68230771e-04 -6.29913044e-04  5.83612373e-03\n",
      "  1.83136664e-03  1.67357347e-03  1.16277265e-03  9.64227283e-04\n",
      "  1.65470226e-04  1.91546802e-03  1.15795798e-03  1.00713235e-03\n",
      "  8.30841792e-04 -5.26172831e-03  2.75129673e-04  1.12509576e-03\n",
      "  2.77175476e-03  8.49617309e-04  1.14571338e-03  7.97936201e-04\n",
      "  1.25558679e-03  8.77833876e-04  1.28664779e-03  1.11149831e-03\n",
      "  4.27117726e-05  1.21490004e-03  5.80432969e-04  1.05728502e-03\n",
      "  7.41859812e-04 -7.14294293e-05  1.24822981e-03 -2.17475630e-03\n",
      "  1.53423892e-03  1.12858536e-03  9.63984292e-04  9.02649937e-04\n",
      "  1.43148773e-04  1.98023888e-03  7.98571646e-04  1.16081151e-03\n",
      "  1.10633084e-03  9.95692789e-04 -2.63697348e-03  1.04331326e-03\n",
      "  6.39861764e-04  1.09781197e-03  1.10144744e-03  6.23704233e-04\n",
      "  1.23085599e-03  8.88109488e-04  3.06142269e-04  1.19758017e-03\n",
      "  6.97547244e-04  1.03959233e-03  1.13412853e-03  7.24874660e-04\n",
      "  8.17629859e-04  1.17372522e-03  1.86292285e-03  9.57063221e-04\n",
      "  4.66446556e-04  1.96445179e-04  1.20992045e-03  1.33454205e-03\n",
      "  1.73309393e-03  8.39429148e-05 -6.77334418e-05 -2.00632146e-05\n",
      "  1.05145924e-03  1.25841822e-03  7.01363660e-04  1.01251958e-03\n",
      " -1.56308707e-04  1.06896873e-03  1.01600011e-03  1.17624708e-03\n",
      "  1.24550826e-03  6.97653919e-04  7.58731222e-04  1.58818541e-03\n",
      "  7.89507751e-04  2.36463189e-04  4.39693002e-04  5.65886536e-04\n",
      "  1.26671761e-03  2.43699557e-04  9.95282683e-04  8.56020301e-04\n",
      "  1.00802744e-03  1.16338349e-03  1.67144829e-03  8.42136867e-04\n",
      "  1.08437507e-03  8.59176450e-04  8.33267037e-04  6.78003500e-04\n",
      "  7.43972551e-04  1.14961590e-03  1.51854039e-03  1.07806728e-03\n",
      "  1.06255454e-03  4.95994724e-04  1.31966559e-03  1.40420617e-03\n",
      "  1.10092433e-03  1.79749648e-04  5.59182760e-04  6.99835992e-04\n",
      "  1.48846692e-03  8.21834710e-04  1.11136581e-04 -6.07882111e-04\n",
      "  1.86005506e-03  2.64269912e-04  8.58159619e-04  1.09066217e-03\n",
      "  4.89110391e-04  1.07026223e-03  9.29301764e-04 -5.31344864e-04\n",
      " -2.71975965e-03  1.58218299e-03  1.57594417e-03  1.03133175e-03\n",
      "  1.73582950e-03  1.92202845e-03  7.15172975e-04  1.18363717e-03\n",
      "  6.79054037e-04  1.21146485e-03  1.16325250e-03  6.66711802e-04\n",
      "  3.50169528e-05  2.52733675e-04  9.79596813e-04  1.12772380e-03\n",
      "  9.78065053e-04  1.00379187e-03 -2.15827028e-04 -1.44474318e-04\n",
      "  9.31516960e-04  8.84269261e-04  1.06709611e-03  9.72813734e-04\n",
      "  3.39676173e-04  6.19606479e-04  1.91494420e-03  1.75545086e-04\n",
      "  1.01685245e-03  1.15212762e-03  5.57996746e-04  9.76192599e-04\n",
      "  7.21950315e-04 -4.78908030e-04  1.08372473e-03  2.71938849e-04\n",
      "  3.31876766e-04  8.03850892e-04  1.15428687e-03  2.29696646e-03\n",
      "  1.06826558e-03  7.51607382e-04  1.95859165e-03  5.82119044e-04\n",
      "  1.35759076e-03  7.56285775e-04  7.21177487e-04 -3.10063287e-04\n",
      "  1.03716281e-03  8.79433734e-04  2.08312705e-03  8.49467540e-04\n",
      "  1.26505271e-03  2.02393791e-04  9.13968619e-04  1.12623106e-03\n",
      "  5.82216305e-04 -2.93803085e-04  8.04822159e-04  1.68567080e-03\n",
      "  1.08774788e-04  8.16222748e-04  6.13710666e-04  1.01356184e-03\n",
      "  1.39489878e-03  9.44727808e-04 -2.61191614e-03  9.59285815e-04\n",
      "  1.14597578e-03  1.49153537e-03  6.20957298e-04  1.76587503e-04\n",
      "  9.52510974e-05 -8.29700150e-04  1.48037127e-03 -1.65615558e-04\n",
      "  8.81165730e-04  3.54468317e-04 -1.70772693e-04  6.69711750e-04\n",
      " -3.29328136e-04  1.24409918e-03  1.23189615e-03  1.03659226e-03\n",
      " -6.54269764e-05  5.46326526e-04  1.22787788e-03  4.95452990e-04\n",
      "  9.10478032e-04  3.06193772e-04  5.41395862e-04  9.69462127e-04\n",
      "  8.53102163e-04  9.68416089e-04  6.92234842e-04  9.01469063e-04\n",
      "  1.12135628e-03  7.46889199e-04 -6.50671445e-04  1.33812222e-03\n",
      "  9.75302695e-04  7.33683507e-04  1.30963629e-03  6.15130839e-04\n",
      "  1.10911002e-03 -7.64287181e-04  7.00734154e-04  9.09041514e-04\n",
      "  1.06336742e-03  6.55046609e-04  1.35998598e-03  5.26923429e-04\n",
      "  1.16127926e-03  1.02644639e-03  3.44199107e-04  1.16972273e-03\n",
      "  9.18874673e-04  1.02531857e-03  9.90149878e-04  2.23141936e-03\n",
      " -1.21947780e-03  6.43862540e-04  2.33421652e-04  9.48130569e-04\n",
      " -1.62884976e-03  7.82218069e-04  1.91123509e-04  7.21287035e-04\n",
      "  5.70769765e-04  6.06988745e-04  9.41144459e-04  2.21876537e-03\n",
      "  8.93490074e-04 -4.09810451e-04  8.24675507e-05  1.15045741e-03\n",
      "  4.19234367e-04  1.69725812e-03  8.48922021e-04 -1.64659009e-04\n",
      "  9.55993048e-04  1.08207425e-03 -6.41287395e-04  6.48020680e-04\n",
      " -2.20275786e-04 -1.54628956e-03  2.10891140e-03  8.16941555e-04\n",
      "  1.19086325e-03  7.91224015e-04  5.94259114e-05  1.17801408e-03\n",
      "  5.90254345e-04  9.55324896e-04  4.36805594e-04  7.94553047e-04\n",
      "  9.73099251e-04  3.63929328e-04  7.81199061e-04  1.42435288e-03\n",
      "  1.15128500e-03  1.60064497e-04  1.00594064e-03  1.14104423e-03\n",
      "  1.34020053e-03  1.00747348e-03  8.54694652e-04  1.30132762e-03\n",
      "  1.13195566e-03  6.70011638e-04  1.20644759e-03 -2.67056283e-04\n",
      "  4.81406765e-06  2.36518641e-03  4.72669523e-04  1.76690622e-04\n",
      "  5.01239459e-04  3.51346820e-04  7.26704373e-04  1.11386873e-03\n",
      "  1.27019846e-03  2.10825040e-03  9.13339670e-04  1.04311697e-03\n",
      "  1.07306063e-03  1.86045041e-03  1.01068540e-03  8.45853561e-04\n",
      "  1.27711239e-03  8.03913829e-04  9.63265779e-04  9.73641990e-04\n",
      "  1.09378756e-03  9.49312078e-04  1.06050241e-03  8.12079452e-04\n",
      "  1.13572738e-03  7.82699567e-04  1.24082125e-03  7.52578316e-04\n",
      "  9.01190135e-04  1.11676756e-03 -3.08345698e-03  1.17347017e-03\n",
      "  1.17059993e-03 -5.45344512e-04  1.15182034e-03  5.82189097e-04\n",
      "  9.50759670e-04 -3.47032633e-04  1.33720159e-03  1.14690300e-03\n",
      "  4.16587183e-03  1.55158225e-03  1.01024159e-03  8.70894023e-04\n",
      " -5.18392657e-04  1.15664977e-03  1.61728761e-03  9.46703185e-04\n",
      "  1.05025819e-03  1.38601644e-03  1.01534568e-03  7.36134906e-04\n",
      "  9.52562332e-04  1.03776801e-03 -3.19516168e-03 -4.59860331e-04\n",
      "  1.94373112e-03  1.17528642e-03  4.96682214e-04  1.08639140e-03\n",
      "  6.10644264e-04  1.27195523e-03  1.96341921e-03 -2.33364681e-03\n",
      "  9.61813977e-04  1.10332465e-03  4.28936638e-04  1.33324164e-03\n",
      "  9.61852070e-04  6.71598582e-04 -3.59228589e-03 -1.50621764e-03\n",
      "  9.72883422e-04  9.70137750e-04  7.42996594e-04 -7.31769322e-04\n",
      " -2.14127498e-03  1.04344771e-03  8.20156350e-04  1.02520422e-03\n",
      " -8.90760270e-05  1.18185272e-03  1.03977012e-03  1.33687497e-03\n",
      "  1.03743275e-03 -1.64318330e-03  9.10202256e-04 -4.49231396e-04\n",
      " -2.84723205e-03  1.42177548e-03  1.28364380e-03  1.20607829e-03\n",
      " -5.95774465e-04  1.29028385e-03  1.23647970e-03  1.23468609e-03\n",
      "  9.98069898e-04  1.36523337e-03  1.64520111e-03  6.25191492e-04\n",
      "  1.09319248e-03  1.14234886e-03  1.39763520e-03 -1.16004165e-03\n",
      "  6.89695018e-04  8.02125750e-04  2.19849320e-03  1.05571692e-03\n",
      "  7.24833397e-05  5.30363036e-04  1.63147639e-03  1.03914323e-03\n",
      " -6.95421979e-04  6.95468806e-04  1.34122206e-03  9.67006323e-04\n",
      "  1.41956649e-03  1.65680211e-03 -9.24587910e-04 -3.57864079e-03\n",
      "  3.66648195e-04  7.43964793e-04  9.22180286e-04  1.00454136e-03\n",
      " -9.48287546e-04  7.86579599e-04  2.47461816e-04 -1.09484208e-05\n",
      "  8.96645351e-04 -1.88735123e-04  8.78453840e-04  1.60434663e-03\n",
      "  1.49983774e-03  5.50086921e-04  7.95872834e-04  2.50891038e-03\n",
      "  1.16080822e-03  7.15546945e-04  1.17255544e-03  1.15082342e-04\n",
      "  1.08689386e-03  6.66215405e-05  7.64665984e-04  6.66890981e-04\n",
      "  5.24850322e-04  9.25541637e-04  1.04700928e-03  8.30854493e-04\n",
      "  1.04719645e-03  9.96562980e-04  9.48336521e-04  1.09595247e-03\n",
      "  8.84047872e-04  2.77965930e-05  6.40212843e-04  7.63326814e-04\n",
      "  4.33532151e-04  8.58148318e-04  9.49441283e-04  1.26284956e-03\n",
      "  1.01947292e-03  7.10284162e-04  1.08085755e-03  1.02301307e-03\n",
      "  4.39573957e-04  1.11545628e-03  1.41147357e-03  1.25324210e-03\n",
      "  1.35288635e-03  1.19550877e-03  1.55172293e-03  1.06353702e-03\n",
      "  1.90550525e-03  1.84091214e-03  1.01727968e-03  7.86795654e-04\n",
      "  4.69186431e-04  6.26465727e-04  6.04738649e-04  8.58679382e-04\n",
      "  1.27557715e-03 -1.84425920e-03  5.40697740e-04  5.86089540e-04\n",
      "  1.03591217e-03  7.38960175e-04  1.76741625e-04  9.95516979e-04\n",
      "  1.01590756e-03  1.80591770e-03  9.11272141e-04  1.01259122e-03\n",
      "  1.39135727e-03  1.51747972e-03 -6.43239339e-04  1.04559719e-03\n",
      "  6.99802547e-04  1.01294026e-03  7.59275947e-04  1.06215228e-03\n",
      "  1.21671878e-03  8.33441625e-04  1.13053238e-03  9.37944965e-04\n",
      "  1.61700319e-03  9.99015185e-04  5.55859958e-04  5.37102145e-04\n",
      "  9.68609293e-04  9.18250459e-04  8.94753434e-04 -2.39294897e-04\n",
      "  5.55222564e-04  1.59198221e-04  7.82909417e-04  7.21892459e-04\n",
      "  9.58468613e-04  1.21278902e-03  7.33830853e-04  8.26316735e-04\n",
      "  1.03785441e-03  4.15654668e-04  5.68336201e-04  7.55810273e-04\n",
      "  9.02784083e-04  9.24089145e-04 -5.91419061e-04  5.89352809e-04\n",
      "  9.65497972e-04  3.54675061e-04  1.03612292e-03  1.11129414e-03\n",
      "  1.13286313e-03  5.59104689e-04  1.21251812e-03  1.01576045e-03\n",
      "  8.38036306e-04  7.14794903e-04  1.09555355e-03  6.74237209e-04\n",
      "  6.45178464e-04  8.23443514e-04  1.46400987e-03  8.05268056e-04\n",
      "  1.40582999e-03  6.76698576e-04 -1.86521865e-04 -3.36156258e-04\n",
      "  7.05798331e-04  1.43273439e-03  9.14777413e-04  6.47491820e-04\n",
      "  9.70959921e-04  4.87843823e-04  1.41812517e-05  6.72231964e-05\n",
      "  1.42152730e-03  1.18952240e-03  2.04201610e-04  1.31042575e-03\n",
      "  9.77646474e-04  7.66481161e-04  2.24270071e-03 -4.89221475e-03\n",
      "  9.02189858e-04  1.02031386e-03  1.15688988e-03  1.09538604e-03\n",
      "  8.06748648e-04 -7.47108247e-04 -3.76432221e-03  7.44247038e-04\n",
      "  9.70639286e-04  1.06993083e-03  6.46712745e-04  9.19164952e-04\n",
      "  1.74546493e-03  2.22003869e-03  8.02002782e-04  8.03645482e-04\n",
      "  1.22222728e-03  9.10054728e-04  9.79994882e-04  1.16604791e-03\n",
      "  1.03850639e-03  1.24436103e-03  1.08109387e-03  1.13137999e-03\n",
      "  1.15270033e-03  3.17722904e-04 -3.94760811e-04 -1.12399790e-05\n",
      "  1.08436918e-03 -1.72999461e-03  1.28069050e-03  6.21189351e-04\n",
      "  7.65397049e-04  4.36680419e-04  3.80410328e-04 -2.31779113e-03\n",
      "  1.39967882e-03  9.38945467e-04  1.64435034e-03  9.99664070e-04\n",
      "  1.64351213e-03  8.08338808e-04  8.41212298e-04  8.47907825e-04\n",
      " -2.15218277e-04  7.66302068e-04  2.29868741e-03  7.78719186e-04\n",
      "  3.82520322e-04  1.45094121e-03  6.30526174e-04  1.05498645e-03\n",
      "  1.18896991e-03  1.47944009e-03  1.43860554e-03  8.99108544e-04\n",
      "  9.90979284e-04  1.00631286e-03  1.19395584e-03  4.00292777e-04\n",
      "  9.96589575e-04  1.00911468e-03  1.06118371e-03  5.82210193e-04\n",
      "  6.67617985e-04  1.01914444e-03  9.53256328e-04  9.25169117e-04\n",
      "  8.82479106e-04  1.31574449e-03  9.76743965e-04  1.52771519e-03\n",
      "  1.55468369e-03  1.64486742e-03  5.26473107e-04  7.68197682e-04]\n"
     ]
    }
   ],
   "source": [
    "res_knn = app.run(measure_KNN)\n",
    "res_knnloo = app.run(measure_KNNLOO)"
   ]
  },
  {
   "cell_type": "markdown",
   "metadata": {},
   "source": [
    "##### visualize"
   ]
  },
  {
   "cell_type": "code",
   "execution_count": null,
   "metadata": {},
   "outputs": [],
   "source": [
    "LabelPlotter(app, ('KNN-Shapley',res_knn), ('KNN-LOO',res_knnloo)).plot()"
   ]
  },
  {
   "cell_type": "markdown",
   "metadata": {},
   "source": [
    "# Pattern-based Watermark Removal"
   ]
  },
  {
   "cell_type": "markdown",
   "metadata": {},
   "source": [
    "##### data loading"
   ]
  },
  {
   "cell_type": "code",
   "execution_count": null,
   "metadata": {},
   "outputs": [],
   "source": [
    "num = 1000\n",
    "loader = FashionMnist(num_train=num)\n",
    "X_data, y_data, X_test_data, y_test_data = loader.prepare_data()"
   ]
  },
  {
   "cell_type": "markdown",
   "metadata": {},
   "source": [
    "###### measure"
   ]
  },
  {
   "cell_type": "code",
   "execution_count": null,
   "metadata": {},
   "outputs": [],
   "source": [
    "measure_KNN = KNN_Shapley(K=5)\n",
    "measure_KNNLOO = KNN_LOO(K=5)"
   ]
  },
  {
   "cell_type": "markdown",
   "metadata": {},
   "source": [
    "##### application"
   ]
  },
  {
   "cell_type": "code",
   "execution_count": null,
   "metadata": {},
   "outputs": [],
   "source": [
    "app = Poisoning(X_data, y_data, X_test_data, y_test_data, model_family='logistic')"
   ]
  },
  {
   "cell_type": "markdown",
   "metadata": {},
   "source": [
    "##### run"
   ]
  },
  {
   "cell_type": "code",
   "execution_count": null,
   "metadata": {},
   "outputs": [],
   "source": [
    "res_knn = app.run(measure_KNN)\n",
    "res_knnloo = app.run(measure_KNNLOO)"
   ]
  },
  {
   "cell_type": "markdown",
   "metadata": {},
   "source": [
    "##### visualize"
   ]
  },
  {
   "cell_type": "code",
   "execution_count": null,
   "metadata": {},
   "outputs": [],
   "source": [
    "PoisoningPlotter(app, ('KNN-Shapley',res_knn), ('KNN-LOO',res_knnloo)).plot()"
   ]
  },
  {
   "cell_type": "markdown",
   "metadata": {},
   "source": [
    "# Instance-based Watermark Removal"
   ]
  },
  {
   "cell_type": "markdown",
   "metadata": {},
   "source": [
    "##### data loading"
   ]
  },
  {
   "cell_type": "code",
   "execution_count": null,
   "metadata": {},
   "outputs": [],
   "source": [
    "# load MNIST"
   ]
  },
  {
   "cell_type": "markdown",
   "metadata": {},
   "source": [
    "###### measure"
   ]
  },
  {
   "cell_type": "code",
   "execution_count": null,
   "metadata": {},
   "outputs": [],
   "source": [
    "measure = KNN_Shapley(K=5)"
   ]
  },
  {
   "cell_type": "markdown",
   "metadata": {},
   "source": [
    "##### application"
   ]
  },
  {
   "cell_type": "code",
   "execution_count": null,
   "metadata": {},
   "outputs": [],
   "source": [
    "app = # instance-based watermark removal"
   ]
  },
  {
   "cell_type": "markdown",
   "metadata": {},
   "source": [
    "##### run"
   ]
  },
  {
   "cell_type": "code",
   "execution_count": null,
   "metadata": {},
   "outputs": [],
   "source": [
    "# run"
   ]
  },
  {
   "cell_type": "markdown",
   "metadata": {},
   "source": [
    "##### visualize"
   ]
  },
  {
   "cell_type": "code",
   "execution_count": null,
   "metadata": {},
   "outputs": [],
   "source": [
    "# TO BE COMPLETED"
   ]
  },
  {
   "cell_type": "markdown",
   "metadata": {},
   "source": [
    "# Data Summarization"
   ]
  },
  {
   "cell_type": "markdown",
   "metadata": {},
   "source": [
    "##### data loading"
   ]
  },
  {
   "cell_type": "code",
   "execution_count": null,
   "metadata": {},
   "outputs": [],
   "source": [
    "# load UCI Adult dataset"
   ]
  },
  {
   "cell_type": "markdown",
   "metadata": {},
   "source": [
    "###### measure"
   ]
  },
  {
   "cell_type": "code",
   "execution_count": null,
   "metadata": {},
   "outputs": [],
   "source": [
    "measure = KNN_Shapley(K=5)"
   ]
  },
  {
   "cell_type": "markdown",
   "metadata": {},
   "source": [
    "##### application"
   ]
  },
  {
   "cell_type": "code",
   "execution_count": null,
   "metadata": {},
   "outputs": [],
   "source": [
    "app = # data summarization"
   ]
  },
  {
   "cell_type": "markdown",
   "metadata": {},
   "source": [
    "##### run"
   ]
  },
  {
   "cell_type": "code",
   "execution_count": null,
   "metadata": {},
   "outputs": [],
   "source": [
    "# run"
   ]
  },
  {
   "cell_type": "markdown",
   "metadata": {},
   "source": [
    "##### visualize"
   ]
  },
  {
   "cell_type": "code",
   "execution_count": null,
   "metadata": {},
   "outputs": [],
   "source": [
    "# TO BE COMPLETED"
   ]
  },
  {
   "cell_type": "markdown",
   "metadata": {},
   "source": [
    "# Data Acquisition"
   ]
  },
  {
   "cell_type": "markdown",
   "metadata": {},
   "source": [
    "##### data loading"
   ]
  },
  {
   "cell_type": "code",
   "execution_count": null,
   "metadata": {},
   "outputs": [],
   "source": [
    "# load MNIST"
   ]
  },
  {
   "cell_type": "markdown",
   "metadata": {},
   "source": [
    "###### measure"
   ]
  },
  {
   "cell_type": "code",
   "execution_count": null,
   "metadata": {},
   "outputs": [],
   "source": [
    "measure = KNN_Shapley(K=5)"
   ]
  },
  {
   "cell_type": "markdown",
   "metadata": {},
   "source": [
    "##### application"
   ]
  },
  {
   "cell_type": "code",
   "execution_count": null,
   "metadata": {},
   "outputs": [],
   "source": [
    "app = # data acquisition"
   ]
  },
  {
   "cell_type": "markdown",
   "metadata": {},
   "source": [
    "##### run"
   ]
  },
  {
   "cell_type": "code",
   "execution_count": null,
   "metadata": {},
   "outputs": [],
   "source": [
    "# run"
   ]
  },
  {
   "cell_type": "markdown",
   "metadata": {},
   "source": [
    "##### visualize"
   ]
  },
  {
   "cell_type": "code",
   "execution_count": null,
   "metadata": {},
   "outputs": [],
   "source": [
    "# TO BE COMPLETED"
   ]
  },
  {
   "cell_type": "markdown",
   "metadata": {},
   "source": [
    "# Domain Adapatation"
   ]
  },
  {
   "cell_type": "markdown",
   "metadata": {},
   "source": [
    "##### data loading"
   ]
  },
  {
   "cell_type": "code",
   "execution_count": null,
   "metadata": {},
   "outputs": [],
   "source": [
    "# load two datasets"
   ]
  },
  {
   "cell_type": "markdown",
   "metadata": {},
   "source": [
    "###### measure"
   ]
  },
  {
   "cell_type": "code",
   "execution_count": null,
   "metadata": {},
   "outputs": [],
   "source": [
    "measure = KNN_Shapley(K=5)"
   ]
  },
  {
   "cell_type": "markdown",
   "metadata": {},
   "source": [
    "##### application"
   ]
  },
  {
   "cell_type": "code",
   "execution_count": null,
   "metadata": {},
   "outputs": [],
   "source": [
    "app = # domain adaptation"
   ]
  },
  {
   "cell_type": "markdown",
   "metadata": {},
   "source": [
    "##### run"
   ]
  },
  {
   "cell_type": "code",
   "execution_count": null,
   "metadata": {},
   "outputs": [],
   "source": [
    "# run"
   ]
  },
  {
   "cell_type": "markdown",
   "metadata": {},
   "source": [
    "##### visualize"
   ]
  },
  {
   "cell_type": "code",
   "execution_count": null,
   "metadata": {},
   "outputs": [],
   "source": [
    "# TO BE COMPLETED"
   ]
  }
 ],
 "metadata": {
  "kernelspec": {
   "display_name": "Python 3",
   "language": "python",
   "name": "python3"
  },
  "language_info": {
   "codemirror_mode": {
    "name": "ipython",
    "version": 3
   },
   "file_extension": ".py",
   "mimetype": "text/x-python",
   "name": "python",
   "nbconvert_exporter": "python",
   "pygments_lexer": "ipython3",
   "version": "3.6.8"
  }
 },
 "nbformat": 4,
 "nbformat_minor": 2
}
