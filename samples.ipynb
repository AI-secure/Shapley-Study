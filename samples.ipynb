{
 "cells": [
  {
   "cell_type": "code",
   "execution_count": 1,
   "metadata": {
    "scrolled": true
   },
   "outputs": [
    {
     "name": "stderr",
     "output_type": "stream",
     "text": [
      "/home/zidaneandmessi/.local/lib/python3.6/site-packages/tensorflow/python/framework/dtypes.py:516: FutureWarning: Passing (type, 1) or '1type' as a synonym of type is deprecated; in a future version of numpy, it will be understood as (type, (1,)) / '(1,)type'.\n",
      "  _np_qint8 = np.dtype([(\"qint8\", np.int8, 1)])\n",
      "/home/zidaneandmessi/.local/lib/python3.6/site-packages/tensorflow/python/framework/dtypes.py:517: FutureWarning: Passing (type, 1) or '1type' as a synonym of type is deprecated; in a future version of numpy, it will be understood as (type, (1,)) / '(1,)type'.\n",
      "  _np_quint8 = np.dtype([(\"quint8\", np.uint8, 1)])\n",
      "/home/zidaneandmessi/.local/lib/python3.6/site-packages/tensorflow/python/framework/dtypes.py:518: FutureWarning: Passing (type, 1) or '1type' as a synonym of type is deprecated; in a future version of numpy, it will be understood as (type, (1,)) / '(1,)type'.\n",
      "  _np_qint16 = np.dtype([(\"qint16\", np.int16, 1)])\n",
      "/home/zidaneandmessi/.local/lib/python3.6/site-packages/tensorflow/python/framework/dtypes.py:519: FutureWarning: Passing (type, 1) or '1type' as a synonym of type is deprecated; in a future version of numpy, it will be understood as (type, (1,)) / '(1,)type'.\n",
      "  _np_quint16 = np.dtype([(\"quint16\", np.uint16, 1)])\n",
      "/home/zidaneandmessi/.local/lib/python3.6/site-packages/tensorflow/python/framework/dtypes.py:520: FutureWarning: Passing (type, 1) or '1type' as a synonym of type is deprecated; in a future version of numpy, it will be understood as (type, (1,)) / '(1,)type'.\n",
      "  _np_qint32 = np.dtype([(\"qint32\", np.int32, 1)])\n",
      "/home/zidaneandmessi/.local/lib/python3.6/site-packages/tensorflow/python/framework/dtypes.py:525: FutureWarning: Passing (type, 1) or '1type' as a synonym of type is deprecated; in a future version of numpy, it will be understood as (type, (1,)) / '(1,)type'.\n",
      "  np_resource = np.dtype([(\"resource\", np.ubyte, 1)])\n",
      "/home/zidaneandmessi/.local/lib/python3.6/site-packages/tensorboard/compat/tensorflow_stub/dtypes.py:541: FutureWarning: Passing (type, 1) or '1type' as a synonym of type is deprecated; in a future version of numpy, it will be understood as (type, (1,)) / '(1,)type'.\n",
      "  _np_qint8 = np.dtype([(\"qint8\", np.int8, 1)])\n",
      "/home/zidaneandmessi/.local/lib/python3.6/site-packages/tensorboard/compat/tensorflow_stub/dtypes.py:542: FutureWarning: Passing (type, 1) or '1type' as a synonym of type is deprecated; in a future version of numpy, it will be understood as (type, (1,)) / '(1,)type'.\n",
      "  _np_quint8 = np.dtype([(\"quint8\", np.uint8, 1)])\n",
      "/home/zidaneandmessi/.local/lib/python3.6/site-packages/tensorboard/compat/tensorflow_stub/dtypes.py:543: FutureWarning: Passing (type, 1) or '1type' as a synonym of type is deprecated; in a future version of numpy, it will be understood as (type, (1,)) / '(1,)type'.\n",
      "  _np_qint16 = np.dtype([(\"qint16\", np.int16, 1)])\n",
      "/home/zidaneandmessi/.local/lib/python3.6/site-packages/tensorboard/compat/tensorflow_stub/dtypes.py:544: FutureWarning: Passing (type, 1) or '1type' as a synonym of type is deprecated; in a future version of numpy, it will be understood as (type, (1,)) / '(1,)type'.\n",
      "  _np_quint16 = np.dtype([(\"quint16\", np.uint16, 1)])\n",
      "/home/zidaneandmessi/.local/lib/python3.6/site-packages/tensorboard/compat/tensorflow_stub/dtypes.py:545: FutureWarning: Passing (type, 1) or '1type' as a synonym of type is deprecated; in a future version of numpy, it will be understood as (type, (1,)) / '(1,)type'.\n",
      "  _np_qint32 = np.dtype([(\"qint32\", np.int32, 1)])\n",
      "/home/zidaneandmessi/.local/lib/python3.6/site-packages/tensorboard/compat/tensorflow_stub/dtypes.py:550: FutureWarning: Passing (type, 1) or '1type' as a synonym of type is deprecated; in a future version of numpy, it will be understood as (type, (1,)) / '(1,)type'.\n",
      "  np_resource = np.dtype([(\"resource\", np.ubyte, 1)])\n",
      "In /home/zidaneandmessi/.local/lib/python3.6/site-packages/matplotlib/mpl-data/stylelib/_classic_test.mplstyle: \n",
      "The text.latex.preview rcparam was deprecated in Matplotlib 3.3 and will be removed two minor releases later.\n",
      "In /home/zidaneandmessi/.local/lib/python3.6/site-packages/matplotlib/mpl-data/stylelib/_classic_test.mplstyle: \n",
      "The mathtext.fallback_to_cm rcparam was deprecated in Matplotlib 3.3 and will be removed two minor releases later.\n",
      "In /home/zidaneandmessi/.local/lib/python3.6/site-packages/matplotlib/mpl-data/stylelib/_classic_test.mplstyle: Support for setting the 'mathtext.fallback_to_cm' rcParam is deprecated since 3.3 and will be removed two minor releases later; use 'mathtext.fallback : 'cm' instead.\n",
      "In /home/zidaneandmessi/.local/lib/python3.6/site-packages/matplotlib/mpl-data/stylelib/_classic_test.mplstyle: \n",
      "The validate_bool_maybe_none function was deprecated in Matplotlib 3.3 and will be removed two minor releases later.\n",
      "In /home/zidaneandmessi/.local/lib/python3.6/site-packages/matplotlib/mpl-data/stylelib/_classic_test.mplstyle: \n",
      "The savefig.jpeg_quality rcparam was deprecated in Matplotlib 3.3 and will be removed two minor releases later.\n",
      "In /home/zidaneandmessi/.local/lib/python3.6/site-packages/matplotlib/mpl-data/stylelib/_classic_test.mplstyle: \n",
      "The keymap.all_axes rcparam was deprecated in Matplotlib 3.3 and will be removed two minor releases later.\n",
      "In /home/zidaneandmessi/.local/lib/python3.6/site-packages/matplotlib/mpl-data/stylelib/_classic_test.mplstyle: \n",
      "The animation.avconv_path rcparam was deprecated in Matplotlib 3.3 and will be removed two minor releases later.\n",
      "In /home/zidaneandmessi/.local/lib/python3.6/site-packages/matplotlib/mpl-data/stylelib/_classic_test.mplstyle: \n",
      "The animation.avconv_args rcparam was deprecated in Matplotlib 3.3 and will be removed two minor releases later.\n"
     ]
    }
   ],
   "source": [
    "#!/usr/bin/python\n",
    "from __future__ import absolute_import\n",
    "\n",
    "import numpy as np\n",
    "from tensorflow import keras\n",
    "import pickle\n",
    "import argparse\n",
    "import copy\n",
    "import random\n",
    "\n",
    "from shapley.apps import Label, Poisoning\n",
    "from shapley.loader import FashionMnist, MNIST\n",
    "from shapley.measures import KNN_Shapley, KNN_LOO, G_Shapley, LOO, TMC_Shapley\n",
    "from shapley.utils.plotter import LabelPlotter, PoisoningPlotter\n",
    "\n",
    "%matplotlib inline"
   ]
  },
  {
   "cell_type": "markdown",
   "metadata": {},
   "source": [
    "# Noisy Label Detection"
   ]
  },
  {
   "cell_type": "markdown",
   "metadata": {},
   "source": [
    "##### data loading"
   ]
  },
  {
   "cell_type": "code",
   "execution_count": null,
   "metadata": {},
   "outputs": [],
   "source": [
    "num = 1000\n",
    "#loader = MNIST(num_train=num, one_hot=False, shuffle=True, by_label=True)\n",
    "loader = FashionMnist(num_train=num)\n",
    "X_data, y_data, X_test_data, y_test_data = loader.prepare_data()"
   ]
  },
  {
   "cell_type": "markdown",
   "metadata": {},
   "source": [
    "###### measure"
   ]
  },
  {
   "cell_type": "code",
   "execution_count": null,
   "metadata": {},
   "outputs": [],
   "source": [
    "measure_KNN = KNN_Shapley(K=5)\n",
    "measure_KNNLOO = KNN_LOO(K=5)\n",
    "# measure = G_Shapley()\n",
    "# measure = TMC_Shapley()\n",
    "# measure = LOO()"
   ]
  },
  {
   "cell_type": "markdown",
   "metadata": {},
   "source": [
    "##### application"
   ]
  },
  {
   "cell_type": "code",
   "execution_count": null,
   "metadata": {},
   "outputs": [],
   "source": [
    "app = Label(X_data, y_data, X_test_data, y_test_data, model_family='NN')"
   ]
  },
  {
   "cell_type": "markdown",
   "metadata": {},
   "source": [
    "##### run"
   ]
  },
  {
   "cell_type": "code",
   "execution_count": null,
   "metadata": {
    "scrolled": false
   },
   "outputs": [],
   "source": [
    "res_knn = app.run(measure_KNN)\n",
    "res_knnloo = app.run(measure_KNNLOO)"
   ]
  },
  {
   "cell_type": "markdown",
   "metadata": {},
   "source": [
    "##### visualize"
   ]
  },
  {
   "cell_type": "code",
   "execution_count": null,
   "metadata": {},
   "outputs": [],
   "source": [
    "LabelPlotter(app, ('KNN-Shapley',res_knn), ('KNN-LOO',res_knnloo)).plot()"
   ]
  },
  {
   "cell_type": "markdown",
   "metadata": {},
   "source": [
    "# Pattern-based Watermark Removal"
   ]
  },
  {
   "cell_type": "markdown",
   "metadata": {},
   "source": [
    "##### data loading"
   ]
  },
  {
   "cell_type": "code",
   "execution_count": 2,
   "metadata": {
    "scrolled": true
   },
   "outputs": [],
   "source": [
    "num = 1000\n",
    "loader = FashionMnist(num_train=num)\n",
    "X_data, y_data, X_test_data, y_test_data = loader.prepare_data()"
   ]
  },
  {
   "cell_type": "markdown",
   "metadata": {},
   "source": [
    "###### measure"
   ]
  },
  {
   "cell_type": "code",
   "execution_count": 3,
   "metadata": {},
   "outputs": [],
   "source": [
    "measure_KNN = KNN_Shapley(K=5)\n",
    "measure_KNNLOO = KNN_LOO(K=5)"
   ]
  },
  {
   "cell_type": "markdown",
   "metadata": {},
   "source": [
    "##### application"
   ]
  },
  {
   "cell_type": "code",
   "execution_count": 4,
   "metadata": {},
   "outputs": [],
   "source": [
    "app = Poisoning(X_data, y_data, X_test_data, y_test_data, model_family='NN')"
   ]
  },
  {
   "cell_type": "markdown",
   "metadata": {},
   "source": [
    "##### run"
   ]
  },
  {
   "cell_type": "code",
   "execution_count": null,
   "metadata": {},
   "outputs": [
    {
     "name": "stdout",
     "output_type": "stream",
     "text": [
      "done!\n",
      "result shown below:\n",
      "[ 9.57917193e-04  9.32139859e-04  1.06305893e-03  1.76369357e-04\n",
      "  8.89899280e-04 -7.04438610e-04  7.05498645e-04  1.49505371e-04\n",
      "  8.55515620e-04  1.45748081e-03  1.16173499e-03  6.99311700e-04\n",
      "  6.79187235e-04  6.38301575e-04  1.21188007e-03  1.08445871e-03\n",
      "  1.05476239e-03 -4.16956496e-04  1.13673073e-03  8.44427549e-04\n",
      "  9.46335966e-04 -1.59260120e-03  1.08537192e-03  1.28756606e-03\n",
      "  7.12005658e-04 -6.85083598e-03  2.02937971e-03  9.80251426e-04\n",
      "  1.13986219e-03  1.15305328e-03  9.81813475e-04  1.02911247e-03\n",
      "  7.78581030e-04 -1.36602499e-04  8.27937129e-04  8.99714780e-04\n",
      "  2.21653193e-04  1.80692215e-03  3.82705059e-04  2.62721989e-04\n",
      "  6.56044568e-04 -3.00717288e-03  1.19363620e-03  7.39993739e-04\n",
      " -3.00036536e-04  9.72498947e-04  1.03915565e-03  1.88682334e-03\n",
      "  1.01621750e-03  4.61719143e-04  5.18072098e-04  7.08169333e-04\n",
      "  8.24795753e-04  1.31385443e-03  8.71812581e-04  1.22596713e-03\n",
      "  1.59904850e-03  2.31598413e-03  8.83994858e-04  1.07610560e-03\n",
      "  7.61682119e-04  1.15443404e-03  8.80736910e-04 -1.23465535e-03\n",
      "  9.19240820e-04  9.73641034e-04  6.69173606e-04  3.69663444e-03\n",
      "  6.67046344e-04  9.63120027e-04  9.31927126e-05  7.62904877e-04\n",
      "  1.42965890e-03  1.18382594e-03  3.98383957e-04  1.35577769e-03\n",
      "  9.78822507e-04  9.79399526e-04  1.12510468e-03  1.33521085e-03\n",
      "  4.16560257e-03 -2.20306295e-03 -1.01897614e-04 -8.86736720e-04\n",
      " -2.33868603e-03  5.98822091e-04 -3.94140426e-04  1.11018854e-03\n",
      "  6.53966390e-04  1.30747101e-03  1.63004241e-03 -2.19725485e-05\n",
      "  1.26462141e-03  9.20869639e-04  1.34421332e-03  1.05073215e-03\n",
      "  8.64469963e-04 -8.54999840e-03  7.79132891e-04  1.13721636e-03\n",
      "  3.88811188e-03 -4.11824687e-04  1.12879158e-05  7.62744796e-04\n",
      " -5.39925506e-05  1.42025092e-03  5.12769373e-04  6.56302850e-04\n",
      "  7.09837307e-04  5.05061068e-04  1.12059058e-03  1.05082537e-03\n",
      "  5.80437841e-04  9.01688052e-04  1.11285986e-03  4.84267742e-04\n",
      " -1.29513468e-03  2.88712469e-03  2.63777710e-04  9.87530085e-04\n",
      "  8.74197981e-04  8.48545542e-04  5.99897086e-04  9.44241770e-04\n",
      "  7.11691956e-04  7.38598686e-04  4.81898164e-04  1.31536857e-03\n",
      "  1.12260877e-03  1.36964509e-03  1.51209925e-03  2.76296252e-04\n",
      "  1.11227322e-03  1.38927284e-04  1.31382338e-03  8.22147361e-04\n",
      "  3.55104103e-04  1.07768192e-03  1.50727438e-03  7.46469441e-04\n",
      "  5.05787922e-03  2.08293996e-03  8.47028886e-04  1.11764450e-03\n",
      " -3.57240932e-04  9.19113927e-04  1.52490944e-03  7.96523310e-04\n",
      "  1.00357504e-04  8.88603562e-04  7.53105424e-04  1.16381836e-03\n",
      "  1.54033610e-03  5.57318682e-04  9.93712398e-04  9.69634215e-04\n",
      "  1.07270212e-03  8.00052067e-04  1.07960479e-03  5.68216326e-05\n",
      " -1.55865112e-03  5.17333894e-04  8.45122411e-04  1.09598883e-03\n",
      "  1.15984649e-04  1.28607973e-03  1.01643087e-03  6.96704488e-04\n",
      "  1.21717349e-04  9.84084323e-04  1.23304780e-03  1.14803372e-03\n",
      "  7.16343156e-04  1.05819195e-03  3.57703337e-04  6.17993335e-04\n",
      "  3.45279412e-04  1.92779724e-03  4.54828470e-04  1.88711017e-03\n",
      "  8.10093884e-04  7.76345560e-04  1.43382799e-03  9.34638522e-04\n",
      " -6.93949419e-04  5.83859129e-04  1.02806891e-03  1.27060117e-03\n",
      "  1.13503966e-03  1.00138574e-03  1.53072568e-03  4.33161815e-04\n",
      "  1.14486263e-03  1.15030266e-03 -1.39199002e-03  6.20561836e-04\n",
      "  1.47998886e-03  9.47790287e-04  3.27929635e-04  7.63093961e-04\n",
      "  8.98965282e-04  9.35064835e-04  4.35374849e-04  2.61998735e-03\n",
      "  1.17402316e-03  7.28388160e-04  1.00646247e-03  9.78457635e-04\n",
      "  8.78823526e-04  1.23127211e-03  9.08489806e-04 -4.39724235e-03\n",
      "  1.07514813e-03  9.71582453e-04  1.14660672e-03  1.20744480e-03\n",
      "  1.19798354e-03  6.53637199e-04  2.30897989e-03  1.31233714e-03\n",
      "  2.56295337e-04  1.44399957e-03  1.17896254e-03  8.51003178e-04\n",
      "  1.18044356e-03  8.87951918e-04  8.06679850e-04  3.25102997e-04\n",
      "  4.78151860e-04  6.81903247e-04  4.42242384e-04  1.40966346e-03\n",
      "  1.14014718e-03  1.07480650e-03 -3.79970971e-04  1.45350401e-03\n",
      "  1.79018237e-03  5.71720956e-04  1.22679923e-03  5.07245454e-04\n",
      "  8.17465535e-04  8.99447924e-04  1.79616924e-03  1.31580736e-03\n",
      " -1.35647513e-04  8.32913768e-04 -3.78304227e-04  1.12541377e-03\n",
      "  1.01638495e-03  1.13030872e-03  7.68915475e-04  3.59148407e-03\n",
      "  8.97229476e-04  3.32760231e-04  1.12001562e-03  1.63108813e-03\n",
      "  9.43527791e-04  1.91478594e-03  1.07793120e-03  4.73608690e-04\n",
      "  1.21689122e-03  9.00751494e-04  8.74570725e-04  9.54725188e-04\n",
      "  1.09947983e-03  1.09959009e-03  1.23644678e-03  7.72192929e-04\n",
      "  7.41779324e-04  6.06275625e-04  1.07426167e-03  4.08704978e-04\n",
      "  1.17650515e-03  1.04898184e-03  7.64724312e-04 -3.41802038e-03\n",
      "  1.98092534e-04 -2.05463733e-04  1.11624337e-03  9.40510405e-04\n",
      "  7.80254686e-04  2.27173420e-04  5.53078585e-04  4.56618796e-04\n",
      "  1.14928757e-03  1.06186077e-03  3.65509379e-04  8.49915288e-04\n",
      " -2.70368992e-04  7.24860683e-04  1.27055932e-03  1.05133790e-03\n",
      "  1.25015233e-03  8.39459189e-04  5.09910245e-04  4.98556893e-04\n",
      "  9.42521661e-04 -2.13781703e-04  1.02644342e-03 -3.84233788e-03\n",
      "  1.35178593e-03 -4.53699187e-04  9.97332947e-04  3.34314261e-03\n",
      "  5.11554528e-04  5.46142578e-04  6.79012602e-04  9.48506225e-04\n",
      "  1.89499401e-03  8.71512294e-04  3.82806259e-04  1.10611168e-03\n",
      "  8.96504688e-04  6.31034495e-04  9.13230459e-04  1.87662062e-03\n",
      "  8.90012628e-04  7.95096994e-05 -1.04466717e-04 -5.39743391e-04\n",
      " -1.01184453e-03  9.52420571e-04  1.16545564e-03 -1.18640137e-03\n",
      "  1.44386479e-03  4.11836227e-04  1.52305263e-03 -3.39919719e-05\n",
      "  6.09608343e-04  5.40578225e-04  1.25211719e-03  1.30174148e-03\n",
      "  1.28325776e-03  1.08382337e-03  1.19777762e-03  1.19203663e-03\n",
      "  8.81478434e-04 -1.14791481e-03  1.11787974e-03  4.47196717e-04\n",
      "  1.46557907e-03 -4.66557027e-03  9.87361852e-04  8.27244378e-04\n",
      "  1.22037414e-03  8.34506515e-04  2.61369085e-03 -7.81348995e-04\n",
      "  1.76018835e-03  7.93730532e-04  5.83228907e-04  4.43432496e-04\n",
      "  1.40509657e-03  1.06069391e-03  9.51163917e-04  9.68997284e-04\n",
      "  9.10847520e-04  1.13609454e-03  5.50985614e-04  1.07690135e-03\n",
      "  1.14295275e-03  5.22226811e-03  5.76938465e-04  1.13540809e-03\n",
      "  7.66965037e-04  1.52859536e-03  8.96000147e-04  1.19058945e-03\n",
      "  3.09679142e-04  1.88393212e-03 -3.81282603e-03  4.91799435e-04\n",
      "  2.37071470e-03 -2.19571288e-04  2.73310615e-04  1.72291222e-03\n",
      "  9.04898444e-04  9.71360059e-04  3.26600731e-04  9.00636150e-04\n",
      "  1.69457077e-03  3.44085998e-04  1.54116862e-03  5.11345689e-04\n",
      " -3.70799517e-04  1.02265906e-03  5.04892775e-04  1.03500873e-03\n",
      "  2.40649415e-04  7.19427928e-04  8.55432925e-04  9.39818034e-04\n",
      "  1.02200184e-03  7.87921376e-04  1.26412655e-03  9.96362203e-04\n",
      "  7.70616809e-04  7.54820074e-04  8.45923819e-04  7.46400847e-04\n",
      "  1.10559114e-03  6.03708924e-04  1.25702091e-03  3.86811018e-04\n",
      "  9.01290635e-04  1.03309247e-03  8.44168764e-04 -4.06887425e-03\n",
      "  6.08365794e-04  1.25806190e-03  2.04496823e-03  1.17425351e-03\n",
      "  7.12335577e-04  3.72314600e-04  1.36236265e-03  1.41317187e-03\n",
      "  1.21348528e-03  7.86398208e-04  5.52580575e-04  7.67049806e-04\n",
      " -1.31537312e-03 -1.47820998e-03  1.15570133e-03  6.01369540e-04\n",
      "  1.23881049e-03  1.09950171e-03  1.03031276e-03  6.52306304e-04\n",
      "  2.16849939e-03 -2.32002790e-03  1.31499165e-03  2.65136205e-04\n",
      "  1.07865267e-03 -2.26648063e-03  1.39588487e-03  2.21188161e-03\n",
      "  1.04069834e-03  1.83480988e-03  1.34833823e-03  1.37287028e-03\n",
      "  2.36804973e-03  6.78755644e-04  6.96265316e-04  7.38320586e-04\n",
      "  1.10806560e-03  1.19737936e-03  7.77555792e-04  9.67095669e-04\n",
      "  2.02589662e-03  9.77480440e-04  1.74477262e-04  1.38206764e-03\n",
      "  7.63517259e-04  9.89605572e-04  7.07277823e-04  5.36636076e-05\n",
      " -1.65492028e-03  9.48252504e-04  1.12162528e-03  1.07942681e-03\n",
      "  1.28656311e-03  9.02511274e-04  1.08927403e-03  1.73953941e-03\n",
      "  1.16451658e-03  1.88530166e-03  3.54164643e-04  6.25310795e-04\n",
      " -2.84104284e-03  8.75798261e-04  1.03141445e-03  3.98813425e-04\n",
      "  1.50152892e-03  1.20084149e-03  1.36712069e-03  1.07956083e-03\n",
      "  1.03288350e-03  1.10757562e-03  1.12417822e-03  1.09938434e-03\n",
      "  1.00005846e-03  1.55939819e-03  8.37511217e-04  1.18541785e-03\n",
      "  1.24250987e-03  8.88313384e-04  1.16570001e-03  8.62418493e-04\n",
      "  1.12100109e-03  1.21770537e-03  9.85663156e-04  1.18605174e-03\n",
      "  6.68294070e-04  1.23167825e-03  1.27706805e-03  1.19706395e-03\n",
      " -1.37277193e-03  1.56436642e-03  1.01194082e-03  1.82813066e-03\n",
      "  1.28866089e-03  1.07975259e-03  9.96307250e-04  9.79595771e-04\n",
      "  9.22751630e-04  1.14821410e-03  7.09184378e-04 -7.15064805e-04\n",
      "  7.50984396e-04  1.52368134e-03  2.33742096e-03  1.08320937e-03\n",
      "  9.65720146e-04 -5.03321333e-03 -1.96114325e-03 -4.99697584e-05\n",
      "  1.62973493e-03  1.17624907e-03  1.54027725e-03  1.40588180e-03\n",
      "  1.82603346e-03  8.04749810e-04  4.44367037e-03 -4.47207337e-04\n",
      "  9.56410642e-04  5.84808920e-04  4.58616951e-04  9.68553986e-04\n",
      "  3.25490018e-04  4.92585371e-04  1.23799076e-03 -4.24744986e-04\n",
      "  1.14230180e-03  1.24085707e-03 -2.60953396e-04  6.19089795e-04\n",
      "  1.60973427e-03 -4.16018987e-05  1.23747296e-04  5.28892624e-04\n",
      "  1.24789070e-03  6.34698348e-04  1.66405908e-03  1.77388808e-03\n",
      "  6.43922394e-04  7.49260163e-04  1.69363174e-03  6.92992991e-04\n",
      "  1.43812123e-03  1.00782340e-03  9.64294673e-04  1.14601617e-03\n",
      "  6.54152686e-04  1.05441759e-03  3.49156374e-04  5.64610483e-04\n",
      "  6.27692567e-04  7.37608719e-04  1.08425646e-03  1.01806419e-03\n",
      " -4.23612640e-04  2.79015112e-03  2.08972404e-03  1.14618591e-03\n",
      "  1.45388716e-03  1.32121236e-03  8.50200123e-04  9.17292004e-04\n",
      "  1.97933225e-03  8.09623644e-04  6.97753188e-04  4.95825899e-04\n",
      " -2.02315216e-03  1.15517934e-03  1.06926788e-03  1.24694117e-03\n",
      "  1.93017530e-03  2.09593274e-03  8.90154562e-04  1.09216455e-03\n",
      " -1.95693985e-03  1.20246034e-03  1.21314946e-03  1.03564959e-03\n",
      "  9.74612480e-04 -1.81368760e-04  7.45471431e-04  2.12952283e-04\n",
      "  7.93554710e-04  6.83377114e-04  1.51067087e-03 -2.89683245e-03\n",
      "  1.04898722e-03  8.42812950e-04  1.03006376e-03  1.36130500e-03\n",
      "  8.74548596e-04  5.17854827e-04  3.86900684e-03  1.57512107e-03\n",
      "  1.03850225e-03  9.61115361e-04  5.31854783e-04  1.18508685e-03\n",
      "  1.27106197e-03  1.93615124e-03  4.61590795e-04  1.28272149e-03\n",
      "  7.55276852e-04  5.68505542e-04  1.76994586e-03 -6.08131526e-04\n",
      "  7.85701111e-04  8.36339244e-04  1.52424942e-03  2.51992784e-03\n",
      "  6.34243428e-04  2.57281126e-04  2.38232990e-04  5.61829963e-04\n",
      "  1.06907168e-03  1.73401408e-03  7.86236128e-04  1.07806813e-03\n",
      "  2.11683146e-04 -2.62805966e-03  1.58363698e-03 -1.63816517e-03\n",
      "  6.32057834e-04  7.74796498e-04  9.92090878e-04  3.81991700e-05\n",
      "  1.21271049e-03  2.75383596e-03  1.31104036e-03  2.03687424e-03\n",
      " -1.15396452e-03  7.95582406e-04  4.83882262e-04  8.35800583e-04\n",
      "  1.14399859e-03  5.76878891e-04  1.23120342e-03 -1.60350170e-04\n",
      "  6.61965585e-04  2.13026136e-04  2.10305006e-03  6.00986879e-04\n",
      "  1.56366514e-03  4.31832105e-04 -1.04661060e-03  1.11209751e-03\n",
      "  1.41191590e-03  4.75091645e-04  9.79885882e-04  9.25742427e-04\n",
      "  8.89244396e-04  1.06449831e-03  2.23199522e-03  7.17816180e-04\n",
      " -2.23404394e-03 -1.99580443e-04 -5.78006700e-04  7.86450449e-04\n",
      "  1.11261156e-03  2.41762482e-03  6.37728225e-04  1.07567284e-03\n",
      " -2.10334341e-03  1.47756774e-03  1.14563149e-03  7.19590250e-04\n",
      "  1.28018291e-03  1.23744988e-03  9.07051101e-04  5.94341865e-04\n",
      "  1.14555927e-03 -1.57223294e-03  1.20485975e-03  1.19882874e-03\n",
      "  1.17159172e-03  1.40805052e-03 -1.08113548e-03  1.18230035e-03\n",
      "  1.03126527e-03  5.49488165e-04  8.93334405e-04  7.29924276e-04\n",
      "  6.50044432e-04  1.49072692e-03  1.04390463e-03  1.46011955e-03\n",
      "  9.16241307e-04  1.01480405e-03  4.22756183e-04  4.54188460e-04\n",
      " -1.89068465e-03  1.12497368e-03  1.88198731e-04  2.32096877e-03\n",
      "  4.48204644e-05  9.81361665e-04  1.39803371e-03  5.90972237e-04\n",
      "  6.01449344e-04  1.17305281e-03  1.05568352e-03  1.44155905e-03\n",
      "  8.23956073e-04  1.02637012e-03  1.11225197e-03 -9.38224324e-04\n",
      "  9.98627009e-04  1.17248051e-03  8.60372020e-04  1.18742525e-03\n",
      "  3.86059541e-04  1.05701538e-03  1.35832084e-03  7.87706256e-04\n",
      "  1.05478254e-03  9.25933080e-04 -1.20222071e-04  4.29349782e-04\n",
      "  1.52294880e-03 -1.85101688e-03  6.07994289e-05  7.75436046e-04\n",
      "  2.01987373e-04  1.47384931e-03  8.98870707e-04  1.53626201e-03\n",
      "  5.98967963e-04  1.55261498e-03  9.97292026e-04 -1.17573382e-03\n",
      "  1.59601415e-04  2.05582473e-03  2.94439377e-04  1.10156105e-03\n",
      " -1.66127984e-03  1.41579383e-04  1.20131267e-03  2.31123022e-03\n",
      " -1.62278786e-03  9.42625855e-05  8.51840393e-04  1.02456957e-03\n",
      "  7.26148550e-04  9.90467174e-04  1.36643060e-03  5.03110615e-04\n",
      "  9.56911098e-04  9.19687932e-04  3.65788666e-04  2.36124787e-04\n",
      "  8.88341232e-04  1.34132841e-03  9.06013727e-04  5.12662098e-04\n",
      "  7.42263343e-04  1.02856111e-03  7.84201219e-04  1.08456190e-03\n",
      "  2.11128320e-03  7.51773844e-04  1.04880203e-03  1.20623137e-03\n",
      "  1.71191773e-03  2.15375408e-04  1.32373249e-03  7.66075949e-04\n",
      "  1.21111152e-03  6.52968027e-04  1.35880789e-03  1.06164951e-03\n",
      "  5.66906766e-04  2.51817095e-04 -2.97367202e-04  1.45645236e-03\n",
      "  7.44047046e-04 -3.37012227e-03  4.75939777e-04 -2.01334053e-03\n",
      "  1.36315467e-03 -4.83632410e-04  9.32867871e-04  9.55007558e-04\n",
      "  1.07002976e-03  1.30776216e-03  7.17444748e-04  8.91729205e-04\n",
      "  1.55710117e-03  1.17262734e-03  7.72128970e-05 -4.24270845e-05\n",
      "  1.17532945e-03  1.29330090e-03  2.79528790e-04  1.46440558e-03\n",
      "  8.96385256e-04  1.32998138e-03  1.27074525e-03  3.70809427e-03\n",
      "  1.27343816e-03 -1.15119350e-03  1.40573862e-04  8.96930913e-04\n",
      "  9.76699708e-04  9.72833930e-04  1.64120674e-04  3.38186223e-04\n",
      "  7.84761060e-04  1.60760205e-03  5.48035166e-04  9.68364066e-04\n",
      "  1.64022787e-03  4.48239459e-04  6.90928610e-04  1.31782679e-03\n",
      "  7.85220153e-04  5.03479143e-04  4.77348819e-04  8.81717214e-04\n",
      "  1.16137033e-03  1.03729141e-03  1.14751745e-03  1.03651960e-03\n",
      "  7.12376187e-04  8.57667824e-04  1.24927720e-03  1.14039182e-03\n",
      "  1.95241803e-03  8.19867196e-04  1.61178186e-03  4.07970647e-04\n",
      "  1.12717314e-03  9.13228741e-04  7.48068906e-04  1.21691415e-03\n",
      "  9.04794381e-04  1.36155872e-03  1.66979100e-03  1.05628362e-03\n",
      " -1.57435283e-04  9.25073422e-04  9.99815279e-04  1.90529038e-03\n",
      "  9.27316269e-04 -1.64026573e-03  8.77729033e-04  1.09773105e-03\n",
      "  3.67577769e-05  1.52854958e-03 -6.70905292e-04  1.69932326e-03\n",
      "  7.77313121e-04  7.10662860e-04  9.10023957e-04  6.76385386e-04\n",
      "  1.03381516e-03  1.29411900e-03  8.36349795e-04  1.15016440e-03\n",
      "  1.77247757e-03  8.33172410e-04  5.88978551e-04  1.14492224e-03\n",
      "  2.41311495e-03  4.62702807e-04  9.34723279e-04  6.15047006e-04\n",
      "  1.38811489e-03  2.59657459e-03  1.09960696e-03  7.62177048e-04\n",
      "  1.78636500e-03  1.24468196e-03  1.48820976e-04  1.06662162e-03\n",
      "  1.17506744e-03  1.98948216e-04  2.16812419e-04  7.53331877e-04\n",
      "  1.09872825e-03  1.25210791e-03  9.47756226e-04  1.35273986e-03\n",
      "  7.04297568e-04  7.58167110e-04  8.90848680e-04  8.45469013e-04\n",
      "  1.12053954e-03  1.92399059e-03 -1.89793312e-04  5.68638528e-04\n",
      "  1.73705132e-03  2.09776083e-05  1.13781673e-03  1.02014371e-03\n",
      "  8.19964168e-04  8.45536622e-04  1.53603776e-03  1.79840281e-03\n",
      "  4.86521713e-04  1.03230534e-03  1.49020821e-03  1.89485736e-03\n",
      "  1.16966765e-03  9.43571414e-04  1.03944665e-03  1.27602557e-03\n",
      "  1.00500218e-03  1.15496070e-03  1.11537525e-03  1.41708691e-03\n",
      "  1.20436062e-03  1.98622004e-04  1.32304297e-03  1.27228412e-03\n",
      "  8.63713503e-04  1.56433862e-03  1.38357237e-03  2.85187762e-03\n",
      "  1.03320971e-03  1.41556720e-03  1.62991392e-03  1.00766892e-03\n",
      " -7.66158745e-04  1.15377270e-03  1.01450534e-05  1.09456133e-03\n",
      "  1.42453094e-03  6.83490309e-04  1.21243801e-03  1.59921997e-03\n",
      "  8.82468199e-04  1.04301124e-03  7.40756543e-04  1.21878134e-03\n",
      "  8.04379311e-04  7.54526834e-04  1.30012241e-03  1.00231721e-03\n",
      "  9.31493988e-04  8.38232785e-04  4.01341458e-04  1.46997060e-03\n",
      "  1.56955136e-03  1.26662660e-03  7.72861977e-04  7.96003403e-04\n",
      "  8.50356828e-04  8.37604967e-04  1.22650492e-03  9.00230540e-04\n",
      "  1.19104130e-03  1.06175216e-03  8.68286535e-04  1.33926497e-03\n",
      "  1.38797767e-03  4.46711086e-04  6.62606286e-04  9.32403221e-04\n",
      "  1.11414405e-03 -5.56088404e-04  1.69987150e-03  3.14830336e-04\n",
      "  8.22943702e-04  7.52750891e-04  1.23402637e-03  8.98556588e-04\n",
      "  1.02205463e-03  1.02016065e-03  1.08445762e-03  1.00984042e-03\n",
      "  1.18123399e-03  1.17804802e-03  9.70674004e-04  3.65149076e-04\n",
      " -7.06855842e-04  1.50186215e-03 -3.18791652e-03  8.86147616e-04\n",
      "  1.23768006e-03  8.75869675e-04  8.85290455e-04  1.89533538e-03\n",
      " -1.88036625e-03  1.56258263e-03  5.53958101e-04  1.10558447e-03\n",
      "  1.25391480e-03  1.51098674e-03  9.95743491e-04  9.35187804e-04\n",
      "  9.42491686e-04 -1.11352259e-03  1.23146651e-03  9.25665944e-04]\n"
     ]
    }
   ],
   "source": [
    "res_knn = app.run(measure_KNN)\n",
    "res_knnloo = app.run(measure_KNNLOO)"
   ]
  },
  {
   "cell_type": "markdown",
   "metadata": {},
   "source": [
    "##### visualize"
   ]
  },
  {
   "cell_type": "code",
   "execution_count": null,
   "metadata": {},
   "outputs": [],
   "source": [
    "PoisoningPlotter(app, ('KNN-Shapley',res_knn), ('KNN-LOO',res_knnloo)).plot()"
   ]
  },
  {
   "cell_type": "markdown",
   "metadata": {},
   "source": [
    "# Instance-based Watermark Removal"
   ]
  },
  {
   "cell_type": "markdown",
   "metadata": {},
   "source": [
    "##### data loading"
   ]
  },
  {
   "cell_type": "code",
   "execution_count": null,
   "metadata": {},
   "outputs": [],
   "source": [
    "# load MNIST"
   ]
  },
  {
   "cell_type": "markdown",
   "metadata": {},
   "source": [
    "###### measure"
   ]
  },
  {
   "cell_type": "code",
   "execution_count": null,
   "metadata": {},
   "outputs": [],
   "source": [
    "measure = KNN_Shapley(K=5)"
   ]
  },
  {
   "cell_type": "markdown",
   "metadata": {},
   "source": [
    "##### application"
   ]
  },
  {
   "cell_type": "code",
   "execution_count": null,
   "metadata": {},
   "outputs": [],
   "source": [
    "app = # instance-based watermark removal"
   ]
  },
  {
   "cell_type": "markdown",
   "metadata": {},
   "source": [
    "##### run"
   ]
  },
  {
   "cell_type": "code",
   "execution_count": null,
   "metadata": {},
   "outputs": [],
   "source": [
    "# run"
   ]
  },
  {
   "cell_type": "markdown",
   "metadata": {},
   "source": [
    "##### visualize"
   ]
  },
  {
   "cell_type": "code",
   "execution_count": null,
   "metadata": {},
   "outputs": [],
   "source": [
    "# TO BE COMPLETED"
   ]
  },
  {
   "cell_type": "markdown",
   "metadata": {},
   "source": [
    "# Data Summarization"
   ]
  },
  {
   "cell_type": "markdown",
   "metadata": {},
   "source": [
    "##### data loading"
   ]
  },
  {
   "cell_type": "code",
   "execution_count": null,
   "metadata": {},
   "outputs": [],
   "source": [
    "# load UCI Adult dataset"
   ]
  },
  {
   "cell_type": "markdown",
   "metadata": {},
   "source": [
    "###### measure"
   ]
  },
  {
   "cell_type": "code",
   "execution_count": null,
   "metadata": {},
   "outputs": [],
   "source": [
    "measure = KNN_Shapley(K=5)"
   ]
  },
  {
   "cell_type": "markdown",
   "metadata": {},
   "source": [
    "##### application"
   ]
  },
  {
   "cell_type": "code",
   "execution_count": null,
   "metadata": {},
   "outputs": [],
   "source": [
    "app = # data summarization"
   ]
  },
  {
   "cell_type": "markdown",
   "metadata": {},
   "source": [
    "##### run"
   ]
  },
  {
   "cell_type": "code",
   "execution_count": null,
   "metadata": {},
   "outputs": [],
   "source": [
    "# run"
   ]
  },
  {
   "cell_type": "markdown",
   "metadata": {},
   "source": [
    "##### visualize"
   ]
  },
  {
   "cell_type": "code",
   "execution_count": null,
   "metadata": {},
   "outputs": [],
   "source": [
    "# TO BE COMPLETED"
   ]
  },
  {
   "cell_type": "markdown",
   "metadata": {},
   "source": [
    "# Data Acquisition"
   ]
  },
  {
   "cell_type": "markdown",
   "metadata": {},
   "source": [
    "##### data loading"
   ]
  },
  {
   "cell_type": "code",
   "execution_count": null,
   "metadata": {},
   "outputs": [],
   "source": [
    "# load MNIST"
   ]
  },
  {
   "cell_type": "markdown",
   "metadata": {},
   "source": [
    "###### measure"
   ]
  },
  {
   "cell_type": "code",
   "execution_count": null,
   "metadata": {},
   "outputs": [],
   "source": [
    "measure = KNN_Shapley(K=5)"
   ]
  },
  {
   "cell_type": "markdown",
   "metadata": {},
   "source": [
    "##### application"
   ]
  },
  {
   "cell_type": "code",
   "execution_count": null,
   "metadata": {},
   "outputs": [],
   "source": [
    "app = # data acquisition"
   ]
  },
  {
   "cell_type": "markdown",
   "metadata": {},
   "source": [
    "##### run"
   ]
  },
  {
   "cell_type": "code",
   "execution_count": null,
   "metadata": {},
   "outputs": [],
   "source": [
    "# run"
   ]
  },
  {
   "cell_type": "markdown",
   "metadata": {},
   "source": [
    "##### visualize"
   ]
  },
  {
   "cell_type": "code",
   "execution_count": null,
   "metadata": {},
   "outputs": [],
   "source": [
    "# TO BE COMPLETED"
   ]
  },
  {
   "cell_type": "markdown",
   "metadata": {},
   "source": [
    "# Domain Adapatation"
   ]
  },
  {
   "cell_type": "markdown",
   "metadata": {},
   "source": [
    "##### data loading"
   ]
  },
  {
   "cell_type": "code",
   "execution_count": null,
   "metadata": {},
   "outputs": [],
   "source": [
    "# load two datasets"
   ]
  },
  {
   "cell_type": "markdown",
   "metadata": {},
   "source": [
    "###### measure"
   ]
  },
  {
   "cell_type": "code",
   "execution_count": null,
   "metadata": {},
   "outputs": [],
   "source": [
    "measure = KNN_Shapley(K=5)"
   ]
  },
  {
   "cell_type": "markdown",
   "metadata": {},
   "source": [
    "##### application"
   ]
  },
  {
   "cell_type": "code",
   "execution_count": null,
   "metadata": {},
   "outputs": [],
   "source": [
    "app = # domain adaptation"
   ]
  },
  {
   "cell_type": "markdown",
   "metadata": {},
   "source": [
    "##### run"
   ]
  },
  {
   "cell_type": "code",
   "execution_count": null,
   "metadata": {},
   "outputs": [],
   "source": [
    "# run"
   ]
  },
  {
   "cell_type": "markdown",
   "metadata": {},
   "source": [
    "##### visualize"
   ]
  },
  {
   "cell_type": "code",
   "execution_count": null,
   "metadata": {},
   "outputs": [],
   "source": [
    "# TO BE COMPLETED"
   ]
  }
 ],
 "metadata": {
  "kernelspec": {
   "display_name": "Python 3",
   "language": "python",
   "name": "python3"
  },
  "language_info": {
   "codemirror_mode": {
    "name": "ipython",
    "version": 3
   },
   "file_extension": ".py",
   "mimetype": "text/x-python",
   "name": "python",
   "nbconvert_exporter": "python",
   "pygments_lexer": "ipython3",
   "version": "3.6.8"
  }
 },
 "nbformat": 4,
 "nbformat_minor": 2
}
